{
 "cells": [
  {
   "cell_type": "markdown",
   "metadata": {},
   "source": [
    "# NLP FS25 Course Project 1: Word embeddings / RNN\n",
    "\n",
    "By David Hodel\n",
    "\n",
    "Weighs & Biases Project: https://wandb.ai/dhodel-hslu-nlp/hslu-fs25-nlp-qa"
   ]
  },
  {
   "cell_type": "markdown",
   "metadata": {},
   "source": [
    "## Introduction\n",
    "\n",
    "In this notebook, I present my solution to the first course project of the FS25 NLP module @ HSLU.\n",
    "\n",
    "I'll train two models, one using word embeddings and one using RNNs.\n",
    "\n",
    "### Dataset\n",
    "\n",
    "The task is to train answer commonsense question using word embeddings and RNNs. The CommonsenseQA ([Talmor et al., 2019](https://aclanthology.org/N19-1421/)) dataset is used for his purpose. The dataset consists of 12,247 questions with 5 choices each, where only one is correct. The questions are designed to require commonsense reasoning to answer correctly."
   ]
  },
  {
   "cell_type": "markdown",
   "metadata": {},
   "source": [
    "## Setup"
   ]
  },
  {
   "cell_type": "markdown",
   "metadata": {},
   "source": [
    "We first import the necessary libraries to run the code."
   ]
  },
  {
   "cell_type": "code",
   "execution_count": 1,
   "metadata": {},
   "outputs": [],
   "source": [
    "import os\n",
    "\n",
    "from collections import Counter\n",
    "from datetime import datetime\n",
    "\n",
    "from datasets import load_dataset\n",
    "import matplotlib.pyplot as plt\n",
    "from nltk.tokenize import word_tokenize\n",
    "from torch.utils.data import Dataset, DataLoader\n",
    "from torch.nn.utils.rnn import pack_padded_sequence\n",
    "import torch.nn as nn\n",
    "import numpy as np\n",
    "from tqdm import trange\n",
    "import gensim\n",
    "from huggingface_hub import hf_hub_download\n",
    "import seaborn as sns\n",
    "from sklearn.metrics import classification_report, confusion_matrix\n",
    "import torcheval.metrics as metrics\n",
    "\n",
    "import torch\n",
    "import nltk\n",
    "import wandb"
   ]
  },
  {
   "cell_type": "markdown",
   "metadata": {},
   "source": [
    "We set up a fixed random seed to ensure reproducibility."
   ]
  },
  {
   "cell_type": "code",
   "execution_count": 2,
   "metadata": {},
   "outputs": [],
   "source": [
    "SEED = 42\n",
    "\n",
    "np.random.seed(SEED)\n",
    "torch.manual_seed(SEED)\n",
    "torch.cuda.manual_seed(SEED)"
   ]
  },
  {
   "cell_type": "markdown",
   "metadata": {},
   "source": [
    "We download the necessary files for the tokenizer from the `nltk` library and pretrained weights for the fasttext embedding model.\n",
    "\n",
    "The embeddings were trained for 157 languages on Common Crawl and Wikipedia using fastText. The model was training using CBOW (continuous Bag of Words) in 300 dimensions."
   ]
  },
  {
   "cell_type": "code",
   "execution_count": 3,
   "metadata": {},
   "outputs": [
    {
     "name": "stderr",
     "output_type": "stream",
     "text": [
      "[nltk_data] Downloading package punkt_tab to /home/david/nltk_data...\n",
      "[nltk_data]   Package punkt_tab is already up-to-date!\n"
     ]
    }
   ],
   "source": [
    "nltk.download('punkt_tab')\n",
    "model_path = hf_hub_download(\"facebook/fasttext-en-vectors\", \"model.bin\")"
   ]
  },
  {
   "cell_type": "markdown",
   "metadata": {},
   "source": [
    "I decided to use fasttext embeddings as they natively support out-of-vocabulary words as it uses subword information.\n",
    "\n",
    "I use the Gensim library to fetch and load the fasttext embeddings."
   ]
  },
  {
   "cell_type": "code",
   "execution_count": 4,
   "metadata": {},
   "outputs": [],
   "source": [
    "fasttext_model = gensim.models.fasttext.load_facebook_model(model_path)\n",
    "wv = fasttext_model.wv"
   ]
  },
  {
   "cell_type": "markdown",
   "metadata": {},
   "source": [
    "### Data Splits\n",
    "\n",
    "The data is available on Hugging Face: https://huggingface.co/datasets/tau/commonsense_qa.\n",
    "Since only the train and validation splits have an answer key, we will use our own dataset splits.\n",
    "We separate the last 1'000 samples from the training set as the validation set and use the original validation set as the test set."
   ]
  },
  {
   "cell_type": "code",
   "execution_count": 5,
   "metadata": {},
   "outputs": [
    {
     "name": "stdout",
     "output_type": "stream",
     "text": [
      "8741 1000 1221\n"
     ]
    }
   ],
   "source": [
    "train = load_dataset(\"tau/commonsense_qa\", split=\"train[:-1000]\")\n",
    "valid = load_dataset(\"tau/commonsense_qa\", split=\"train[-1000:]\")\n",
    "test = load_dataset(\"tau/commonsense_qa\", split=\"validation\")\n",
    "\n",
    "print(len(train), len(valid), len(test))"
   ]
  },
  {
   "cell_type": "markdown",
   "metadata": {},
   "source": [
    "## Data Exploration"
   ]
  },
  {
   "cell_type": "markdown",
   "metadata": {},
   "source": [
    "First, we want to take a look at the data to understand its structure and content."
   ]
  },
  {
   "cell_type": "code",
   "execution_count": 6,
   "metadata": {},
   "outputs": [],
   "source": [
    "datasets = {\n",
    "  \"train\": train,\n",
    "  \"validation\": valid,\n",
    "  \"test\": test\n",
    "}"
   ]
  },
  {
   "cell_type": "markdown",
   "metadata": {},
   "source": [
    "We ensure that all three splits have the same structure and that the answers are in the same format."
   ]
  },
  {
   "cell_type": "code",
   "execution_count": 7,
   "metadata": {},
   "outputs": [
    {
     "name": "stdout",
     "output_type": "stream",
     "text": [
      "['id', 'question', 'question_concept', 'choices', 'answerKey']\n",
      "{'id': '075e483d21c29a511267ef62bedc0461', 'question': 'The sanctions against the school were a punishing blow, and they seemed to what the efforts the school had made to change?', 'question_concept': 'punishing', 'choices': {'label': ['A', 'B', 'C', 'D', 'E'], 'text': ['ignore', 'enforce', 'authoritarian', 'yell at', 'avoid']}, 'answerKey': 'A'}\n",
      "Unique answer keys: {'A', 'C', 'E', 'D', 'B'}\n"
     ]
    }
   ],
   "source": [
    "print(train.column_names)\n",
    "assert train.column_names == valid.column_names == test.column_names\n",
    "\n",
    "print(train[0])\n",
    "\n",
    "unique_answers = set([ex[\"answerKey\"] for ex in train] + [ex[\"answerKey\"] for ex in valid] + [ex[\"answerKey\"] for ex in test])\n",
    "print(f\"Unique answer keys: {unique_answers}\")"
   ]
  },
  {
   "cell_type": "markdown",
   "metadata": {},
   "source": [
    "We then display a sample question and its answer for each split to get a feeling of the type of questions and answers."
   ]
  },
  {
   "cell_type": "code",
   "execution_count": 8,
   "metadata": {},
   "outputs": [
    {
     "name": "stdout",
     "output_type": "stream",
     "text": [
      "\n",
      "=== train Split ===\n",
      "Question: The sanctions against the school were a punishing blow, and they seemed to what the efforts the school had made to change?\n",
      "A) ignore\n",
      "B) enforce\n",
      "C) authoritarian\n",
      "D) yell at\n",
      "E) avoid\n",
      "Correct Answer: A\n",
      "==================================================\n",
      "\n",
      "=== validation Split ===\n",
      "Question: What is a well known way for couples  of celebrating a marriage?\n",
      "A) eat cake\n",
      "B) getting drunk\n",
      "C) having sex\n",
      "D) cleaning rooms\n",
      "E) drink too much\n",
      "Correct Answer: C\n",
      "==================================================\n",
      "\n",
      "=== test Split ===\n",
      "Question: A revolving door is convenient for two direction travel, but it also serves as a security measure at a what?\n",
      "A) bank\n",
      "B) library\n",
      "C) department store\n",
      "D) mall\n",
      "E) new york\n",
      "Correct Answer: A\n",
      "==================================================\n"
     ]
    }
   ],
   "source": [
    "for split, data in datasets.items():\n",
    "    print(f\"\\n=== {split} Split ===\")\n",
    "    print(f\"Question: {data[0]['question']}\")\n",
    "    for j, choice in enumerate(data[0]['choices']['text']):\n",
    "        print(f\"{chr(65+j)}) {choice}\")  # A, B, C, etc.\n",
    "    print(f\"Correct Answer: {data[0]['answerKey']}\")\n",
    "    print(\"=\" * 50)"
   ]
  },
  {
   "cell_type": "markdown",
   "metadata": {},
   "source": [
    "We plot the distribution of the answer keys (`A` - `E`) to see if there's a clear imbalance or pattern."
   ]
  },
  {
   "cell_type": "code",
   "execution_count": 9,
   "metadata": {},
   "outputs": [
    {
     "data": {
      "image/png": "[encoded data removed]",
      "text/plain": [
       "<Figure size 1200x500 with 3 Axes>"
      ]
     },
     "metadata": {},
     "output_type": "display_data"
    }
   ],
   "source": [
    "plt.figure(figsize=(12, 5))\n",
    "\n",
    "for i, (split, data) in enumerate(datasets.items(), 1):\n",
    "    answer_counts = Counter([ex[\"answerKey\"] for ex in data])\n",
    "\n",
    "    plt.subplot(1, 3, i)\n",
    "    plt.bar(sorted(answer_counts.keys()), answer_counts.values())\n",
    "    plt.xlabel(\"Answer Labels\")\n",
    "    plt.ylabel(\"Absolute Frequency\")\n",
    "    plt.title(f\"{split} Answer Key Distribution\")\n",
    "\n",
    "plt.tight_layout()\n",
    "plt.show()"
   ]
  },
  {
   "cell_type": "markdown",
   "metadata": {},
   "source": [
    "We see that the distribution is relatively balanced, with a slight preference for answer `B` in the validation and test set."
   ]
  },
  {
   "cell_type": "markdown",
   "metadata": {},
   "source": [
    "We also plot the distribution of the number of characters in the questions."
   ]
  },
  {
   "cell_type": "code",
   "execution_count": 11,
   "metadata": {},
   "outputs": [
    {
     "name": "stdout",
     "output_type": "stream",
     "text": [
      "Min. question length in split train: 15, max. length: 376\n",
      "Min. question length in split validation: 20, max. length: 270\n",
      "Min. question length in split test: 21, max. length: 279\n"
     ]
    },
    {
     "data": {
      "image/png": "[encoded data removed]",
      "text/plain": [
       "<Figure size 1200x500 with 3 Axes>"
      ]
     },
     "metadata": {},
     "output_type": "display_data"
    }
   ],
   "source": [
    "plt.figure(figsize=(12, 5))\n",
    "\n",
    "for i, (split, data) in enumerate(datasets.items(), 1):\n",
    "    question_lengths = [len(ex[\"question\"]) for ex in data]\n",
    "\n",
    "    plt.subplot(1, 3, i)\n",
    "    plt.hist(question_lengths, bins=20)\n",
    "    plt.xlabel(\"Question Length (characters)\")\n",
    "    plt.ylabel(\"Absolute Frequency\")\n",
    "    plt.title(f\"{split} Question Length Distribution\")\n",
    "    print(f\"Min. question length in split {split}: {min(question_lengths)}, max. length: {max(question_lengths)}\")\n",
    "\n",
    "plt.tight_layout()\n",
    "plt.show()"
   ]
  },
  {
   "cell_type": "markdown",
   "metadata": {},
   "source": [
    "## Preprocessing"
   ]
  },
  {
   "cell_type": "markdown",
   "metadata": {},
   "source": [
    "First, we preprocess the raw text data to make it suitable for the model.\n",
    "\n",
    "We use the word tokenizer from the `nltk` library to split the text into word tokens.\n",
    "\n",
    "We don't lowercase the text as it may contain important information such as `I` or `US` and because fasttext can naturally handle different cases.\n",
    "\n",
    "We also don't remove stopwords or punctuation as they may also contain important information for the model for answering the questions.\n",
    "\n",
    "Stemming or lemmatization is not necessary as fasttext can handle different forms of words. Even more, it may be counterproductive as it may remove important information from the text such as time or location information.\n",
    "\n",
    "Removal of unknown words is not necessary as fasttext word vectors are built from vectors of substrings of characters contained in it. This allows to build vectors even for misspelled words or concatenation of words.\n",
    "\n",
    "As the longest question only has 376 characters, we don't need to truncate the text. During training we will use padding to ensure all strings have the same length.\n",
    "\n",
    "The text in the dataset is already clean and doesn't contain any html tags we would need to remove and / or parse. "
   ]
  },
  {
   "cell_type": "markdown",
   "metadata": {},
   "source": [
    "In short: The only preprocessing we do is tokenization."
   ]
  },
  {
   "cell_type": "code",
   "execution_count": 12,
   "metadata": {},
   "outputs": [],
   "source": [
    "def preprocess_text(text):\n",
    "  preprocessed = word_tokenize(text)\n",
    "  return preprocessed"
   ]
  },
  {
   "cell_type": "markdown",
   "metadata": {},
   "source": [
    "We then check out how the loaded embeddings look like and how many words are in the vocabulary."
   ]
  },
  {
   "cell_type": "code",
   "execution_count": 13,
   "metadata": {},
   "outputs": [
    {
     "name": "stdout",
     "output_type": "stream",
     "text": [
      "Word embeddings vector size: 300\n",
      "Word embeddings vocab size: 2000000\n",
      "[',', 'the', '.', 'and', 'to', 'of', 'a', '</s>', 'in', 'is']\n",
      "['ldapmodify', 'sponde', 'hvm', 'GorceyBearTerritory.netSaturday', 'Zwicke']\n"
     ]
    }
   ],
   "source": [
    "print(f\"Word embeddings vector size: {wv.vector_size}\")\n",
    "print(f\"Word embeddings vocab size: {len(wv.index_to_key)}\")\n",
    "\n",
    "print(wv.index_to_key[:10])\n",
    "print(wv.index_to_key[-5:])"
   ]
  },
  {
   "cell_type": "markdown",
   "metadata": {},
   "source": [
    "Test the embeddings by looking up a word that certainly exists in the vocabulary and a word that doesn't exist in the vocabulary to see if it handles out-of-vocabulary words."
   ]
  },
  {
   "cell_type": "code",
   "execution_count": 14,
   "metadata": {},
   "outputs": [
    {
     "name": "stdout",
     "output_type": "stream",
     "text": [
      "[ 8.23911093e-03 -8.99027660e-02  2.65252870e-02 -8.55387747e-03\n",
      " -6.09397441e-02  6.75930129e-03  6.52322620e-02  1.06213633e-02\n",
      " -4.75259237e-02 -7.61148334e-03 -2.25875620e-03  9.08407965e-04\n",
      " -6.68869540e-03 -2.25828700e-02 -6.61593257e-03 -7.24807084e-02\n",
      "  2.03068964e-02  2.14499757e-02 -5.07426150e-02  3.91916037e-02\n",
      "  5.33207357e-02 -4.52754647e-03 -1.86902005e-03  5.57158291e-02\n",
      "  1.46500766e-02 -5.70575595e-02  4.93949279e-04 -7.09158741e-03\n",
      "  1.48559324e-02 -5.28307818e-02  2.84850523e-02 -4.96256426e-02\n",
      "  2.22029127e-02  5.86468279e-02  2.13257503e-02  7.91368634e-03\n",
      "  1.87332481e-02  9.18916687e-02 -2.77845450e-02  2.39473525e-02\n",
      "  4.25748378e-02 -9.94171482e-03 -2.23485958e-02  8.55861679e-02\n",
      " -4.47648503e-02 -1.41877644e-02 -1.26887113e-04 -1.00239128e-01\n",
      " -1.24342320e-02  5.95488772e-02  2.35982426e-02  1.56282559e-02\n",
      "  1.94263570e-02  8.58244579e-03  1.51532954e-02  4.16088402e-02\n",
      "  1.98060516e-02 -7.46113062e-03 -3.07702627e-02 -2.10531931e-02\n",
      "  2.74334885e-02 -4.17157374e-02 -3.56185883e-02 -2.17031352e-02\n",
      "  1.37879029e-02  2.72319801e-02  2.91177686e-02  1.62381288e-02\n",
      "  2.23314390e-02  3.12007107e-02 -7.52905663e-03  1.02584790e-02\n",
      "  2.94368342e-02  1.25950836e-02  7.28831515e-02 -1.24444338e-02\n",
      " -4.43593860e-02  3.30700912e-02 -9.75801498e-02 -2.58863755e-02\n",
      "  5.34570403e-03  1.75542943e-02 -1.94995441e-02  3.00365388e-02\n",
      " -3.18978280e-02  2.81078480e-02  5.48056886e-02 -1.52527466e-02\n",
      " -4.36926112e-02 -5.41102588e-02  1.12257171e-02  2.16098651e-02\n",
      " -3.60471047e-02 -1.44853946e-02 -3.62045318e-03  1.95710585e-02\n",
      "  1.21764317e-02 -5.70974648e-02 -2.70106252e-02  6.38146177e-02\n",
      "  4.28568050e-02 -6.07165471e-02 -3.19392532e-02  3.19416448e-03\n",
      " -1.24735981e-02 -7.13155493e-02 -3.03832013e-02 -1.21982563e-02\n",
      "  2.11810097e-02 -2.69490033e-02  8.17382708e-03 -1.15554869e-01\n",
      "  7.62604177e-04  8.95902887e-02 -1.65034328e-02 -1.27696330e-02\n",
      " -4.11331467e-02 -1.34926224e-02  1.54139949e-02 -2.80922018e-02\n",
      "  6.18206672e-02 -3.67048662e-03 -8.11334252e-02  2.07473226e-02\n",
      "  2.02467032e-02  5.87196238e-02 -1.65337455e-02  1.27609402e-01\n",
      " -3.16866301e-02 -3.93124670e-03 -4.39455174e-02  1.46993287e-02\n",
      " -5.86559139e-02 -1.86296999e-02  1.26128625e-02 -5.41222142e-03\n",
      " -4.26090881e-02  6.05685711e-02 -4.27909158e-02 -2.96267532e-02\n",
      " -1.02523398e-02 -1.80237554e-02  1.02565736e-02  3.00097764e-02\n",
      "  2.05962062e-02  2.46783439e-02 -3.68980885e-01 -3.85060953e-03\n",
      "  2.72371080e-02 -2.51431949e-02 -4.01115716e-02  2.53724586e-02\n",
      " -4.39509079e-02 -3.80519428e-03 -1.57542527e-04  1.38481390e-02\n",
      "  6.08402230e-02  3.25895734e-02 -8.69639590e-02 -4.73427493e-03\n",
      " -5.84197268e-02 -2.43068412e-02 -9.34191346e-02 -2.90227029e-03\n",
      " -2.85869627e-03  1.98261254e-02  1.49173150e-02 -4.08625118e-02\n",
      "  1.80987455e-02 -2.09783278e-02 -2.21290570e-02  1.68420840e-02\n",
      "  3.10796499e-02  3.33685130e-02 -5.04413135e-02  1.63729712e-02\n",
      " -3.12635042e-02  1.00101724e-01  2.82859225e-02 -8.44198242e-02\n",
      "  1.68396402e-02  2.22058222e-02 -6.24679327e-02 -6.26606345e-02\n",
      "  3.07596754e-02  2.66086198e-02 -6.26772717e-02 -3.90372090e-02\n",
      "  2.34264489e-02 -5.04080988e-02 -4.44788560e-02  4.74284291e-02\n",
      " -4.52308729e-02  4.11198586e-02  1.74042508e-02 -6.17337301e-02\n",
      "  6.37754649e-02 -6.59050569e-02 -1.48986205e-02  6.85354099e-02\n",
      " -7.29488060e-02 -1.76609159e-02  4.55817394e-03 -1.37576871e-02\n",
      " -1.60885155e-02 -1.84375253e-02 -9.89368558e-02  6.95459731e-03\n",
      "  5.43078929e-02  1.27721190e-01  3.55936289e-02 -2.68232636e-03\n",
      "  8.58246982e-02  1.11327469e-02 -1.95932295e-03  2.73223221e-02\n",
      "  5.01469374e-02 -3.86893563e-02  3.23250070e-02  4.17337604e-02\n",
      "  5.23539893e-02  2.77093053e-02 -1.44251995e-02  4.32834141e-02\n",
      "  4.27054539e-02 -1.07224286e-02  3.95365059e-02 -5.18234596e-02\n",
      " -3.33377495e-02 -1.17142852e-02 -2.87252963e-02 -2.41805799e-02\n",
      "  3.69910486e-02  4.49758433e-02  3.15677449e-02 -5.27046509e-02\n",
      "  1.19324103e-02  5.00314534e-02  1.41884973e-02  3.22734229e-02\n",
      "  2.56861262e-02 -1.99317560e-03  5.63756302e-02 -2.39604324e-01\n",
      "  6.19736135e-01  8.61320458e-03  3.66283394e-02 -4.21728641e-02\n",
      "  7.43011087e-02  1.88162178e-02 -4.32008430e-02 -1.23270685e-02\n",
      " -2.17413902e-02 -4.56854552e-02  1.26606524e-02 -4.75486219e-02\n",
      " -1.05940960e-01  1.09916627e-02 -1.40460208e-03 -9.28971078e-03\n",
      "  3.86689752e-02  9.41321328e-02 -4.41618860e-02  1.69493593e-02\n",
      " -7.12717623e-02  7.48523623e-02  2.86747050e-03  9.32347551e-02\n",
      " -1.16246305e-01  1.06363427e-02 -1.50462352e-02  5.57788797e-02\n",
      " -5.85105419e-02 -1.91076845e-02  2.28385851e-02  3.04185450e-02\n",
      "  1.89196952e-02 -3.18782479e-02 -5.63929938e-02  5.80628291e-02\n",
      "  5.98480785e-03  7.22073093e-02 -1.53672367e-01  2.84299590e-02\n",
      "  1.11958720e-02  4.17528562e-02  3.54119763e-02 -9.61888283e-02\n",
      " -8.41598026e-04  1.96748879e-02  6.07221983e-02 -3.55068520e-02\n",
      " -2.38197073e-02 -2.77546421e-02 -2.60229278e-02 -3.80507559e-02\n",
      " -2.11028941e-02 -1.15913749e-02 -4.11286354e-02  3.62522230e-02]\n",
      "[-9.98587697e-04 -1.34649659e-02 -5.35215670e-03  2.09453534e-02\n",
      " -3.58184800e-02 -1.45766931e-02 -1.55732431e-03  1.30497979e-03\n",
      " -1.15762493e-02  1.02695022e-02 -1.13808477e-04  7.21522700e-03\n",
      "  2.56854715e-03 -8.72163661e-03 -1.43402796e-02 -2.59162076e-02\n",
      "  1.92753393e-02 -3.52117256e-03 -3.77736264e-03  3.35225090e-02\n",
      " -7.27801491e-03  2.13054684e-03 -1.03639823e-03  1.85155426e-03\n",
      "  1.16005475e-02  2.52937991e-02  8.27995036e-03  2.85679325e-02\n",
      " -1.41698373e-02 -1.79913566e-02 -3.73866246e-03 -1.72958467e-02\n",
      "  8.93780775e-03  2.76733586e-03  1.88852660e-02 -1.78884454e-02\n",
      " -2.18704226e-03  4.87651192e-02  1.26167964e-02  1.88826341e-02\n",
      " -4.38907696e-03 -1.66430641e-02  1.14958370e-02 -3.63222836e-03\n",
      " -2.92048370e-03  2.87500881e-02  2.97211064e-03  2.84686545e-03\n",
      "  9.48199071e-03 -6.25816314e-03  1.27541218e-02 -1.79815516e-02\n",
      " -8.49811174e-03 -1.61069315e-02  5.52618271e-03  6.91576814e-03\n",
      "  1.23372674e-02  2.02182550e-02 -3.31210941e-02 -4.79889102e-04\n",
      "  1.03010179e-03 -1.34393563e-02  2.10358543e-04  1.63929705e-02\n",
      " -1.82463683e-03  5.52828284e-03  1.36326905e-02 -8.61074962e-03\n",
      " -2.40510125e-02 -8.26963875e-03  9.51317139e-03  1.14179985e-03\n",
      "  1.86171499e-03 -1.58634670e-02  5.88129694e-03  5.07538731e-04\n",
      "  4.92662843e-03  2.84818783e-02  3.27265970e-02  2.64940653e-02\n",
      " -1.64325051e-02  1.52149890e-02 -9.38628707e-03  1.37313723e-03\n",
      " -2.27225795e-02 -5.83967986e-03 -1.59563459e-02  8.09658691e-03\n",
      "  8.14822153e-04  3.17015126e-02  4.20705834e-03  4.26109735e-04\n",
      " -1.57364588e-02  2.68593803e-03  4.40563150e-02  1.31671522e-02\n",
      "  2.75973398e-02 -8.10713787e-03 -1.79138370e-02  1.12748351e-02\n",
      "  4.29843366e-03 -2.08436116e-03 -1.31491236e-02 -2.10421928e-03\n",
      " -1.04280729e-02 -2.82244873e-03  8.56005121e-03 -2.33984157e-03\n",
      " -1.57380626e-02 -2.28701625e-02 -1.76395830e-02 -2.41691135e-02\n",
      " -1.10828038e-02 -1.28964176e-02  6.32018084e-03  1.62326228e-02\n",
      " -1.57437138e-02  9.43065062e-03 -6.07344613e-04  8.82795081e-03\n",
      " -6.79948600e-03 -6.95425086e-03  1.55654596e-02  6.40587416e-03\n",
      "  3.25302384e-03  4.42860946e-02 -3.08363675e-03  2.67844973e-03\n",
      "  1.63276607e-04 -2.19132332e-03  2.88898088e-02 -6.55672280e-03\n",
      "  6.47912594e-03 -3.56320082e-03  2.16111857e-02  1.83252767e-02\n",
      " -8.09231657e-04 -1.13078523e-02  4.58108587e-03 -3.75329354e-03\n",
      "  1.35317594e-02 -2.28563547e-02 -3.92510919e-05 -2.04985552e-02\n",
      " -3.57924774e-02  1.26655283e-03 -3.47117111e-02 -2.08152141e-02\n",
      "  1.32569042e-03  1.58106796e-02 -1.81110613e-02 -5.45072556e-03\n",
      "  8.36499687e-03 -1.03541259e-02  1.92474704e-02 -2.01858096e-02\n",
      "  3.60454386e-03 -9.25495289e-03 -1.16565693e-02 -3.94156994e-03\n",
      " -2.02908646e-02 -1.21406280e-02 -3.57543007e-02 -5.11698425e-03\n",
      "  9.04209539e-03  4.46365727e-03 -1.85069430e-03 -1.45033346e-02\n",
      "  2.63899169e-03  1.39978400e-03  1.29951369e-02  8.27409420e-03\n",
      " -8.26735422e-03  8.42532422e-03 -9.90656321e-04 -6.37961645e-03\n",
      "  3.29110015e-04 -2.00240575e-02 -4.42764402e-04 -2.10302044e-02\n",
      "  1.32317403e-02  2.44720988e-02 -1.26753682e-02 -3.33044529e-02\n",
      " -1.31163299e-02 -2.41049230e-02 -2.27150926e-03 -6.30446197e-03\n",
      " -1.11000733e-02  9.85284057e-03  1.91466305e-02 -4.77474649e-03\n",
      " -8.17788206e-03  3.55850579e-03  2.67836428e-03  5.47328033e-03\n",
      "  1.31559223e-02  1.62425190e-02  4.72046109e-03  2.56114695e-02\n",
      " -3.66258398e-02 -1.15394983e-02 -1.34448875e-02  2.41416488e-02\n",
      " -3.59562720e-04 -6.51799422e-03  2.29268540e-02 -1.42299375e-02\n",
      " -1.60589088e-02  1.33099742e-02 -3.15982960e-02 -7.82537460e-03\n",
      "  1.90541968e-02 -4.17684997e-03  3.66872665e-03  2.47172150e-03\n",
      " -6.60539232e-03  1.49632484e-04 -8.41947459e-03  9.22100060e-03\n",
      "  2.61485782e-02 -2.08672928e-03 -2.36611394e-03  1.90457832e-02\n",
      "  1.57113355e-02 -1.41330017e-02  1.69594083e-02  2.44963402e-03\n",
      " -2.32937839e-03  2.16886569e-02  1.69178471e-02 -7.46542402e-03\n",
      " -1.68016385e-02  2.40009353e-02  2.56045591e-02  5.13993297e-03\n",
      " -1.29340822e-03  1.39564276e-04  1.27592087e-02  5.62059088e-03\n",
      " -2.17092666e-03 -2.38254201e-02  4.40614735e-04 -2.91189738e-02\n",
      "  8.04843102e-03  1.50121450e-02  7.98876397e-03  4.60952939e-03\n",
      " -6.90947426e-03 -8.97288695e-03  3.94885018e-02  4.59728856e-03\n",
      "  8.23671184e-03  2.59744599e-02  4.24002204e-03 -1.65579235e-03\n",
      "  4.42160200e-03  1.64826699e-02 -1.13121076e-02  4.18346329e-03\n",
      "  1.96391391e-03 -3.81784723e-03 -4.92895618e-02 -9.45236254e-03\n",
      " -6.27007382e-03 -5.55973174e-03  7.21379323e-03  5.43027138e-03\n",
      "  2.00688224e-02  1.66141968e-02 -2.08887132e-03  2.79139504e-02\n",
      "  1.29594170e-02  1.57753844e-02  5.55853359e-03  1.15019772e-02\n",
      " -1.08302599e-02 -1.72340684e-02 -1.82414278e-02 -3.74705456e-02\n",
      " -1.52264303e-02 -6.76365243e-03 -3.00009828e-02  2.81563960e-02\n",
      " -2.39296467e-03 -6.75030984e-03  7.15320278e-03 -8.25915486e-03\n",
      "  1.66553003e-03 -3.22100297e-02  2.64530978e-03  3.98415793e-03\n",
      " -3.03073619e-02  1.08672343e-02  1.36464927e-02 -1.81417372e-02\n",
      " -6.30673720e-03  1.54494699e-02 -3.67225334e-03 -4.83225472e-03]\n"
     ]
    }
   ],
   "source": [
    "print(wv[\"and\"])\n",
    "print(wv[\"thiswordceratinlydoesntexist\"])"
   ]
  },
  {
   "cell_type": "markdown",
   "metadata": {},
   "source": [
    "### Torch Dataloader and Dataset"
   ]
  },
  {
   "cell_type": "markdown",
   "metadata": {},
   "source": [
    "#### Embeddings Model"
   ]
  },
  {
   "cell_type": "markdown",
   "metadata": {},
   "source": [
    "For the model to be able to train on the data, we need to create a custom torch dataset that we can read from a torch dataloader.\n",
    "\n",
    "We create a dataset that, when indexed, returns data in the following format:\n",
    "1. The question as a tensor with dimensions `(embedding_dim)`\n",
    "2. The choices as a tensor with dimensions `(5, embedding_dim)`\n",
    "3. The correct answer encoded as a number as a tensor with dimensions `(1)`"
   ]
  },
  {
   "cell_type": "markdown",
   "metadata": {},
   "source": [
    "To be able to reduce each question and each choice to a single tensor, we need to have a method to reduce the word embeddings to a single tensor.\n",
    "\n",
    "In this case, we will use the mean of the word embeddings to represent the sentences. Each sentence is first preprocessed by tokenizing it and is then converted to word embeddings. The mean of the word embeddings is then calculated to represent the sentence."
   ]
  },
  {
   "cell_type": "code",
   "execution_count": 15,
   "metadata": {},
   "outputs": [],
   "source": [
    "def get_averaged_sentence_embedding(sentence):\n",
    "    tokens = preprocess_text(sentence)\n",
    "\n",
    "    word_vectors = [wv[word] for word in tokens]\n",
    "    return np.mean(word_vectors, axis=0)  # average the word vectors"
   ]
  },
  {
   "cell_type": "markdown",
   "metadata": {},
   "source": [
    "We also need a function to convert the answer keys to numbers (`A` -> 0, `B` -> 1, ..., `E` -> 4)."
   ]
  },
  {
   "cell_type": "code",
   "execution_count": 16,
   "metadata": {},
   "outputs": [],
   "source": [
    "def answer_key_to_index(answer_key):\n",
    "  return ord(answer_key) - ord(\"A\")"
   ]
  },
  {
   "cell_type": "markdown",
   "metadata": {},
   "source": [
    "Finally, we create our custom dataset that performs the preprocessing and returns the data in the format described above."
   ]
  },
  {
   "cell_type": "code",
   "execution_count": 17,
   "metadata": {},
   "outputs": [],
   "source": [
    "class EmbeddingsCommonsenseQADataset(Dataset):\n",
    "    def __init__(self, hf_dataset):\n",
    "        self.data = hf_dataset\n",
    "\n",
    "    def __len__(self):\n",
    "        return len(self.data)\n",
    "\n",
    "    def __getitem__(self, idx):\n",
    "        example = self.data[idx]\n",
    "\n",
    "        average_question_embedding = get_averaged_sentence_embedding(example[\"question\"])\n",
    "        average_choice_embeddings = [get_averaged_sentence_embedding(choice) for choice in example[\"choices\"][\"text\"]]\n",
    "        average_choice_embeddings = np.array(average_choice_embeddings)\n",
    "\n",
    "        question_tensor = torch.tensor(average_question_embedding).float()\n",
    "        choices_tensor =  torch.tensor(average_choice_embeddings).float()\n",
    "        answer_index = answer_key_to_index(example[\"answerKey\"])\n",
    "        return question_tensor, choices_tensor, torch.tensor(answer_index).long()"
   ]
  },
  {
   "cell_type": "code",
   "execution_count": 18,
   "metadata": {},
   "outputs": [],
   "source": [
    "embeddings_train_dataset = EmbeddingsCommonsenseQADataset(train)\n",
    "embeddings_valid_dataset = EmbeddingsCommonsenseQADataset(valid)"
   ]
  },
  {
   "cell_type": "markdown",
   "metadata": {},
   "source": [
    "We load the first sample from the dataset to check the dimensions of the returned data."
   ]
  },
  {
   "cell_type": "code",
   "execution_count": 19,
   "metadata": {},
   "outputs": [
    {
     "name": "stdout",
     "output_type": "stream",
     "text": [
      "torch.Size([300]) torch.Size([5, 300]) tensor(0)\n"
     ]
    }
   ],
   "source": [
    "example_question_tensor, example_choices_tensor, example_answer_index = embeddings_train_dataset[0]\n",
    "print(example_question_tensor.shape, example_choices_tensor.shape, example_answer_index)\n",
    "\n",
    "assert example_question_tensor.shape == (300,)\n",
    "assert example_choices_tensor.shape == (5, 300)\n",
    "assert example_answer_index.shape == ()"
   ]
  },
  {
   "cell_type": "markdown",
   "metadata": {},
   "source": [
    "With this successful, we can now create a torch dataloader that reads from the custom dataset.\n",
    "\n",
    "We use a batch size of 2048 as this is the maximum size that reliably fits on my GPU (Nvidia RTX 2070, 8 GB VRAM). The data in the training set is shuffled to ensure that the model doesn't learn the order of the questions. The data in the validation set is not shuffled to ensure reproducibility."
   ]
  },
  {
   "cell_type": "code",
   "execution_count": 20,
   "metadata": {},
   "outputs": [],
   "source": [
    "embeddings_batch_size = 2048\n",
    "\n",
    "embeddings_train_loader = DataLoader(embeddings_train_dataset, batch_size=embeddings_batch_size, shuffle=True, num_workers=8)\n",
    "embeddings_valid_loader = DataLoader(embeddings_valid_dataset, batch_size=embeddings_batch_size, shuffle=False, num_workers=8)"
   ]
  },
  {
   "cell_type": "markdown",
   "metadata": {},
   "source": [
    "We load the first batch from the dataloader to check the dimensions of the returned data and the format of the answers."
   ]
  },
  {
   "cell_type": "code",
   "execution_count": 21,
   "metadata": {},
   "outputs": [
    {
     "name": "stdout",
     "output_type": "stream",
     "text": [
      "torch.Size([2048, 300]) torch.Size([2048, 5, 300]) torch.Size([2048]) tensor([3, 3, 1,  ..., 4, 2, 1])\n"
     ]
    }
   ],
   "source": [
    "for batch in embeddings_train_loader:\n",
    "    print(batch[0].shape, batch[1].shape, batch[2].shape, batch[2])\n",
    "    assert batch[0].shape[0] == batch[1].shape[0] == batch[2].shape[0] == embeddings_batch_size\n",
    "    break"
   ]
  },
  {
   "cell_type": "markdown",
   "metadata": {},
   "source": [
    "#### RNN Model"
   ]
  },
  {
   "cell_type": "markdown",
   "metadata": {},
   "source": [
    "For the RNN model we will return each sample in a single tensor in the following format:\n",
    "- `<Question> [EOQ] <Choice A> [EOC1] <Choice B> [EOC2] <Choice C> [EOC3] <Choice D> [EOC4] <Choice E>`, where `[EOQ]` (\"end of question\") and `[EOC1]` (end of choice 1) to `[EOC4]` are special tokens to separate the question and the choices.\n",
    "\n",
    "The resulting tensor will have dimensions `(total_sequence_length, embedding_dim)`, § where `total_sequence_length` is the sum of the lengths of the question and the choices plus the special tokens."
   ]
  },
  {
   "cell_type": "markdown",
   "metadata": {},
   "source": [
    "We first define our five special tokens using an uniform distribution of random numbers in the range of the embeddings.\n",
    "The five vectors are then added to the existing word embedding vectors."
   ]
  },
  {
   "cell_type": "code",
   "execution_count": 22,
   "metadata": {},
   "outputs": [],
   "source": [
    "embedding_dim = wv.vector_size\n",
    "\n",
    "special_tokens = {\n",
    "  \"[EOQ]\": np.random.uniform(-0.1, 0.1, embedding_dim), # end of question\n",
    "  \"[EOC1]\": np.random.uniform(-0.1, 0.1, embedding_dim), # end of choice 1\n",
    "  \"[EOC2]\": np.random.uniform(-0.1, 0.1, embedding_dim), # end of choice 2\n",
    "  \"[EOC3]\": np.random.uniform(-0.1, 0.1, embedding_dim), # end of choice 3\n",
    "  \"[EOC4]\": np.random.uniform(-0.1, 0.1, embedding_dim), # end of choice 4\n",
    "}\n",
    "\n",
    "# check if the special tokens already exist in the vocabulary\n",
    "for token, vec in special_tokens.items():\n",
    "    assert token not in wv.key_to_index, f\"Token {token} already exists in the vocabulary\"\n",
    "\n",
    "wv.add_vectors(list(special_tokens.keys()), list(special_tokens.values()))"
   ]
  },
  {
   "cell_type": "markdown",
   "metadata": {},
   "source": [
    "The RNN dataset returns the data in the format described above. The sentence embeddings (concatenated word embeddings) are concatenated with the special tokens to form the final tensor."
   ]
  },
  {
   "cell_type": "code",
   "execution_count": 23,
   "metadata": {},
   "outputs": [],
   "source": [
    "def get_sentence_embedding(sentence):\n",
    "    tokens = preprocess_text(sentence)\n",
    "\n",
    "    word_vectors = [wv[word] for word in tokens]\n",
    "    return np.array(word_vectors)"
   ]
  },
  {
   "cell_type": "code",
   "execution_count": 24,
   "metadata": {},
   "outputs": [],
   "source": [
    "class RNNCommonsenseQADataset(Dataset):\n",
    "    def __init__(self, hf_dataset):\n",
    "        self.data = hf_dataset\n",
    "        self.special_separator_tokens = {\n",
    "            \"EOQ\": torch.tensor(wv[\"[EOQ]\"]).unsqueeze(0), # unsqueeze reshapes from (300) to (1, 300)\n",
    "            \"EOC1\": torch.tensor(wv[\"[EOC1]\"]).unsqueeze(0),\n",
    "            \"EOC2\": torch.tensor(wv[\"[EOC2]\"]).unsqueeze(0),\n",
    "            \"EOC3\": torch.tensor(wv[\"[EOC3]\"]).unsqueeze(0),\n",
    "            \"EOC4\": torch.tensor(wv[\"[EOC4]\"]).unsqueeze(0),\n",
    "        }\n",
    "\n",
    "    def __len__(self):\n",
    "        return len(self.data)\n",
    "\n",
    "    def __getitem__(self, idx):\n",
    "        # return in format (question_tensor, EOQ, choice1_tensor, EOC1, choice2_tensor, EOC2, choice3_tensor, EOC3, choice4_tensor, EOC4, choice5_tensor)\n",
    "        example = self.data[idx]\n",
    "\n",
    "        question_embedding = get_sentence_embedding(example[\"question\"])\n",
    "        question_embedding = torch.tensor(question_embedding) # shape: (seq_len, embedding_dim)\n",
    "        choice_embeddings = [get_sentence_embedding(choice) for choice in example[\"choices\"][\"text\"]]\n",
    "        choice_embeddings = [torch.tensor(choice_embedding) for choice_embedding in choice_embeddings] # list of tensors, each of shape (seq_len, embedding_dim)\n",
    "\n",
    "        concatenated = torch.cat([ # concatenate along the first dimension (seq_len), resulting in shape (seq_len, embedding_dim)\n",
    "            question_embedding,\n",
    "            self.special_separator_tokens[\"EOQ\"],\n",
    "            choice_embeddings[0],\n",
    "            self.special_separator_tokens[\"EOC1\"],\n",
    "            choice_embeddings[1],\n",
    "            self.special_separator_tokens[\"EOC2\"],\n",
    "            choice_embeddings[2],\n",
    "            self.special_separator_tokens[\"EOC3\"],\n",
    "            choice_embeddings[3],\n",
    "            self.special_separator_tokens[\"EOC4\"],\n",
    "            choice_embeddings[4],\n",
    "        ])\n",
    "\n",
    "        answer_index = answer_key_to_index(example[\"answerKey\"])\n",
    "\n",
    "        return concatenated, torch.tensor(answer_index).long()"
   ]
  },
  {
   "cell_type": "code",
   "execution_count": 25,
   "metadata": {},
   "outputs": [],
   "source": [
    "rnn_train_dataset = RNNCommonsenseQADataset(train)\n",
    "rnn_valid_dataset = RNNCommonsenseQADataset(valid)"
   ]
  },
  {
   "cell_type": "markdown",
   "metadata": {},
   "source": [
    "We load the first sample from the dataset to check the dimensions of the returned data."
   ]
  },
  {
   "cell_type": "code",
   "execution_count": 26,
   "metadata": {},
   "outputs": [
    {
     "name": "stdout",
     "output_type": "stream",
     "text": [
      "torch.Size([35, 300]) tensor(0)\n"
     ]
    }
   ],
   "source": [
    "example_tensor, example_answer_index = rnn_train_dataset[0]\n",
    "print(example_tensor.shape, example_answer_index)\n",
    "\n",
    "assert example_tensor.shape[1] == embedding_dim\n",
    "assert example_answer_index.shape == ()"
   ]
  },
  {
   "cell_type": "markdown",
   "metadata": {},
   "source": [
    "For the dataloader we need to create a collate function because our samples have all different lengths. This would result in a batch with different dimensions which is not possible to process in a single forward pass. We want all samples in a batch to have the same dimensions.\n",
    "\n",
    "For this, we pad the sequences to the length of the longest sequence in the batch. We also keep track of the original lengths of the sequences to be able to restore the original lengths after the RNN has processed the sequences."
   ]
  },
  {
   "cell_type": "code",
   "execution_count": 27,
   "metadata": {},
   "outputs": [],
   "source": [
    "from torch.nn.utils.rnn import pad_sequence as torch_pad_sequence\n",
    "\n",
    "def pad_collate_fn(batch):\n",
    "    sequences = [item[0] for item in batch]\n",
    "    labels = [item[1] for item in batch]\n",
    "    \n",
    "    # Get sequence lengths before padding\n",
    "    lengths = torch.tensor([len(seq) for seq in sequences])\n",
    "    \n",
    "    # Pad sequences to max length in current batch\n",
    "    padded_sequences = torch_pad_sequence(sequences, batch_first=True, padding_value=0)\n",
    "    \n",
    "    # Return padded sequences, original lengths, and labels\n",
    "    return padded_sequences, lengths, torch.tensor(labels)"
   ]
  },
  {
   "cell_type": "markdown",
   "metadata": {},
   "source": [
    "With this successful, we can now create a torch dataloader that reads from the custom dataset and uses the collate function to pad the sequences.\n",
    "\n",
    "We use a batch size of 512 as this is the maximum size that fits on my GPU. Again, the data in the training set is shuffled and the data in the validation isn't."
   ]
  },
  {
   "cell_type": "code",
   "execution_count": 28,
   "metadata": {},
   "outputs": [],
   "source": [
    "rnn_batch_size = 512\n",
    "\n",
    "rnn_train_loader = DataLoader(rnn_train_dataset, batch_size=rnn_batch_size, shuffle=True, num_workers=8, collate_fn=pad_collate_fn)\n",
    "rnn_valid_loader = DataLoader(rnn_valid_dataset, batch_size=rnn_batch_size, shuffle=False, num_workers=8, collate_fn=pad_collate_fn)"
   ]
  },
  {
   "cell_type": "code",
   "execution_count": 29,
   "metadata": {},
   "outputs": [
    {
     "name": "stdout",
     "output_type": "stream",
     "text": [
      "torch.Size([512, 75, 300]) torch.Size([512]) torch.Size([512])\n"
     ]
    }
   ],
   "source": [
    "for batch in rnn_train_loader:\n",
    "    padded_sequences, lengths, labels = batch\n",
    "    print(padded_sequences.shape, lengths.shape, labels.shape)\n",
    "    assert padded_sequences.shape[0] == lengths.shape[0] == labels.shape[0] == rnn_batch_size\n",
    "    break"
   ]
  },
  {
   "cell_type": "markdown",
   "metadata": {},
   "source": [
    "## Model"
   ]
  },
  {
   "cell_type": "markdown",
   "metadata": {},
   "source": [
    "### Embeddings"
   ]
  },
  {
   "cell_type": "markdown",
   "metadata": {},
   "source": [
    "The first model consists of two fully connected layers with a ReLU activation function in between. An optional dropout can be added between the two layers to prevent overfitting.\n",
    "\n",
    "It receives the question tensor (`(batch_size, embedding_dim)`) and the 5 choices tensors (`(batch_size, 5, embedding_dim)`) as input in the forward pass. The question tensor is then expanded to the same shape as the choice tensor and concatenated with it, resulting in a tensor of shape `(batch_size, 5, 2 * embedding_dim)`. This tensor is then passed through the two fully connected layers to get the logits for each choice (`(batch_size, 5)`).\n",
    "\n",
    "Softmax is deliberately not applied to the logits because the chosen loss function, PyTorch's `CrossEntropyLoss`, already applies the softmax function to the logits."
   ]
  },
  {
   "cell_type": "code",
   "execution_count": 30,
   "metadata": {},
   "outputs": [],
   "source": [
    "class WordEmbeddingQAClassifier(nn.Module):\n",
    "    def __init__(self, embedding_dim, hidden_dim, dropout_prob):\n",
    "        super(WordEmbeddingQAClassifier, self).__init__()\n",
    "\n",
    "        self.embedding_dim = embedding_dim\n",
    "        self.hidden_dim = hidden_dim\n",
    "\n",
    "        self.dropout = nn.Dropout(dropout_prob)\n",
    "\n",
    "        self.fc1 = nn.Linear(2 * embedding_dim, hidden_dim) # the input dimension is doubled due to concatenation (question + choice)\n",
    "        self.relu = nn.ReLU() # non-linearity\n",
    "        self.fc2 = nn.Linear(hidden_dim, 1) # single score per candidate\n",
    "\n",
    "    def forward(self, question, choices):\n",
    "        # question: (batch_size, embedding_dim)\n",
    "        # choices: (batch_size, 5, embedding_dim)\n",
    "\n",
    "        # expand question to match the choices dimension\n",
    "        question_expanded = question.unsqueeze(1).expand(-1, choices.size(1), -1) # (batch_size, 5, embedding_dim)\n",
    "        \n",
    "        # concatenate question and choice embeddings\n",
    "        combined = torch.cat((question_expanded, choices), dim=2) # (batch_size, 5, 2*embedding_dim)\n",
    "\n",
    "        # pass through the classifier\n",
    "        x = self.fc1(combined)  # (batch_size, 5, hidden_dim)\n",
    "        x = self.dropout(self.relu(x)) # (batch_size, 5, hidden_dim)\n",
    "        x = self.fc2(x)         # (batch_size, 5, 1)\n",
    "        return x.squeeze(-1)    # (batch_size, 5)"
   ]
  },
  {
   "cell_type": "markdown",
   "metadata": {},
   "source": [
    "If available, we use a GPU for training."
   ]
  },
  {
   "cell_type": "code",
   "execution_count": 31,
   "metadata": {},
   "outputs": [
    {
     "name": "stdout",
     "output_type": "stream",
     "text": [
      "cuda\n"
     ]
    }
   ],
   "source": [
    "device = torch.device(\"cuda\" if torch.cuda.is_available() else \"cpu\")\n",
    "print(device)"
   ]
  },
  {
   "cell_type": "markdown",
   "metadata": {},
   "source": [
    "All hyperparameters used in this notebook were found using bayesian hyperparameter optimization. The hyperparameters were optimized using the WandB sweeps.\n",
    "\n",
    "The code for running the sweeps is not included in this notebook due to the size of the notebook. It can be found in the separate file `sweeps.py`."
   ]
  },
  {
   "cell_type": "code",
   "execution_count": 32,
   "metadata": {},
   "outputs": [
    {
     "name": "stdout",
     "output_type": "stream",
     "text": [
      "WordEmbeddingQAClassifier(\n",
      "  (dropout): Dropout(p=0.305, inplace=False)\n",
      "  (fc1): Linear(in_features=600, out_features=32, bias=True)\n",
      "  (relu): ReLU()\n",
      "  (fc2): Linear(in_features=32, out_features=1, bias=True)\n",
      ")\n"
     ]
    }
   ],
   "source": [
    "hidden_dim = 32\n",
    "embeddings_dropout_prob = 0.305\n",
    "\n",
    "embeddings_model = WordEmbeddingQAClassifier(embedding_dim=wv.vector_size, hidden_dim=hidden_dim, dropout_prob=embeddings_dropout_prob)\n",
    "embeddings_model = embeddings_model.to(device)\n",
    "\n",
    "print(embeddings_model)"
   ]
  },
  {
   "cell_type": "markdown",
   "metadata": {},
   "source": [
    "### RNN"
   ]
  },
  {
   "cell_type": "markdown",
   "metadata": {},
   "source": [
    "The second model consists of a two-layer LSTM followed by a two-layer fully connected network with a ReLU activation function in between. An optional dropout can be added in the FCN to prevent overfitting.\n",
    "\n",
    "In the forward pass, the model receives a tensor of shape `(batch_size, total_sequence_length, embedding_dim)` as input. Because the sequences are all padded to the same length and we know the original lengths of the sequences, we can pack the sequences using PyTorch's `pack_padded_sequence` function. This allows the LSTM to process only the non-padded parts of the sequences which speeds up the training.\n",
    "\n",
    "The packed sequences are then passed through the LSTM and the output and the final hidden states (forward and backward if bidirectional) are extracted. The output is then passed through the FCN to get the logits for each choice (`(batch_size, 5)`), which are then returned."
   ]
  },
  {
   "cell_type": "code",
   "execution_count": 33,
   "metadata": {},
   "outputs": [],
   "source": [
    "class RNNQAClassifier(nn.Module):\n",
    "    def __init__(self, embedding_dim, num_layers, bidirectional, rnn_hidden_dim, classifier_hidden_dim, device, dropout_prob):\n",
    "        super(RNNQAClassifier, self).__init__()\n",
    "\n",
    "        self.embedding_dim = embedding_dim\n",
    "        self.rnn_hidden_dim = rnn_hidden_dim\n",
    "        self.classifier_hidden_dim = classifier_hidden_dim\n",
    "        self.device = device\n",
    "        self.num_layers = num_layers\n",
    "\n",
    "        self.num_directions = 2 if bidirectional else 1\n",
    "\n",
    "        self.rnn = nn.LSTM(input_size=embedding_dim, hidden_size=rnn_hidden_dim, num_layers=num_layers, bidirectional=bidirectional, batch_first=True)\n",
    "        self.dropout = nn.Dropout(dropout_prob)\n",
    "        self.classifier = nn.Sequential(\n",
    "            nn.Linear(self.num_directions * rnn_hidden_dim, classifier_hidden_dim), # the input dimension is doubled due when the RNN is bidirectional\n",
    "            nn.ReLU(), # non-linearity\n",
    "            nn.Dropout(dropout_prob),\n",
    "            nn.Linear(classifier_hidden_dim, 5) # single score per candidate\n",
    "        )\n",
    "\n",
    "    def forward(self, padded_sequences, sequence_lengths):\n",
    "        # Pack the sequences based on their actual lengths\n",
    "        packed_sequences = pack_padded_sequence(\n",
    "            padded_sequences, \n",
    "            sequence_lengths.cpu(), \n",
    "            batch_first=True,\n",
    "            enforce_sorted=False\n",
    "        )\n",
    "\n",
    "        # Output shape: (batch_size, seq_len, hidden_dim * num_directions)\n",
    "        # h_n shape: (n_layers * num_directions, batch_size, hidden_dim)\n",
    "        # c_n shape: (n_layers * num_directions, batch_size, hidden_dim)\n",
    "        _, (h_n, _) = self.rnn(packed_sequences)\n",
    "\n",
    "        # if we're using a bidirectional LSTM, we need to concatenate the last hidden state from both directions\n",
    "        if self.num_directions == 2:\n",
    "            # concatenate the final forward and backward hidden states\n",
    "            hidden_final = torch.cat((h_n[-2,:,:], h_n[-1,:,:]), dim=1)\n",
    "        else:\n",
    "            # just use the final hidden state\n",
    "            hidden_final = h_n[-1,:,:]\n",
    "\n",
    "        out = self.classifier(hidden_final)\n",
    "        return out"
   ]
  },
  {
   "cell_type": "code",
   "execution_count": 34,
   "metadata": {},
   "outputs": [
    {
     "name": "stdout",
     "output_type": "stream",
     "text": [
      "RNNQAClassifier(\n",
      "  (rnn): LSTM(300, 64, num_layers=2, batch_first=True, bidirectional=True)\n",
      "  (dropout): Dropout(p=0.4987380885582971, inplace=False)\n",
      "  (classifier): Sequential(\n",
      "    (0): Linear(in_features=128, out_features=256, bias=True)\n",
      "    (1): ReLU()\n",
      "    (2): Dropout(p=0.4987380885582971, inplace=False)\n",
      "    (3): Linear(in_features=256, out_features=5, bias=True)\n",
      "  )\n",
      ")\n"
     ]
    }
   ],
   "source": [
    "rnn_hidden_dim = 64\n",
    "classifier_hidden_dim = 256\n",
    "rnn_dropout_prob = 0.4987380885582971\n",
    "\n",
    "rnn_model = RNNQAClassifier(embedding_dim=wv.vector_size, num_layers=2, bidirectional=True, rnn_hidden_dim=rnn_hidden_dim, classifier_hidden_dim=classifier_hidden_dim, device=device, dropout_prob=rnn_dropout_prob)\n",
    "rnn_model = rnn_model.to(device)\n",
    "\n",
    "print(rnn_model)"
   ]
  },
  {
   "cell_type": "markdown",
   "metadata": {},
   "source": [
    "We now run a single forward pass with the first batch from the dataloader to check if the model runs without errors and to check the dimensions of the returned data."
   ]
  },
  {
   "cell_type": "code",
   "execution_count": 35,
   "metadata": {},
   "outputs": [
    {
     "name": "stdout",
     "output_type": "stream",
     "text": [
      "torch.Size([512, 75, 300]) torch.Size([512]) torch.Size([512])\n",
      "torch.Size([512, 5])\n",
      "tensor([[ 0.0023, -0.0465, -0.0308,  0.0124, -0.0275],\n",
      "        [ 0.0183, -0.0518, -0.0346,  0.0291, -0.0385],\n",
      "        [-0.0060, -0.0604, -0.0386,  0.0203,  0.0018],\n",
      "        ...,\n",
      "        [ 0.0037, -0.0844, -0.0121,  0.0484, -0.0170],\n",
      "        [-0.0347, -0.0791, -0.0529,  0.0247, -0.0267],\n",
      "        [-0.0212, -0.0746, -0.0690,  0.0404,  0.0004]], device='cuda:0',\n",
      "       grad_fn=<AddmmBackward0>)\n"
     ]
    }
   ],
   "source": [
    "for test_batch in rnn_train_loader:\n",
    "    test_padded_sequences, test_lengths, test_labels = test_batch\n",
    "    test_padded_sequences, test_labels = test_padded_sequences.to(device), test_labels.to(device)\n",
    "\n",
    "    print(test_padded_sequences.shape, test_lengths.shape, test_labels.shape)\n",
    "\n",
    "    test_output = rnn_model(test_padded_sequences, test_lengths)\n",
    "    print(test_output.shape)\n",
    "    print(test_output)\n",
    "\n",
    "    break"
   ]
  },
  {
   "cell_type": "markdown",
   "metadata": {},
   "source": [
    "## Training"
   ]
  },
  {
   "cell_type": "markdown",
   "metadata": {},
   "source": [
    "### Embeddings"
   ]
  },
  {
   "cell_type": "markdown",
   "metadata": {},
   "source": [
    "For tracking the training process, we use Weights & Biases. We first have to log in to our account and initialize a new experiment."
   ]
  },
  {
   "cell_type": "code",
   "execution_count": 35,
   "metadata": {},
   "outputs": [
    {
     "name": "stderr",
     "output_type": "stream",
     "text": [
      "\u001b[34m\u001b[1mwandb\u001b[0m: Using wandb-core as the SDK backend.  Please refer to https://wandb.me/wandb-core for more information.\n",
      "\u001b[34m\u001b[1mwandb\u001b[0m: Currently logged in as: \u001b[33mdavidhodel\u001b[0m (\u001b[33mdhodel-hslu-nlp\u001b[0m) to \u001b[32mhttps://api.wandb.ai\u001b[0m. Use \u001b[1m`wandb login --relogin`\u001b[0m to force relogin\n"
     ]
    },
    {
     "data": {
      "text/plain": [
       "True"
      ]
     },
     "execution_count": 35,
     "metadata": {},
     "output_type": "execute_result"
    }
   ],
   "source": [
    "wandb.login()"
   ]
  },
  {
   "cell_type": "markdown",
   "metadata": {},
   "source": [
    "We define our training run for the embeddings model."
   ]
  },
  {
   "cell_type": "code",
   "execution_count": 36,
   "metadata": {},
   "outputs": [
    {
     "data": {
      "text/html": [
       "Tracking run with wandb version 0.19.8"
      ],
      "text/plain": [
       "<IPython.core.display.HTML object>"
      ]
     },
     "metadata": {},
     "output_type": "display_data"
    },
    {
     "data": {
      "text/html": [
       "Run data is saved locally in <code>/home/david/git/HSLU.NLP/course_projects/wandb/run-20250401_163727-at8dtln7</code>"
      ],
      "text/plain": [
       "<IPython.core.display.HTML object>"
      ]
     },
     "metadata": {},
     "output_type": "display_data"
    },
    {
     "data": {
      "text/html": [
       "Syncing run <strong><a href='https://wandb.ai/dhodel-hslu-nlp/hslu-fs25-nlp-qa/runs/at8dtln7' target=\"_blank\">word-embedding-qa-2025-04-01T16:37:27</a></strong> to <a href='https://wandb.ai/dhodel-hslu-nlp/hslu-fs25-nlp-qa' target=\"_blank\">Weights & Biases</a> (<a href='https://wandb.me/developer-guide' target=\"_blank\">docs</a>)<br>"
      ],
      "text/plain": [
       "<IPython.core.display.HTML object>"
      ]
     },
     "metadata": {},
     "output_type": "display_data"
    },
    {
     "data": {
      "text/html": [
       " View project at <a href='https://wandb.ai/dhodel-hslu-nlp/hslu-fs25-nlp-qa' target=\"_blank\">https://wandb.ai/dhodel-hslu-nlp/hslu-fs25-nlp-qa</a>"
      ],
      "text/plain": [
       "<IPython.core.display.HTML object>"
      ]
     },
     "metadata": {},
     "output_type": "display_data"
    },
    {
     "data": {
      "text/html": [
       " View run at <a href='https://wandb.ai/dhodel-hslu-nlp/hslu-fs25-nlp-qa/runs/at8dtln7' target=\"_blank\">https://wandb.ai/dhodel-hslu-nlp/hslu-fs25-nlp-qa/runs/at8dtln7</a>"
      ],
      "text/plain": [
       "<IPython.core.display.HTML object>"
      ]
     },
     "metadata": {},
     "output_type": "display_data"
    },
    {
     "name": "stdout",
     "output_type": "stream",
     "text": [
      "Run name: word-embedding-qa-2025-04-01T16:37:27\n"
     ]
    }
   ],
   "source": [
    "embedding_run = wandb.init(\n",
    "  project=\"hslu-fs25-nlp-qa\",\n",
    "  entity=\"dhodel-hslu-nlp\",\n",
    "  name=f\"word-embedding-qa-{datetime.now().strftime('%Y-%m-%dT%H:%M:%S')}\",\n",
    "  config={\n",
    "    \"model\": \"word-embedding\",\n",
    "    \"embedding_dim\": embeddings_model.embedding_dim,\n",
    "    \"hidden_dim\": embeddings_model.hidden_dim,\n",
    "    \"initial_learning_rate\": 0.00011200805971143796,\n",
    "    \"max_learning_rate\": 0.001858758802163782,\n",
    "    \"batch_size\": embeddings_batch_size,\n",
    "    \"epochs\": 200,\n",
    "    \"weight_decay\": 0.0005,\n",
    "    \"dropout_prob\": embeddings_dropout_prob,\n",
    "  },\n",
    "  reinit=True,\n",
    ")\n",
    "\n",
    "print(f\"Run name: {embedding_run.name}\")"
   ]
  },
  {
   "cell_type": "markdown",
   "metadata": {},
   "source": [
    "To hook up the model to Weights & Biases, we call the `wandb.watch()` function and instruct it to watch the model."
   ]
  },
  {
   "cell_type": "code",
   "execution_count": 37,
   "metadata": {},
   "outputs": [],
   "source": [
    "wandb.watch(embeddings_model, log=\"all\")"
   ]
  },
  {
   "cell_type": "markdown",
   "metadata": {},
   "source": [
    "We use cross entropy loss as the loss function as it is well suited for multi-class classification tasks, such as this one.\n",
    "\n",
    "As the optimizer we chose AdamW as it has been shown to perform well in practice. Its integrated weight decay is also beneficial as it helps to prevent overfitting.\n",
    "\n",
    "For the learning rate scheduler, we use the `OneCycleLR` scheduler. It increases the learning rate from an initial learning rate to some maximum value and then from that maximum rate to some minimum learning rate much lower than the initial one. This warmup phase has been shown to improve the training process and the generalization of the model."
   ]
  },
  {
   "cell_type": "code",
   "execution_count": 38,
   "metadata": {},
   "outputs": [],
   "source": [
    "embeddings_num_epochs = embedding_run.config.epochs\n",
    "\n",
    "embeddings_criterion = nn.CrossEntropyLoss()\n",
    "embeddings_optimizer = torch.optim.AdamW(embeddings_model.parameters(), lr=embedding_run.config.initial_learning_rate, weight_decay=embedding_run.config.weight_decay)\n",
    "embeddings_scheduler = torch.optim.lr_scheduler.OneCycleLR(embeddings_optimizer, max_lr=embedding_run.config.max_learning_rate, steps_per_epoch=len(embeddings_train_loader), epochs=embeddings_num_epochs+1)"
   ]
  },
  {
   "cell_type": "markdown",
   "metadata": {},
   "source": [
    "Next we define the function to save model checkpoints. We save the weights of the model, the optimizer, the scheduler, and the current epoch.\n",
    "Sving checkpoints is important as it allows us to resume training from a certain point in case the training process is interrupted.\n",
    "Furthermore, it allows us to load the best model after training.\n",
    "\n",
    "For this, we save a checkpoint after each epoch and when a new highest validation accuracy is reached."
   ]
  },
  {
   "cell_type": "code",
   "execution_count": 36,
   "metadata": {},
   "outputs": [],
   "source": [
    "def save_checkpoint(model, optimizer, epoch, scheduler, save_model_path, checkpoint_name):\n",
    "  checkpoint_name = f\"{checkpoint_name}.pt\"\n",
    "  save_path = os.path.join(save_model_path, checkpoint_name)\n",
    "\n",
    "  torch.save({\n",
    "      \"epoch\": epoch,\n",
    "      \"model_state_dict\": model.state_dict(),\n",
    "      \"optimizer_state_dict\": optimizer.state_dict(),\n",
    "      \"scheduler_state_dict\": scheduler.state_dict() if scheduler is not None else None,\n",
    "  }, save_path)\n",
    "\n",
    "embeddings_checkpoints_path = \"./checkpoints/embeddings\"\n",
    "rnn_checkpoints_path = \"./checkpoints/rnn\"\n",
    "\n",
    "os.makedirs(embeddings_checkpoints_path, exist_ok=True)\n",
    "os.makedirs(rnn_checkpoints_path, exist_ok=True)"
   ]
  },
  {
   "cell_type": "markdown",
   "metadata": {},
   "source": [
    "Finally, we can train the model: We iterate over the training set and calculate the loss for each batch. We then backpropagate the loss and update the weights of the model. After iterating over the entire training set, we evaluate the model on the validation set and log all relevant metrics to Weights & Biases.\n",
    "\n",
    "We save a model checkpoint after each epoch and when a new highest validation accuracy is reached. This allows us to resume training from a certain point in case the training process is interrupted and to load the best model after training has finished for inference and evaluation."
   ]
  },
  {
   "cell_type": "code",
   "execution_count": 37,
   "metadata": {},
   "outputs": [],
   "source": [
    "def run_training_loop(model, criterion, optimizer, scheduler, train_loader, valid_loader, epochs, checkpoints_path, log_wandb=True):\n",
    "    best_val_accuracy = 0.0\n",
    "\n",
    "    for epoch in (pbar := trange(epochs)):\n",
    "        pbar.set_description(f\"Epoch {epoch+1}/{epochs}\")\n",
    "\n",
    "        # Initialize torcheval metrics for this epoch\n",
    "        train_accuracy_metric = metrics.MulticlassAccuracy(num_classes=5)\n",
    "        val_accuracy_metric = metrics.MulticlassAccuracy(num_classes=5)\n",
    "        \n",
    "        # Set metrics to the correct device\n",
    "        train_accuracy_metric.to(device)\n",
    "        val_accuracy_metric.to(device)\n",
    "        \n",
    "        # For loss tracking\n",
    "        train_total_loss = 0.0\n",
    "        val_total_loss = 0.0\n",
    "\n",
    "        model.train()\n",
    "\n",
    "        for batch in train_loader:\n",
    "            optimizer.zero_grad() # zero all the parameter gradients\n",
    "\n",
    "            batch = [tensor.to(device) for tensor in batch]\n",
    "            y_batch = batch.pop() # get the labels\n",
    "\n",
    "            # Forward pass\n",
    "            outputs = model(*batch)\n",
    "\n",
    "            # Compute loss\n",
    "            train_batch_loss = criterion(outputs, y_batch)\n",
    "            train_total_loss += train_batch_loss.item()\n",
    "            \n",
    "            # Update accuracy metric with torcheval\n",
    "            train_accuracy_metric.update(outputs, y_batch)\n",
    "\n",
    "            # Backward pass\n",
    "            train_batch_loss.backward()\n",
    "            torch.nn.utils.clip_grad_norm_(model.parameters(), 1.0) # clip gradients to prevent exploding gradients\n",
    "            \n",
    "            optimizer.step()\n",
    "            if scheduler:\n",
    "                scheduler.step()\n",
    "\n",
    "        # Calculate train statistics\n",
    "        avg_train_loss = train_total_loss / len(train_loader) # average loss per batch\n",
    "        train_accuracy = train_accuracy_metric.compute().item() # from torcheval\n",
    "\n",
    "        # Evaluate\n",
    "        model.eval()\n",
    "        val_total_loss = 0.0\n",
    "\n",
    "        with torch.no_grad():\n",
    "            for batch in valid_loader:\n",
    "                batch = [tensor.to(device) for tensor in batch]\n",
    "                y_batch = batch.pop()\n",
    "\n",
    "                val_outputs = model(*batch)\n",
    "\n",
    "                # Calculate validation loss\n",
    "                val_batch_loss = criterion(val_outputs, y_batch)\n",
    "                val_total_loss += val_batch_loss.item()\n",
    "                \n",
    "                # Update accuracy metric with torcheval\n",
    "                val_accuracy_metric.update(val_outputs, y_batch)\n",
    "\n",
    "        # Calculate validation statistics\n",
    "        avg_val_loss = val_total_loss / len(valid_loader) # average loss per batch\n",
    "        val_accuracy = val_accuracy_metric.compute().item() # from torcheval\n",
    "\n",
    "        # save regular checkpoint after each epoch\n",
    "        save_checkpoint(model, optimizer, epoch, scheduler, checkpoints_path, \"regular_checkpoint\")\n",
    "\n",
    "        # save additional checkpoints for best validation accuracy\n",
    "        if val_accuracy > best_val_accuracy:\n",
    "            best_val_accuracy = val_accuracy\n",
    "            save_checkpoint(model, optimizer, epoch, scheduler, checkpoints_path, \"best_val_acc\")\n",
    "\n",
    "        pbar.set_postfix({\"train_loss\": avg_train_loss, \"train_acc\": train_accuracy, \"val_acc\": val_accuracy})\n",
    "\n",
    "        if log_wandb:\n",
    "            # Log metrics to wandb\n",
    "            wandb.log({\n",
    "                \"epoch\": epoch,\n",
    "                \"train_loss\": avg_train_loss,\n",
    "                \"train_accuracy\": train_accuracy,\n",
    "                \"val_loss\": avg_val_loss,\n",
    "                \"val_accuracy\": val_accuracy,\n",
    "                \"learning_rate\": optimizer.param_groups[0]['lr'], # current learning rate\n",
    "            })\n",
    "\n",
    "    if log_wandb:\n",
    "        wandb.finish()"
   ]
  },
  {
   "cell_type": "markdown",
   "metadata": {},
   "source": [
    "We now run the training loop for the embeddings model."
   ]
  },
  {
   "cell_type": "code",
   "execution_count": 41,
   "metadata": {},
   "outputs": [
    {
     "name": "stderr",
     "output_type": "stream",
     "text": [
      "Epoch 200/200: 100%|██████████| 200/200 [11:01<00:00,  3.31s/it, train_loss=1.4, train_acc=0.408, val_acc=0.242] \n"
     ]
    },
    {
     "data": {
      "text/html": [],
      "text/plain": [
       "<IPython.core.display.HTML object>"
      ]
     },
     "metadata": {},
     "output_type": "display_data"
    },
    {
     "data": {
      "text/html": [
       "<br>    <style><br>        .wandb-row {<br>            display: flex;<br>            flex-direction: row;<br>            flex-wrap: wrap;<br>            justify-content: flex-start;<br>            width: 100%;<br>        }<br>        .wandb-col {<br>            display: flex;<br>            flex-direction: column;<br>            flex-basis: 100%;<br>            flex: 1;<br>            padding: 10px;<br>        }<br>    </style><br><div class=\"wandb-row\"><div class=\"wandb-col\"><h3>Run history:</h3><br/><table class=\"wandb\"><tr><td>epoch</td><td>▁▁▁▁▂▃▃▃▃▃▄▄▄▄▄▄▄▄▄▄▄▅▅▅▅▅▅▅▆▆▆▆▆▇▇▇▇▇██</td></tr><tr><td>learning_rate</td><td>▁▁▁▁▂▄▄▄▄▇████████▇▇▇▆▆▆▆▅▄▄▄▄▄▃▂▂▂▁▁▁▁▁</td></tr><tr><td>train_accuracy</td><td>▁▁▂▂▂▂▂▃▃▃▄▄▅▅▆▆▆▆▆▆▇▇▇▇▇▇█▇▇▇██████████</td></tr><tr><td>train_loss</td><td>███████████▇▇▇▇▇▇▇▆▆▅▅▅▅▄▂▂▂▂▂▂▂▂▁▁▁▁▁▁▁</td></tr><tr><td>val_accuracy</td><td>▁▂▃▂▄▅▄▅▂▃▅▅▅▄▆▆▇▄▇▆▆▇▇█▆▇█▆▆▇▇▇▆▇▆▆▇▇█▇</td></tr><tr><td>val_loss</td><td>▇▇▇▆▅▅▄▄▃▃▂▁▂▂▂▃▃▃▃▃▅▆▆▆▆▇▇▇▇█▇▇▇███████</td></tr></table><br/></div><div class=\"wandb-col\"><h3>Run summary:</h3><br/><table class=\"wandb\"><tr><td>epoch</td><td>199</td></tr><tr><td>learning_rate</td><td>0.0</td></tr><tr><td>train_accuracy</td><td>0.40842</td></tr><tr><td>train_loss</td><td>1.40356</td></tr><tr><td>val_accuracy</td><td>0.242</td></tr><tr><td>val_loss</td><td>1.61086</td></tr></table><br/></div></div>"
      ],
      "text/plain": [
       "<IPython.core.display.HTML object>"
      ]
     },
     "metadata": {},
     "output_type": "display_data"
    },
    {
     "data": {
      "text/html": [
       " View run <strong style=\"color:#cdcd00\">word-embedding-qa-2025-04-01T16:37:27</strong> at: <a href='https://wandb.ai/dhodel-hslu-nlp/hslu-fs25-nlp-qa/runs/at8dtln7' target=\"_blank\">https://wandb.ai/dhodel-hslu-nlp/hslu-fs25-nlp-qa/runs/at8dtln7</a><br> View project at: <a href='https://wandb.ai/dhodel-hslu-nlp/hslu-fs25-nlp-qa' target=\"_blank\">https://wandb.ai/dhodel-hslu-nlp/hslu-fs25-nlp-qa</a><br>Synced 5 W&B file(s), 0 media file(s), 0 artifact file(s) and 0 other file(s)"
      ],
      "text/plain": [
       "<IPython.core.display.HTML object>"
      ]
     },
     "metadata": {},
     "output_type": "display_data"
    },
    {
     "data": {
      "text/html": [
       "Find logs at: <code>./wandb/run-20250401_163727-at8dtln7/logs</code>"
      ],
      "text/plain": [
       "<IPython.core.display.HTML object>"
      ]
     },
     "metadata": {},
     "output_type": "display_data"
    }
   ],
   "source": [
    "run_training_loop(embeddings_model, embeddings_criterion, embeddings_optimizer, embeddings_scheduler, embeddings_train_loader, embeddings_valid_loader, embeddings_num_epochs, embeddings_checkpoints_path, log_wandb=True)"
   ]
  },
  {
   "cell_type": "markdown",
   "metadata": {},
   "source": [
    "### RNN"
   ]
  },
  {
   "cell_type": "markdown",
   "metadata": {},
   "source": [
    "For the RNN too, we define our W&B training run and hook up the model to W&B.\n",
    "\n",
    "We use the same loss function, optimizer, and learning rate scheduler as for the embeddings model. The only difference is that we use a different model."
   ]
  },
  {
   "cell_type": "code",
   "execution_count": 42,
   "metadata": {},
   "outputs": [
    {
     "data": {
      "text/html": [
       "Tracking run with wandb version 0.19.8"
      ],
      "text/plain": [
       "<IPython.core.display.HTML object>"
      ]
     },
     "metadata": {},
     "output_type": "display_data"
    },
    {
     "data": {
      "text/html": [
       "Run data is saved locally in <code>/home/david/git/HSLU.NLP/course_projects/wandb/run-20250402_173604-s4fn9cm7</code>"
      ],
      "text/plain": [
       "<IPython.core.display.HTML object>"
      ]
     },
     "metadata": {},
     "output_type": "display_data"
    },
    {
     "data": {
      "text/html": [
       "Syncing run <strong><a href='https://wandb.ai/dhodel-hslu-nlp/hslu-fs25-nlp-qa/runs/s4fn9cm7' target=\"_blank\">rnn-qa-2025-04-02T17:36:04</a></strong> to <a href='https://wandb.ai/dhodel-hslu-nlp/hslu-fs25-nlp-qa' target=\"_blank\">Weights & Biases</a> (<a href='https://wandb.me/developer-guide' target=\"_blank\">docs</a>)<br>"
      ],
      "text/plain": [
       "<IPython.core.display.HTML object>"
      ]
     },
     "metadata": {},
     "output_type": "display_data"
    },
    {
     "data": {
      "text/html": [
       " View project at <a href='https://wandb.ai/dhodel-hslu-nlp/hslu-fs25-nlp-qa' target=\"_blank\">https://wandb.ai/dhodel-hslu-nlp/hslu-fs25-nlp-qa</a>"
      ],
      "text/plain": [
       "<IPython.core.display.HTML object>"
      ]
     },
     "metadata": {},
     "output_type": "display_data"
    },
    {
     "data": {
      "text/html": [
       " View run at <a href='https://wandb.ai/dhodel-hslu-nlp/hslu-fs25-nlp-qa/runs/s4fn9cm7' target=\"_blank\">https://wandb.ai/dhodel-hslu-nlp/hslu-fs25-nlp-qa/runs/s4fn9cm7</a>"
      ],
      "text/plain": [
       "<IPython.core.display.HTML object>"
      ]
     },
     "metadata": {},
     "output_type": "display_data"
    },
    {
     "name": "stdout",
     "output_type": "stream",
     "text": [
      "Run name: rnn-qa-2025-04-02T17:36:04\n"
     ]
    }
   ],
   "source": [
    "rnn_run = wandb.init(\n",
    "  project=\"hslu-fs25-nlp-qa\",\n",
    "  entity=\"dhodel-hslu-nlp\",\n",
    "  name=f\"rnn-qa-{datetime.now().strftime('%Y-%m-%dT%H:%M:%S')}\",\n",
    "  config={\n",
    "    \"model\": \"rnn\",\n",
    "    \"embedding_dim\": rnn_model.embedding_dim,\n",
    "    \"rnn_hidden_dim\": rnn_model.rnn_hidden_dim,\n",
    "    \"classifier_hidden_dim\": rnn_model.classifier_hidden_dim,\n",
    "    \"initial_learning_rate\": 0.00015219259284979554,\n",
    "    \"max_learning_rate\": 0.003339122452849675,\n",
    "    \"batch_size\": rnn_batch_size,\n",
    "    \"epochs\": 50,\n",
    "    \"weight_decay\": 0.003339122452849675,\n",
    "    \"dropout_prob\": rnn_dropout_prob\n",
    "  },\n",
    "  reinit=True,\n",
    ")\n",
    "\n",
    "print(f\"Run name: {rnn_run.name}\")\n",
    "\n",
    "wandb.watch(rnn_model, log=\"all\")"
   ]
  },
  {
   "cell_type": "code",
   "execution_count": 43,
   "metadata": {},
   "outputs": [],
   "source": [
    "rnn_num_epochs = rnn_run.config.epochs\n",
    "\n",
    "rnn_criterion = nn.CrossEntropyLoss()\n",
    "rnn_optimizer = torch.optim.AdamW(rnn_model.parameters(), lr=rnn_run.config.initial_learning_rate, weight_decay=rnn_run.config.weight_decay)\n",
    "rnn_scheduler = torch.optim.lr_scheduler.OneCycleLR(rnn_optimizer, max_lr=rnn_run.config.max_learning_rate, steps_per_epoch=len(rnn_train_loader), epochs=rnn_num_epochs+1)"
   ]
  },
  {
   "cell_type": "code",
   "execution_count": 44,
   "metadata": {},
   "outputs": [
    {
     "name": "stderr",
     "output_type": "stream",
     "text": [
      "Epoch 50/50: 100%|██████████| 50/50 [02:37<00:00,  3.15s/it, train_loss=0.0158, train_acc=0.998, val_acc=0.188]\n"
     ]
    },
    {
     "data": {
      "text/html": [],
      "text/plain": [
       "<IPython.core.display.HTML object>"
      ]
     },
     "metadata": {},
     "output_type": "display_data"
    },
    {
     "data": {
      "text/html": [
       "<br>    <style><br>        .wandb-row {<br>            display: flex;<br>            flex-direction: row;<br>            flex-wrap: wrap;<br>            justify-content: flex-start;<br>            width: 100%;<br>        }<br>        .wandb-col {<br>            display: flex;<br>            flex-direction: column;<br>            flex-basis: 100%;<br>            flex: 1;<br>            padding: 10px;<br>        }<br>    </style><br><div class=\"wandb-row\"><div class=\"wandb-col\"><h3>Run history:</h3><br/><table class=\"wandb\"><tr><td>epoch</td><td>▁▁▁▁▂▂▂▂▂▂▃▃▃▃▃▄▄▄▄▄▅▅▅▅▅▅▆▆▆▆▆▆▇▇▇▇▇███</td></tr><tr><td>learning_rate</td><td>▁▂▂▂▃▄▅▆▆▇████████▇▇▇▇▆▆▅▅▅▄▄▄▃▃▂▂▂▂▁▁▁▁</td></tr><tr><td>train_accuracy</td><td>▁▁▁▁▁▁▁▁▁▁▁▂▂▂▂▃▃▃▃▄▅▅▅▆▆▇▇▇▇███████████</td></tr><tr><td>train_loss</td><td>███████████████▇▇▇▇▆▆▅▅▄▄▃▃▂▂▂▁▁▁▁▁▁▁▁▁▁</td></tr><tr><td>val_accuracy</td><td>▅▄▅▂▅▃▄▄▆▃▁▄▄█▃▄▃▃▅▅▄▃▄▆▄▄▅▃▃▄▅▃▄▅▄▄▄▄▃▃</td></tr><tr><td>val_loss</td><td>▁▁▁▁▁▁▁▁▁▁▁▁▁▁▁▁▁▁▂▂▂▂▃▃▃▄▅▅▆▆▇▇▇▇██████</td></tr></table><br/></div><div class=\"wandb-col\"><h3>Run summary:</h3><br/><table class=\"wandb\"><tr><td>epoch</td><td>49</td></tr><tr><td>learning_rate</td><td>1e-05</td></tr><tr><td>train_accuracy</td><td>0.99794</td></tr><tr><td>train_loss</td><td>0.0158</td></tr><tr><td>val_accuracy</td><td>0.188</td></tr><tr><td>val_loss</td><td>10.03779</td></tr></table><br/></div></div>"
      ],
      "text/plain": [
       "<IPython.core.display.HTML object>"
      ]
     },
     "metadata": {},
     "output_type": "display_data"
    },
    {
     "data": {
      "text/html": [
       " View run <strong style=\"color:#cdcd00\">rnn-qa-2025-04-02T17:36:04</strong> at: <a href='https://wandb.ai/dhodel-hslu-nlp/hslu-fs25-nlp-qa/runs/s4fn9cm7' target=\"_blank\">https://wandb.ai/dhodel-hslu-nlp/hslu-fs25-nlp-qa/runs/s4fn9cm7</a><br> View project at: <a href='https://wandb.ai/dhodel-hslu-nlp/hslu-fs25-nlp-qa' target=\"_blank\">https://wandb.ai/dhodel-hslu-nlp/hslu-fs25-nlp-qa</a><br>Synced 5 W&B file(s), 0 media file(s), 0 artifact file(s) and 0 other file(s)"
      ],
      "text/plain": [
       "<IPython.core.display.HTML object>"
      ]
     },
     "metadata": {},
     "output_type": "display_data"
    },
    {
     "data": {
      "text/html": [
       "Find logs at: <code>./wandb/run-20250402_173604-s4fn9cm7/logs</code>"
      ],
      "text/plain": [
       "<IPython.core.display.HTML object>"
      ]
     },
     "metadata": {},
     "output_type": "display_data"
    }
   ],
   "source": [
    "run_training_loop(rnn_model, rnn_criterion, rnn_optimizer, rnn_scheduler, rnn_train_loader, rnn_valid_loader, rnn_num_epochs, rnn_checkpoints_path, log_wandb=True)"
   ]
  },
  {
   "cell_type": "markdown",
   "metadata": {},
   "source": [
    "## Evaluation"
   ]
  },
  {
   "cell_type": "markdown",
   "metadata": {},
   "source": [
    "In this chapter we evaluate the two models on the test set to get a feeling of how well they perform on unseen data."
   ]
  },
  {
   "cell_type": "markdown",
   "metadata": {},
   "source": [
    "First, we define a method to load a model from a checkpoint on disk."
   ]
  },
  {
   "cell_type": "code",
   "execution_count": 38,
   "metadata": {},
   "outputs": [],
   "source": [
    "def load_checkpoint(model, checkpoint_path):\n",
    "    checkpoint = torch.load(checkpoint_path)\n",
    "    model.load_state_dict(checkpoint[\"model_state_dict\"])\n",
    "    return model, checkpoint[\"epoch\"]"
   ]
  },
  {
   "cell_type": "markdown",
   "metadata": {},
   "source": [
    "With this, we can load the best model from the embeddings model training and set it to evaluation mode."
   ]
  },
  {
   "cell_type": "code",
   "execution_count": 39,
   "metadata": {},
   "outputs": [
    {
     "name": "stdout",
     "output_type": "stream",
     "text": [
      "Loaded embeddings model checkpoint from epoch 127\n"
     ]
    }
   ],
   "source": [
    "best_embeddings_checkpoint_path = os.path.join(embeddings_checkpoints_path, \"best_val_acc.pt\")\n",
    "embeddings_model, best_embeddings_epoch = load_checkpoint(embeddings_model, best_embeddings_checkpoint_path)\n",
    "embeddings_model = embeddings_model.to(device)\n",
    "embeddings_model.eval()\n",
    "print(f\"Loaded embeddings model checkpoint from epoch {best_embeddings_epoch}\")"
   ]
  },
  {
   "cell_type": "markdown",
   "metadata": {},
   "source": [
    "The same goes for the RNN model."
   ]
  },
  {
   "cell_type": "code",
   "execution_count": 40,
   "metadata": {},
   "outputs": [
    {
     "name": "stdout",
     "output_type": "stream",
     "text": [
      "Loaded RNN model checkpoint from epoch 47\n"
     ]
    }
   ],
   "source": [
    "best_rnn_checkpoint_path = os.path.join(rnn_checkpoints_path, \"best_val_acc.pt\")\n",
    "rnn_model, best_rnn_epoch = load_checkpoint(rnn_model, best_rnn_checkpoint_path)\n",
    "rnn_model = rnn_model.to(device)\n",
    "rnn_model.eval()\n",
    "print(f\"Loaded RNN model checkpoint from epoch {best_rnn_epoch}\")"
   ]
  },
  {
   "cell_type": "markdown",
   "metadata": {},
   "source": [
    "We prepare the datasets and dataloaders with the test data for both models to be used for evaluation."
   ]
  },
  {
   "cell_type": "code",
   "execution_count": 41,
   "metadata": {},
   "outputs": [],
   "source": [
    "embeddings_test_dataset = EmbeddingsCommonsenseQADataset(test)\n",
    "embeddings_test_loader = DataLoader(embeddings_test_dataset, batch_size=embeddings_batch_size, shuffle=False, num_workers=8)\n",
    "\n",
    "rnn_test_dataset = RNNCommonsenseQADataset(test)\n",
    "rnn_test_loader = DataLoader(rnn_test_dataset, batch_size=rnn_batch_size, shuffle=False, num_workers=8, collate_fn=pad_collate_fn)"
   ]
  },
  {
   "cell_type": "markdown",
   "metadata": {},
   "source": [
    "Similar to the training loop, we will define a function to evaluate the model on the test set. This function will calculate the accuracy and return the predictions and true labels for further analysis."
   ]
  },
  {
   "cell_type": "code",
   "execution_count": 42,
   "metadata": {},
   "outputs": [],
   "source": [
    "def evaluate_model(model, test_loader):\n",
    "    model.eval()\n",
    "    \n",
    "    # Initialize torcheval metrics\n",
    "    accuracy_metric = metrics.MulticlassAccuracy(num_classes=5)\n",
    "    precision_metric = metrics.MulticlassPrecision(num_classes=5)\n",
    "    recall_metric = metrics.MulticlassRecall(num_classes=5)\n",
    "    f1_metric = metrics.MulticlassF1Score(num_classes=5)\n",
    "    \n",
    "    # Move metrics to the correct device\n",
    "    accuracy_metric.to(device)\n",
    "    precision_metric.to(device)\n",
    "    recall_metric.to(device)\n",
    "    f1_metric.to(device)\n",
    "    \n",
    "    all_predictions = []\n",
    "    all_labels = []\n",
    "    all_outputs = []  # Store raw model outputs for further analysis\n",
    "\n",
    "    with torch.no_grad():\n",
    "        for batch in test_loader:\n",
    "            batch = [tensor.to(device) for tensor in batch]\n",
    "            y_batch = batch.pop()\n",
    "\n",
    "            # Forward pass\n",
    "            outputs = model(*batch)\n",
    "            \n",
    "            # Update all metrics\n",
    "            accuracy_metric.update(outputs, y_batch)\n",
    "            precision_metric.update(outputs, y_batch)\n",
    "            recall_metric.update(outputs, y_batch)\n",
    "            f1_metric.update(outputs, y_batch)\n",
    "            \n",
    "            # Get predictions for further analysis\n",
    "            predictions = torch.argmax(outputs, dim=1)\n",
    "            \n",
    "            # Store predictions, outputs and labels\n",
    "            all_predictions.extend(predictions.cpu().numpy())\n",
    "            all_labels.extend(y_batch.cpu().numpy())\n",
    "            all_outputs.append(outputs.cpu().detach())\n",
    "\n",
    "    # Compute all metrics\n",
    "    metrics_dict = {\n",
    "        \"accuracy\": accuracy_metric.compute().item(),\n",
    "        \"precision\": precision_metric.compute().tolist(),  # Per-class precision\n",
    "        \"recall\": recall_metric.compute().tolist(),        # Per-class recall\n",
    "        \"f1\": f1_metric.compute().tolist(),                # Per-class F1\n",
    "        \"macro_precision\": torch.mean(precision_metric.compute()).item(),\n",
    "        \"macro_recall\": torch.mean(recall_metric.compute()).item(),\n",
    "        \"macro_f1\": torch.mean(f1_metric.compute()).item()\n",
    "    }\n",
    "    \n",
    "    return metrics_dict, all_predictions, all_labels, torch.cat(all_outputs)"
   ]
  },
  {
   "cell_type": "markdown",
   "metadata": {},
   "source": [
    "We run the evaluation function for both models and save its results."
   ]
  },
  {
   "cell_type": "code",
   "execution_count": 43,
   "metadata": {},
   "outputs": [],
   "source": [
    "embeddings_metrics, embeddings_predictions, embeddings_labels, embeddings_outputs = evaluate_model(embeddings_model, embeddings_test_loader)\n",
    "rnn_metrics, rnn_predictions, rnn_labels, rnn_outputs = evaluate_model(rnn_model, rnn_test_loader)\n",
    "\n",
    "embeddings_labels_tensor = torch.tensor(embeddings_labels)\n",
    "embeddings_predictions_tensor = torch.tensor(embeddings_predictions)\n",
    "rnn_labels_tensor = torch.tensor(rnn_labels)\n",
    "rnn_predictions_tensor = torch.tensor(rnn_predictions)"
   ]
  },
  {
   "cell_type": "markdown",
   "metadata": {},
   "source": [
    "We're interested in the accuracy of the models on the test set to see how well they generalize to unseen data.\n",
    "The absolute difference in accuracy between the two models is also of interest to see which model performs better."
   ]
  },
  {
   "cell_type": "code",
   "execution_count": 44,
   "metadata": {},
   "outputs": [
    {
     "name": "stdout",
     "output_type": "stream",
     "text": [
      "Embeddings Model Test Accuracy: 0.2580\n",
      "RNN Model Test Accuracy: 0.1982\n",
      "Difference: 0.0598 in favor of the Embeddings model\n"
     ]
    }
   ],
   "source": [
    "print(f\"Embeddings Model Test Accuracy: {embeddings_metrics['accuracy']:.4f}\")\n",
    "print(f\"RNN Model Test Accuracy: {rnn_metrics['accuracy']:.4f}\")\n",
    "print(f\"Difference: {abs(embeddings_metrics['accuracy'] - rnn_metrics['accuracy']):.4f} in favor of the {'Embeddings' if embeddings_metrics['accuracy'] > rnn_metrics['accuracy'] else 'RNN'} model\")"
   ]
  },
  {
   "cell_type": "code",
   "execution_count": 45,
   "metadata": {},
   "outputs": [
    {
     "name": "stdout",
     "output_type": "stream",
     "text": [
      "Embeddings Model - Macro Precision: 0.2580, Macro Recall: 0.2580, Macro F1: 0.2580\n",
      "RNN Model - Macro Precision: 0.1982, Macro Recall: 0.1982, Macro F1: 0.1982\n"
     ]
    }
   ],
   "source": [
    "print(f\"Embeddings Model - Macro Precision: {embeddings_metrics['macro_precision']:.4f}, Macro Recall: {embeddings_metrics['macro_recall']:.4f}, Macro F1: {embeddings_metrics['macro_f1']:.4f}\")\n",
    "print(f\"RNN Model - Macro Precision: {rnn_metrics['macro_precision']:.4f}, Macro Recall: {rnn_metrics['macro_recall']:.4f}, Macro F1: {rnn_metrics['macro_f1']:.4f}\")"
   ]
  },
  {
   "cell_type": "markdown",
   "metadata": {},
   "source": [
    "For this, we first create a mapping from the answer index back to the answer key (`0` -> `A`, `1` -> `B`, ..., `4` -> `E`). Then we use `sklearn`'s `classification_report` function to calculate the precision, recall, and F1 score for each class."
   ]
  },
  {
   "cell_type": "markdown",
   "metadata": {},
   "source": [
    "Another interesting part is the agreement between the two models. We calculate the percentage of questions where both models agree on the answer."
   ]
  },
  {
   "cell_type": "code",
   "execution_count": 54,
   "metadata": {},
   "outputs": [
    {
     "name": "stdout",
     "output_type": "stream",
     "text": [
      "\n",
      "Models agree on 255 out of 1221 examples (20.88%)\n",
      "Disagreement percentage: 79.12%\n"
     ]
    }
   ],
   "source": [
    "agreements = np.sum(np.array(embeddings_predictions) == np.array(rnn_predictions))\n",
    "agreement_percentage = agreements / len(embeddings_predictions) * 100\n",
    "print(f\"\\nModels agree on {agreements} out of {len(embeddings_predictions)} examples ({agreement_percentage:.2f}%)\")\n",
    "\n",
    "disagreement_indices = np.where(np.array(embeddings_predictions) != np.array(rnn_predictions))[0]\n",
    "disagreement_percentage = len(disagreement_indices) / len(embeddings_predictions) * 100\n",
    "print(f\"Disagreement percentage: {disagreement_percentage:.2f}%\")"
   ]
  },
  {
   "cell_type": "markdown",
   "metadata": {},
   "source": [
    "The per-class performance is also important to see if the models perform better on certain classes than others. This can give us insights into the strengths and weaknesses of the models.\n",
    "\n",
    "For this, we first create a mapping from the answer index back to the answer key (`0` -> `A`, `1` -> `B`, ..., `4` -> `E`). Then we use `sklearn`'s `classification_report` function to calculate the precision, recall, and F1 score for each class.\n",
    "\n",
    "Finally, we plot the confusion matrix to see where the models make mistakes."
   ]
  },
  {
   "cell_type": "code",
   "execution_count": 47,
   "metadata": {},
   "outputs": [],
   "source": [
    "label_mapping = {i: chr(65 + i) for i in range(5)}  # 0->A, 1->B, etc.\n",
    "label_names = list(label_mapping.values())"
   ]
  },
  {
   "cell_type": "code",
   "execution_count": 48,
   "metadata": {},
   "outputs": [
    {
     "name": "stdout",
     "output_type": "stream",
     "text": [
      "\n",
      "Embeddings Model Classification Report:\n",
      "              precision    recall  f1-score   support\n",
      "\n",
      "           A       0.27      0.28      0.28       239\n",
      "           B       0.26      0.25      0.26       255\n",
      "           C       0.24      0.24      0.24       241\n",
      "           D       0.26      0.25      0.26       251\n",
      "           E       0.26      0.27      0.27       235\n",
      "\n",
      "    accuracy                           0.26      1221\n",
      "   macro avg       0.26      0.26      0.26      1221\n",
      "weighted avg       0.26      0.26      0.26      1221\n",
      "\n",
      "\n",
      "RNN Model Classification Report:\n",
      "              precision    recall  f1-score   support\n",
      "\n",
      "           A       0.18      0.19      0.19       239\n",
      "           B       0.24      0.23      0.23       255\n",
      "           C       0.18      0.18      0.18       241\n",
      "           D       0.20      0.18      0.19       251\n",
      "           E       0.19      0.20      0.20       235\n",
      "\n",
      "    accuracy                           0.20      1221\n",
      "   macro avg       0.20      0.20      0.20      1221\n",
      "weighted avg       0.20      0.20      0.20      1221\n",
      "\n"
     ]
    }
   ],
   "source": [
    "print(\"\\nEmbeddings Model Classification Report:\")\n",
    "print(classification_report(embeddings_labels, embeddings_predictions, target_names=label_names, zero_division=0))\n",
    "\n",
    "print(\"\\nRNN Model Classification Report:\")\n",
    "print(classification_report(rnn_labels, rnn_predictions, target_names=label_names, zero_division=0))"
   ]
  },
  {
   "cell_type": "code",
   "execution_count": 55,
   "metadata": {},
   "outputs": [
    {
     "data": {
      "image/png": "[encoded data removed]",
      "text/plain": [
       "<Figure size 1400x600 with 4 Axes>"
      ]
     },
     "metadata": {},
     "output_type": "display_data"
    }
   ],
   "source": [
    "embeddings_cm = confusion_matrix(embeddings_labels, embeddings_predictions)\n",
    "rnn_cm = confusion_matrix(rnn_labels, rnn_predictions)\n",
    "\n",
    "# determine the global min and max values for consistent scaling\n",
    "global_vmin = min(embeddings_cm.min(), rnn_cm.min())\n",
    "global_vmax = max(embeddings_cm.max(), rnn_cm.max())\n",
    "\n",
    "fig, (ax1, ax2) = plt.subplots(1, 2, figsize=(14, 6))\n",
    "\n",
    "# plot Embeddings Confusion Matrix\n",
    "sns.heatmap(embeddings_cm, annot=True, fmt=\"d\", cmap=\"Blues\", \n",
    "            xticklabels=label_names, yticklabels=label_names, \n",
    "            ax=ax1, vmin=global_vmin, vmax=global_vmax)\n",
    "ax1.set_title(\"Embeddings Model Confusion Matrix\", fontsize=14)\n",
    "ax1.set_xlabel(\"Predicted Choice\", fontsize=12)\n",
    "ax1.set_ylabel(\"True Choice\", fontsize=12)\n",
    "\n",
    "# plot RNN Confusion Matrix\n",
    "sns.heatmap(rnn_cm, annot=True, fmt=\"d\", cmap=\"Blues\", \n",
    "            xticklabels=label_names, yticklabels=label_names, \n",
    "            ax=ax2, vmin=global_vmin, vmax=global_vmax)\n",
    "ax2.set_title(\"RNN Model Confusion Matrix\", fontsize=14)\n",
    "ax2.set_xlabel(\"Predicted Choice\", fontsize=12)\n",
    "ax2.set_ylabel(\"True Choice\", fontsize=12)\n",
    "\n",
    "plt.tight_layout()\n",
    "plt.show()\n",
    "\n",
    "fig.savefig(\"graphics/confusion_matrices.svg\", bbox_inches=\"tight\")"
   ]
  },
  {
   "cell_type": "markdown",
   "metadata": {},
   "source": [
    "We display a couple of examples where the models disagree to see if there's a obvious pattern."
   ]
  },
  {
   "cell_type": "code",
   "execution_count": 57,
   "metadata": {},
   "outputs": [
    {
     "name": "stdout",
     "output_type": "stream",
     "text": [
      "\n",
      "Examples where models disagree (966 cases):\n",
      "\n",
      "Question: A revolving door is convenient for two direction travel, but it also serves as a security measure at a what?\n",
      "A) bank\n",
      "B) library\n",
      "C) department store\n",
      "D) mall\n",
      "E) new york\n",
      "True Answer: A\n",
      "Embeddings Model Prediction: E\n",
      "RNN Model Prediction: B\n",
      "--------------------------------------------------------------------------------\n",
      "\n",
      "Question: Where would you find magazines along side many other printed works?\n",
      "A) doctor\n",
      "B) bookstore\n",
      "C) market\n",
      "D) train station\n",
      "E) mortuary\n",
      "True Answer: B\n",
      "Embeddings Model Prediction: C\n",
      "RNN Model Prediction: A\n",
      "--------------------------------------------------------------------------------\n",
      "\n",
      "Question: Where are  you likely to find a hamburger?\n",
      "A) fast food restaurant\n",
      "B) pizza\n",
      "C) ground up dead cows\n",
      "D) mouth\n",
      "E) cow carcus\n",
      "True Answer: A\n",
      "Embeddings Model Prediction: A\n",
      "RNN Model Prediction: E\n",
      "--------------------------------------------------------------------------------\n",
      "\n",
      "Question: James was looking for a good place to buy farmland.  Where might he look?\n",
      "A) midwest\n",
      "B) countryside\n",
      "C) estate\n",
      "D) farming areas\n",
      "E) illinois\n",
      "True Answer: A\n",
      "Embeddings Model Prediction: C\n",
      "RNN Model Prediction: E\n",
      "--------------------------------------------------------------------------------\n",
      "\n",
      "Question: What island country is ferret popular?\n",
      "A) own home\n",
      "B) north carolina\n",
      "C) great britain\n",
      "D) hutch\n",
      "E) outdoors\n",
      "True Answer: C\n",
      "Embeddings Model Prediction: C\n",
      "RNN Model Prediction: B\n",
      "--------------------------------------------------------------------------------\n"
     ]
    }
   ],
   "source": [
    "# Visualize examples where models disagree\n",
    "disagreement_indices = np.where(np.array(embeddings_predictions) != np.array(rnn_predictions))[0]\n",
    "print(f\"\\nExamples where models disagree ({len(disagreement_indices)} cases):\")\n",
    "\n",
    "# Show a few examples\n",
    "num_examples_to_show = 5\n",
    "for i in range(num_examples_to_show):\n",
    "    idx = int(disagreement_indices[i])\n",
    "    example = test[idx]\n",
    "    print(f\"\\nQuestion: {example['question']}\")\n",
    "    for j, choice in enumerate(example[\"choices\"][\"text\"]):\n",
    "        print(f\"{chr(65+j)}) {choice}\")\n",
    "    print(f\"True Answer: {example['answerKey']}\")\n",
    "    print(f\"Embeddings Model Prediction: {label_mapping[embeddings_predictions[idx]]}\")\n",
    "    print(f\"RNN Model Prediction: {label_mapping[rnn_predictions[idx]]}\")\n",
    "    print(\"-\" * 80)"
   ]
  },
  {
   "cell_type": "code",
   "execution_count": 61,
   "metadata": {},
   "outputs": [
    {
     "name": "stdout",
     "output_type": "stream",
     "text": [
      "\n",
      "Only Embeddings Model Correct: 254 examples\n",
      "Only RNN Model Correct: 181 examples\n",
      "Both Models Correct: 61 examples\n",
      "Both Models Incorrect: 725 examples\n"
     ]
    }
   ],
   "source": [
    "# Calculate examples where only one model is correct\n",
    "embeddings_correct = np.array(embeddings_predictions) == np.array(embeddings_labels)\n",
    "rnn_correct = np.array(rnn_predictions) == np.array(rnn_labels)\n",
    "\n",
    "only_embeddings_correct = np.logical_and(embeddings_correct, np.logical_not(rnn_correct))\n",
    "only_rnn_correct = np.logical_and(rnn_correct, np.logical_not(embeddings_correct))\n",
    "\n",
    "print(f\"\\nOnly Embeddings Model Correct: {np.sum(only_embeddings_correct)} examples\")\n",
    "print(f\"Only RNN Model Correct: {np.sum(only_rnn_correct)} examples\")\n",
    "print(f\"Both Models Correct: {np.sum(np.logical_and(embeddings_correct, rnn_correct))} examples\")\n",
    "print(f\"Both Models Incorrect: {np.sum(np.logical_and(np.logical_not(embeddings_correct), np.logical_not(rnn_correct)))} examples\")"
   ]
  },
  {
   "cell_type": "markdown",
   "metadata": {},
   "source": [
    "## Interpretation\n",
    "\n",
    "### Performance Analysis\n",
    "\n",
    "The results of the evaluation show a difference in performance between the two models:\n",
    "- The embeddings model achieves an accuracy of 25.80% on the test set\n",
    "- The RNN model achieves an accuracy of 19.82% on the test set\n",
    "\n",
    "This is a difference of 5.98 percentage points in favor of the embeddings model.\n",
    "\n",
    "Given that random chance would yield 20% accuracy (with 5 possible answers), the embeddings model demonstrates a modest improvement over random guessing. The RNN model performs slightly below random chance. This suggests that the simple word embedding averaging approach captured more useful information for this task than the sequence modeling approach.\n",
    "\n",
    "### Model Agreement\n",
    "\n",
    "An interesting observation is the low agreement between the two models. The models agree on only 255 out of 1221 examples (20.88%). This could mean that either the models have learned different patterns in the data or that one was unable to learn the patterns at all.\n",
    "\n",
    "### Per-Class Performance\n",
    "\n",
    "Looking at the classification reports:\n",
    "- Both models show relatively balanced performance across all answer options\n",
    "- The embeddings model maintains consistent precision, recall, and F1 scores around 0.24-0.28 for all classes\n",
    "- The RNN model shows slightly more variation, with metrics ranging from 0.18-0.24 across classes\n",
    "- Neither model shows strong bias toward particular answer choices\n",
    "\n",
    "### Confusion Matrix\n",
    "\n",
    "The confusion matrix shows that both models struggle to distinguish between the answer choices. This is expected given the low accuracy of both models. There is however no clear pattern in the confusion matrix that would suggest a systematic error in the models.\n",
    "\n",
    "### Training Dynamics\n",
    "\n",
    "The RNN model shows rapid initial improvement in training accuracy but struggles to generalize to the validation set. During training the validation loss even increases, indicating that the model is becoming less confident in its predictions.\n",
    "Same, but less pronounced, for the embeddings model.\n",
    "\n",
    "Both models show signs of (heavy) overfitting, despite the numerous regularization techniques applied (dropout, weight decay, gradient clipping, large batch size, etc.).\n",
    "\n",
    "### Conclusion\n",
    "\n",
    "The embedding averaging approach, despite discarding sequential information, outperformed the more complex RNN model.\n",
    "This is strange as the RNN model should be able to capture more complex patterns in the data. It is possible that the RNN model was not able to learn the patterns in the data due to the small dataset size or the complexity of the task.\n",
    "\n",
    "Both models only achieved modest performance on the test set; the embedding model being slightly better than random chance and the RNN model even slightly worse.\n",
    "\n",
    "The low performance of the RNN model confused me, as I really expected it to be better. I invested a lot of time in debugging the model, dataset, dataloader, collate function etc. but couldn't find an obvious mistake. I also tried a lot  of different hyperparameters using Sweeps in W&B, but nothing really helped. I also tried different input formats where the question with a single choice was passed to the RNN, but this didn't help either. Neither did different special tokens or different padding strategies."
   ]
  },
  {
   "cell_type": "markdown",
   "metadata": {},
   "source": [
    "## Tools Used\n",
    "\n",
    "- Visual Studio Code as IDE\n",
    "- Jupyter Notebook for interactive development\n",
    "- Python 3.9.21\n",
    "- GitHub for version control\n",
    "- Weights & Biases for experiment tracking and hyperparameter optimization\n",
    "- Claude 3.7 Sonnet for troubleshooting, finding bugs and discussing ideas\n",
    "- Github Copilot Chat for troubleshooting and finding bugs"
   ]
  }
 ],
 "metadata": {
  "kernelspec": {
   "display_name": "nlp-real",
   "language": "python",
   "name": "python3"
  },
  "language_info": {
   "codemirror_mode": {
    "name": "ipython",
    "version": 3
   },
   "file_extension": ".py",
   "mimetype": "text/x-python",
   "name": "python",
   "nbconvert_exporter": "python",
   "pygments_lexer": "ipython3",
   "version": "3.9.21"
  }
 },
 "nbformat": 4,
 "nbformat_minor": 2
}
