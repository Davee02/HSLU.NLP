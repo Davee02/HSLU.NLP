{
 "cells": [
  {
   "cell_type": "markdown",
   "metadata": {},
   "source": [
    "# FS25 Course Project 1: Word embeddings / RNN\n",
    "\n",
    "By David Hodel"
   ]
  },
  {
   "cell_type": "markdown",
   "metadata": {},
   "source": [
    "## Introduction\n",
    "\n",
    "In this notebook, I present my solution to the first course project of the FS25 NLP module @ HSLU.\n",
    "\n",
    "The task is to train answer commonsense question using word embeddings and RNNs. The CommonsenseQA ([Talmor et al., 2019](https://aclanthology.org/N19-1421/)) dataset is used for his purpose. The dataset consists of 12,247 questions with 5 choices each, where only one is correct. The questions are designed to require commonsense reasoning to answer correctly."
   ]
  },
  {
   "cell_type": "markdown",
   "metadata": {},
   "source": [
    "## Setup"
   ]
  },
  {
   "cell_type": "markdown",
   "metadata": {},
   "source": [
    "We first import the necessary libraries to run the code."
   ]
  },
  {
   "cell_type": "code",
   "execution_count": 2,
   "metadata": {},
   "outputs": [],
   "source": [
    "import logging\n",
    "\n",
    "from collections import Counter\n",
    "\n",
    "from datasets import load_dataset\n",
    "import matplotlib.pyplot as plt\n",
    "from nltk.tokenize import word_tokenize\n",
    "from gensim.models import FastText\n",
    "\n",
    "import nltk"
   ]
  },
  {
   "cell_type": "markdown",
   "metadata": {},
   "source": [
    "We set up logging to get a better overview of the training process."
   ]
  },
  {
   "cell_type": "code",
   "execution_count": null,
   "metadata": {},
   "outputs": [],
   "source": [
    "logging.basicConfig(format='%(asctime)s : %(levelname)s : %(message)s', level=logging.INFO)"
   ]
  },
  {
   "cell_type": "markdown",
   "metadata": {},
   "source": [
    "We set up a fixed random seed to ensure reproducibility."
   ]
  },
  {
   "cell_type": "code",
   "execution_count": 16,
   "metadata": {},
   "outputs": [],
   "source": [
    "SEED = 42"
   ]
  },
  {
   "cell_type": "markdown",
   "metadata": {},
   "source": [
    "We download the necessary files for the tokenizer from the `nltk` library."
   ]
  },
  {
   "cell_type": "code",
   "execution_count": 3,
   "metadata": {},
   "outputs": [
    {
     "name": "stderr",
     "output_type": "stream",
     "text": [
      "[nltk_data] Downloading package punkt_tab to /home/david/nltk_data...\n",
      "[nltk_data]   Package punkt_tab is already up-to-date!\n"
     ]
    },
    {
     "data": {
      "text/plain": [
       "True"
      ]
     },
     "execution_count": 3,
     "metadata": {},
     "output_type": "execute_result"
    }
   ],
   "source": [
    "nltk.download('punkt_tab')"
   ]
  },
  {
   "cell_type": "markdown",
   "metadata": {},
   "source": [
    "### Data Splits\n",
    "\n",
    "The data is available on Hugging Face: https://huggingface.co/datasets/tau/commonsense_qa.\n",
    "Since only the train and validation splits have an answer key, we will use our own dataset splits.\n",
    "We separate the last 1'000 samples from the training set as the validation set and use the original validation set as the test set."
   ]
  },
  {
   "cell_type": "code",
   "execution_count": 4,
   "metadata": {},
   "outputs": [
    {
     "name": "stdout",
     "output_type": "stream",
     "text": [
      "8741 1000 1221\n"
     ]
    }
   ],
   "source": [
    "train = load_dataset(\"tau/commonsense_qa\", split=\"train[:-1000]\")\n",
    "valid = load_dataset(\"tau/commonsense_qa\", split=\"train[-1000:]\")\n",
    "test = load_dataset(\"tau/commonsense_qa\", split=\"validation\")\n",
    "\n",
    "print(len(train), len(valid), len(test))"
   ]
  },
  {
   "cell_type": "markdown",
   "metadata": {},
   "source": [
    "## Data Exploration"
   ]
  },
  {
   "cell_type": "markdown",
   "metadata": {},
   "source": [
    "First, we want to take a look at the data to understand its structure and content."
   ]
  },
  {
   "cell_type": "code",
   "execution_count": 5,
   "metadata": {},
   "outputs": [],
   "source": [
    "datasets = {\n",
    "    \"train\": train,\n",
    "    \"validation\": valid,\n",
    "    \"test\": test\n",
    "}"
   ]
  },
  {
   "cell_type": "markdown",
   "metadata": {},
   "source": [
    "We ensure that all three splits have the same structure and that the answers are in the same format."
   ]
  },
  {
   "cell_type": "code",
   "execution_count": 6,
   "metadata": {},
   "outputs": [
    {
     "name": "stdout",
     "output_type": "stream",
     "text": [
      "['id', 'question', 'question_concept', 'choices', 'answerKey']\n",
      "{'id': '075e483d21c29a511267ef62bedc0461', 'question': 'The sanctions against the school were a punishing blow, and they seemed to what the efforts the school had made to change?', 'question_concept': 'punishing', 'choices': {'label': ['A', 'B', 'C', 'D', 'E'], 'text': ['ignore', 'enforce', 'authoritarian', 'yell at', 'avoid']}, 'answerKey': 'A'}\n",
      "Unique answer keys: {'C', 'E', 'B', 'D', 'A'}\n"
     ]
    }
   ],
   "source": [
    "print(train.column_names)\n",
    "assert train.column_names == valid.column_names == test.column_names\n",
    "\n",
    "print(train[0])\n",
    "\n",
    "unique_answers = set([ex[\"answerKey\"] for ex in train] + [ex[\"answerKey\"] for ex in valid] + [ex[\"answerKey\"] for ex in test])\n",
    "print(f\"Unique answer keys: {unique_answers}\")"
   ]
  },
  {
   "cell_type": "markdown",
   "metadata": {},
   "source": [
    "We then display a sample question and its answer for each split to get a feeling of the type of questions and answers."
   ]
  },
  {
   "cell_type": "code",
   "execution_count": 7,
   "metadata": {},
   "outputs": [
    {
     "name": "stdout",
     "output_type": "stream",
     "text": [
      "\n",
      "=== train Split ===\n",
      "Question: The sanctions against the school were a punishing blow, and they seemed to what the efforts the school had made to change?\n",
      "A) ignore\n",
      "B) enforce\n",
      "C) authoritarian\n",
      "D) yell at\n",
      "E) avoid\n",
      "Correct Answer: A\n",
      "==================================================\n",
      "\n",
      "=== validation Split ===\n",
      "Question: What is a well known way for couples  of celebrating a marriage?\n",
      "A) eat cake\n",
      "B) getting drunk\n",
      "C) having sex\n",
      "D) cleaning rooms\n",
      "E) drink too much\n",
      "Correct Answer: C\n",
      "==================================================\n",
      "\n",
      "=== test Split ===\n",
      "Question: A revolving door is convenient for two direction travel, but it also serves as a security measure at a what?\n",
      "A) bank\n",
      "B) library\n",
      "C) department store\n",
      "D) mall\n",
      "E) new york\n",
      "Correct Answer: A\n",
      "==================================================\n"
     ]
    }
   ],
   "source": [
    "for split, data in datasets.items():\n",
    "    print(f\"\\n=== {split} Split ===\")\n",
    "    print(f\"Question: {data[0]['question']}\")\n",
    "    for j, choice in enumerate(data[0]['choices']['text']):\n",
    "        print(f\"{chr(65+j)}) {choice}\")  # A, B, C, etc.\n",
    "    print(f\"Correct Answer: {data[0]['answerKey']}\")\n",
    "    print(\"=\" * 50)"
   ]
  },
  {
   "cell_type": "markdown",
   "metadata": {},
   "source": [
    "We plot the distribution of the answer keys (`A` - `E`) to see if there's a clear imbalance or pattern."
   ]
  },
  {
   "cell_type": "code",
   "execution_count": 8,
   "metadata": {},
   "outputs": [
    {
     "data": {
      "image/png": "[encoded data removed]",
      "text/plain": [
       "<Figure size 1200x500 with 3 Axes>"
      ]
     },
     "metadata": {},
     "output_type": "display_data"
    }
   ],
   "source": [
    "plt.figure(figsize=(12, 5))\n",
    "\n",
    "for i, (split, data) in enumerate(datasets.items(), 1):\n",
    "    answer_counts = Counter([ex[\"answerKey\"] for ex in data])\n",
    "\n",
    "    plt.subplot(1, 3, i)\n",
    "    plt.bar(answer_counts.keys(), answer_counts.values())\n",
    "    plt.xlabel(\"Answer Labels\")\n",
    "    plt.ylabel(\"Absolute Frequency\")\n",
    "    plt.title(f\"{split} Answer Key Distribution\")\n",
    "\n",
    "plt.tight_layout()\n",
    "plt.show()"
   ]
  },
  {
   "cell_type": "markdown",
   "metadata": {},
   "source": [
    "We also plot the distribution of the number of characters in the questions."
   ]
  },
  {
   "cell_type": "code",
   "execution_count": 9,
   "metadata": {},
   "outputs": [
    {
     "name": "stdout",
     "output_type": "stream",
     "text": [
      "Min. question length in split train: 15, max. length: 376\n",
      "Min. question length in split validation: 20, max. length: 270\n",
      "Min. question length in split test: 21, max. length: 279\n"
     ]
    },
    {
     "data": {
      "image/png": "[encoded data removed]",
      "text/plain": [
       "<Figure size 1200x500 with 3 Axes>"
      ]
     },
     "metadata": {},
     "output_type": "display_data"
    }
   ],
   "source": [
    "plt.figure(figsize=(12, 5))\n",
    "\n",
    "for i, (split, data) in enumerate(datasets.items(), 1):\n",
    "    question_lengths = [len(ex[\"question\"]) for ex in data]\n",
    "\n",
    "    plt.subplot(1, 3, i)\n",
    "    plt.hist(question_lengths, bins=20)\n",
    "    plt.xlabel(\"Question Length (characters)\")\n",
    "    plt.ylabel(\"Absolute Frequency\")\n",
    "    plt.title(f\"{split} Question Length Distribution\")\n",
    "    print(f\"Min. question length in split {split}: {min(question_lengths)}, max. length: {max(question_lengths)}\")\n",
    "\n",
    "plt.tight_layout()\n",
    "plt.show()"
   ]
  },
  {
   "cell_type": "markdown",
   "metadata": {},
   "source": [
    "## Preprocessing"
   ]
  },
  {
   "cell_type": "markdown",
   "metadata": {},
   "source": [
    "Correct and justified decisions on:\n",
    "o Tokenization\n",
    "o Lowercasing, stemming, lemmatizing, stopword/punctuation removal\n",
    "o Removal of unknown/other words\n",
    "o Format cleaning (e.g. html-extracted text)\n",
    "o Truncation\n",
    "o Feature selection\n",
    "o Input format: how is data passed to the model?\n",
    "o Label format: what should the model predict?\n",
    "o Batching, padding\n",
    "o Vocabulary, embedding"
   ]
  },
  {
   "cell_type": "markdown",
   "metadata": {},
   "source": [
    "First, we preprocess the raw text data to make it suitable for the model.\n",
    "We use the word tokenizer from the `nltk` library to split the text into word tokens.\n",
    "We don't lowercase the text as it may contain important information such as `I` or `US` and because fasttext can naturally handle different cases.\n",
    "We also don't remove stopwords or punctuation as they may also contain important information for the model.\n",
    "Stemming or lemmatization is not necessary as fasttext can handle different forms of words. Even more, it may be counterproductive as it may remove important information from the text such as time or location information.\n",
    "Removal of unknown words is not necessary as fasttext word vectors are built from vectors of substrings of characters contained in it. This allows to build vectors even for misspelled words or concatenation of words.\n",
    "As the longest question only has 376 characters, we don't need to truncate the text.\n",
    "The text in the dataset is already clean and doesn't contain any html tags we would need to remove and / or parse. "
   ]
  },
  {
   "cell_type": "markdown",
   "metadata": {},
   "source": [
    "In short: The only preprocessing we do is tokenization."
   ]
  },
  {
   "cell_type": "code",
   "execution_count": 10,
   "metadata": {},
   "outputs": [],
   "source": [
    "def preprocess_text(text):\n",
    "  preprocessed = word_tokenize(text)\n",
    "  return preprocessed"
   ]
  },
  {
   "cell_type": "code",
   "execution_count": 11,
   "metadata": {},
   "outputs": [
    {
     "name": "stdout",
     "output_type": "stream",
     "text": [
      "Sample processed sentence: ['The', 'sanctions', 'against', 'the', 'school', 'were', 'a', 'punishing', 'blow', ',', 'and', 'they', 'seemed', 'to', 'what', 'the', 'efforts', 'the', 'school', 'had', 'made', 'to', 'change', '?']\n"
     ]
    }
   ],
   "source": [
    "all_sentences = []\n",
    "for split, data in datasets.items():\n",
    "    for example in data:\n",
    "        all_sentences.append(preprocess_text(example[\"question\"]))\n",
    "        all_sentences.extend([preprocess_text(choice) for choice in example[\"choices\"][\"text\"]])\n",
    "\n",
    "print(\"Sample processed sentence:\", all_sentences[0])"
   ]
  },
  {
   "cell_type": "markdown",
   "metadata": {},
   "source": [
    "We then create the vocabulary and the word embeddings using the `fasttext` library."
   ]
  },
  {
   "cell_type": "code",
   "execution_count": 24,
   "metadata": {},
   "outputs": [],
   "source": [
    "model = FastText(\n",
    "  sentences=all_sentences,\n",
    "  vector_size=300, # dimensionality of the word vectors\n",
    "  min_count=1, # include all words\n",
    "  seed = SEED, # seed for the random number generator to ensure reproducibility \n",
    "  workers=1) # limit the model to a single worker thread to eliminate ordering jitter from OS thread scheduling to ensure reproducibility "
   ]
  },
  {
   "cell_type": "code",
   "execution_count": 29,
   "metadata": {},
   "outputs": [
    {
     "name": "stdout",
     "output_type": "stream",
     "text": [
      "Vector size: 300\n",
      "Vocab size: 13105\n",
      "['?', 'to', 'a', 'the', 'what', ',', 'of', 'you', 'in', 'What']\n",
      "['separating', 'handball', 'be/', 'feverishly', 'flippers']\n"
     ]
    }
   ],
   "source": [
    "word_embeddings = model.wv\n",
    "\n",
    "print(f\"Vector size: {word_embeddings.vector_size}\")\n",
    "print(f\"Vocab size: {len(word_embeddings.index_to_key)}\")\n",
    "\n",
    "print(word_embeddings.index_to_key[:10])\n",
    "print(word_embeddings.index_to_key[-5:])"
   ]
  },
  {
   "cell_type": "markdown",
   "metadata": {},
   "source": [
    "We print out the embeddings of a word and of an out-of-vocabulary word to see if the embeddings are reasonable."
   ]
  },
  {
   "cell_type": "code",
   "execution_count": 26,
   "metadata": {},
   "outputs": [
    {
     "name": "stdout",
     "output_type": "stream",
     "text": [
      "[ 1.47057578e-01 -2.57771790e-01 -8.68963599e-02  5.35827987e-02\n",
      " -9.43487361e-02 -1.43974423e-01  5.39747365e-02 -8.03844929e-02\n",
      "  1.44575268e-01  3.19929838e-01 -1.39351606e-01 -1.16490461e-02\n",
      "  1.05968788e-02 -4.20065559e-02 -8.31654109e-03  1.71322197e-01\n",
      " -9.76999756e-03 -3.57193202e-02 -1.45345926e-01  1.77523673e-01\n",
      "  1.32000312e-01  1.70051575e-01  1.07899882e-01  1.32418334e-01\n",
      "  2.46526420e-01  1.35637656e-01 -1.18806869e-01  1.21511310e-01\n",
      " -3.88209432e-01  6.97704926e-02  6.46917745e-02  1.05216697e-01\n",
      " -3.04111451e-01 -1.55761778e-01  3.96424420e-02 -1.51608720e-01\n",
      " -2.06848398e-01  1.64068520e-01  2.62035847e-01  1.45577386e-01\n",
      "  1.55854568e-01 -1.77670851e-01  1.24321707e-01 -2.62891889e-01\n",
      "  1.44604877e-01  1.48148239e-01 -1.01328604e-01  4.93497476e-02\n",
      " -2.29137596e-02  2.09039599e-01  6.91474006e-02  9.39761922e-02\n",
      "  2.68732339e-01 -1.26782909e-01 -1.21458858e-01 -1.27979457e-01\n",
      "  1.11711572e-03  1.38076201e-01  2.32283205e-01  6.54626787e-02\n",
      " -1.91143647e-01 -9.07615945e-02 -5.81049807e-02 -7.30283558e-02\n",
      " -1.95292816e-01  2.72998810e-01  2.23894969e-01  1.82878822e-01\n",
      " -1.07537605e-01  6.43277094e-02  9.84435827e-02  6.45469874e-02\n",
      "  6.14761859e-02  3.96664180e-02 -4.71802019e-02  5.65532669e-02\n",
      " -1.97826728e-01 -1.82664581e-02 -3.65491182e-01  6.00257479e-02\n",
      " -2.81671315e-01  1.84353217e-02 -8.71414319e-02 -5.51297516e-02\n",
      " -1.35421343e-02 -3.50598514e-01 -1.47452816e-01  2.01263666e-01\n",
      " -3.37265767e-02  9.19992290e-03  7.27617219e-02 -5.98646514e-02\n",
      " -1.40238672e-01  1.97509006e-02 -8.94985497e-02 -5.90172689e-03\n",
      " -5.83662987e-02 -1.48945153e-02  2.67563183e-02  2.05119833e-01\n",
      " -1.43138021e-02 -9.89714637e-02  3.15931529e-01  3.90802890e-01\n",
      "  9.67955887e-02  3.68136764e-01  2.56411918e-02  1.03040963e-01\n",
      " -1.76659718e-01 -1.34568974e-01 -2.47335434e-01 -4.30584587e-02\n",
      " -3.28284293e-01  1.67094171e-02 -1.17715329e-01 -8.04244801e-02\n",
      " -6.46605939e-02 -6.29629195e-02 -3.11451614e-01 -1.66276231e-01\n",
      " -2.04051167e-01  2.01889444e-02 -9.30492207e-02  2.81664073e-01\n",
      " -6.14056848e-02 -3.14847440e-01  6.67175800e-02  4.99302484e-02\n",
      "  8.25241059e-02 -1.41890524e-02 -6.41018450e-02  1.22497767e-01\n",
      "  2.07838267e-02  2.20062390e-01 -2.54288851e-03  1.08365893e-01\n",
      "  1.13155343e-01 -1.83233023e-01  1.08146451e-01 -1.21524423e-01\n",
      " -4.89119068e-02  1.98047876e-01  1.42901853e-01  1.12025954e-01\n",
      "  3.28820556e-01  9.66528729e-02  2.02037856e-01  1.01069681e-01\n",
      " -1.62856415e-01 -1.47141069e-01 -3.11026946e-02  2.42977571e-02\n",
      " -5.56563288e-02 -1.21148236e-01 -1.94697902e-01 -5.97375743e-02\n",
      " -4.18991566e-01  6.70029745e-02  2.17962563e-01  3.42023447e-02\n",
      "  1.70592934e-01 -3.15354504e-02 -3.80343795e-01 -3.21447492e-01\n",
      " -7.44996071e-02 -1.04668826e-01 -2.29145989e-01 -6.68883622e-02\n",
      "  2.15374902e-01  7.20197111e-02 -1.10117309e-01  8.88299495e-02\n",
      "  1.92312196e-01  2.64554918e-01 -7.20373690e-02  1.01575248e-01\n",
      " -2.68115457e-02 -1.06122732e-01  2.47958764e-01  1.23024009e-01\n",
      "  4.14039753e-02 -4.29268517e-02 -4.73667234e-02 -1.29114047e-01\n",
      " -1.35396183e-01 -4.92183685e-01 -1.36027470e-01  2.53447462e-02\n",
      " -1.45704210e-01  6.94087287e-03 -2.26786911e-01 -2.14368731e-01\n",
      "  2.04135198e-03 -1.08391590e-01 -3.33719879e-01 -6.83924556e-02\n",
      " -5.76877058e-01 -7.46266916e-02  1.06793433e-01 -3.59047800e-02\n",
      " -2.17265263e-01 -6.63480237e-02  3.06708783e-01  1.18206613e-01\n",
      " -5.58352806e-02  2.86267072e-01 -2.45518573e-02  2.06200540e-01\n",
      "  3.86417896e-01 -2.85929024e-01 -1.10671036e-01  7.47092888e-02\n",
      "  1.71211153e-01  2.75957555e-01 -1.48982793e-01  7.90457428e-02\n",
      " -2.33555511e-01  2.19200253e-02  1.70591772e-01  1.89714685e-01\n",
      " -2.34255031e-01 -3.70710969e-01  1.46109596e-01 -3.13251019e-02\n",
      "  7.75517374e-02 -9.54108909e-02  1.88324362e-01 -1.84165671e-01\n",
      " -1.10221155e-01  1.25471130e-01 -2.28782874e-02  2.64030844e-01\n",
      "  1.20994188e-01 -3.94332223e-02 -3.86594236e-03 -1.79730594e-01\n",
      " -2.46693596e-01 -5.14822900e-01 -3.29969525e-02  1.86512712e-02\n",
      " -5.31354398e-02 -1.97459877e-01  1.30272862e-02 -9.93457139e-02\n",
      " -3.58656019e-01  1.68584168e-01 -1.66117445e-01  1.07917741e-01\n",
      " -1.58235561e-02 -7.71080256e-02 -1.34271324e-01  2.06271872e-01\n",
      " -6.44371137e-02  1.65810466e-01 -2.67809212e-01  5.23274764e-02\n",
      "  6.46215752e-02  2.76489183e-02 -4.24924493e-01  4.50887650e-01\n",
      "  1.03776813e-01 -3.10767174e-01 -2.54165202e-01  9.42135304e-02\n",
      "  9.77923200e-02  4.60299253e-02  1.91848055e-02  9.63177183e-04\n",
      " -2.34517902e-01  2.54117668e-01  5.98201416e-02  7.48670176e-02\n",
      "  3.93688679e-05 -2.35928103e-01 -9.45001468e-03 -1.41239911e-01\n",
      " -2.79729664e-01  7.37401024e-02 -3.16609144e-02 -1.16666242e-01\n",
      "  1.41697347e-01 -8.63617957e-02 -1.66044533e-01 -8.83889720e-02\n",
      "  3.95093113e-02 -8.48416761e-02 -1.17070816e-01  8.87898449e-03\n",
      " -3.01798016e-01  1.12830289e-01  1.52474925e-01  3.24108809e-01\n",
      " -3.97805512e-01  8.36716965e-02  1.76521838e-01  2.96030700e-01\n",
      " -2.00661272e-01  1.30320573e-02  3.38749319e-01 -1.96240380e-01]\n",
      "[ 0.06763109 -0.12878187 -0.03119952  0.0120069  -0.04670983 -0.07751143\n",
      "  0.02470004 -0.02976283  0.06245459  0.1521927  -0.06898122  0.02680873\n",
      "  0.00240651 -0.02397374 -0.01076249  0.09059767 -0.00112388 -0.023442\n",
      " -0.09247816  0.09729586  0.06085041  0.07322673  0.05155662  0.0427652\n",
      "  0.13217348  0.07491745 -0.0745754   0.0501819  -0.20105217  0.03471315\n",
      "  0.03391716  0.05046388 -0.15543164 -0.07751874  0.01591231 -0.06555959\n",
      " -0.11798073  0.08655024  0.13389933  0.08307485  0.0759294  -0.09074485\n",
      "  0.07315368 -0.15038057  0.06655432  0.07518023 -0.04548114  0.02982226\n",
      " -0.01883224  0.11169034  0.04855073  0.04193879  0.13482532 -0.06501076\n",
      " -0.05064296 -0.06991506  0.00212334  0.08501045  0.12092702  0.0235467\n",
      " -0.08678468 -0.03781329 -0.0187343  -0.0370311  -0.10271944  0.1371544\n",
      "  0.11759796  0.10179058 -0.05822601  0.03637925  0.04048902  0.03625446\n",
      "  0.02068273  0.0218233  -0.02619508  0.03255701 -0.09792956 -0.00931479\n",
      " -0.19836862  0.03607473 -0.15562719  0.00079464 -0.02997362 -0.02197233\n",
      " -0.016088   -0.18380125 -0.09320313  0.11039096 -0.01197799  0.00596758\n",
      "  0.03730923 -0.025853   -0.08005852  0.01768187 -0.04712508 -0.00167998\n",
      " -0.0425336  -0.00232228  0.0153799   0.08577032 -0.004084   -0.03906715\n",
      "  0.1531037   0.21467073  0.04926279  0.18185258  0.00962933  0.05184069\n",
      " -0.08651367 -0.08676336 -0.11853503 -0.02098783 -0.1875279   0.01772812\n",
      " -0.05356266 -0.04377345 -0.03262388 -0.03188977 -0.15433113 -0.07624164\n",
      " -0.10341675  0.00902065 -0.0483957   0.14126249 -0.03166956 -0.15764168\n",
      "  0.04621982  0.02367976  0.05623672  0.01484472 -0.02363392  0.06843397\n",
      "  0.00940755  0.1138504  -0.01067613  0.05457237  0.06578192 -0.09264163\n",
      "  0.05205606 -0.05207397 -0.01779325  0.08891986  0.06871909  0.04563999\n",
      "  0.1692795   0.04479628  0.10384399  0.05725053 -0.08330793 -0.06974701\n",
      " -0.01234526  0.02001499 -0.02784085 -0.04433355 -0.09654962 -0.0300218\n",
      " -0.21264201  0.04009271  0.10657734  0.0235274   0.08283484 -0.01943702\n",
      " -0.19204909 -0.15986992 -0.03509454 -0.05831276 -0.10141212 -0.03137772\n",
      "  0.11116745  0.0486978  -0.06810934  0.06103146  0.08870659  0.13508616\n",
      " -0.0462202   0.04610295 -0.0269222  -0.05901042  0.1271565   0.07278849\n",
      "  0.02271612 -0.02137732 -0.01933082 -0.07866863 -0.04549999 -0.24233322\n",
      " -0.06470858  0.02286519 -0.07748868 -0.00138871 -0.12838751 -0.11785608\n",
      "  0.00182405 -0.05733117 -0.16538739 -0.03639793 -0.3011739  -0.03320081\n",
      "  0.05791243 -0.0213286  -0.11259627 -0.02165308  0.15149103  0.07772111\n",
      " -0.03631536  0.14236467 -0.01094151  0.12138266  0.2166268  -0.14524111\n",
      " -0.04960749  0.03930718  0.07537345  0.14898245 -0.07848628  0.02480211\n",
      " -0.12482098  0.00282068  0.07091997  0.11043143 -0.11611625 -0.1747889\n",
      "  0.06569339 -0.02084138  0.05306937 -0.04983779  0.10733897 -0.07898936\n",
      " -0.05563058  0.07079361 -0.00984435  0.15343301  0.05814588 -0.02342314\n",
      "  0.00942184 -0.08716961 -0.12398805 -0.2563087  -0.00200117 -0.00471331\n",
      " -0.02359651 -0.10012773  0.0153858  -0.05572918 -0.18291362  0.07473581\n",
      " -0.09235853  0.03176155 -0.01063366 -0.04421831 -0.0690476   0.11895971\n",
      " -0.03102184  0.10563736 -0.13692094  0.03427337  0.02424599  0.02583143\n",
      " -0.22279914  0.24165988  0.0681131  -0.15687804 -0.10403376  0.05217756\n",
      "  0.06909696  0.02622736  0.00498262  0.01084246 -0.10925861  0.12666896\n",
      "  0.04507935  0.04193167  0.006203   -0.12207282 -0.00743999 -0.08334319\n",
      " -0.13970013  0.0341319  -0.01171018 -0.06202153  0.07179131 -0.02235512\n",
      " -0.08793892 -0.04765528  0.03446047 -0.03894878 -0.05572147 -0.01441088\n",
      " -0.16098735  0.06952263  0.07431602  0.17102467 -0.19565088  0.03800528\n",
      "  0.09086813  0.1511062  -0.1247977   0.02630812  0.18349802 -0.11925837]\n"
     ]
    }
   ],
   "source": [
    "print(word_embeddings[\"blow\"])\n",
    "print(word_embeddings[\"icertainlydontexist\"])"
   ]
  },
  {
   "cell_type": "markdown",
   "metadata": {},
   "source": [
    "## Model"
   ]
  },
  {
   "cell_type": "markdown",
   "metadata": {},
   "source": [
    "## Training"
   ]
  },
  {
   "cell_type": "markdown",
   "metadata": {},
   "source": [
    "## Evaluation"
   ]
  },
  {
   "cell_type": "markdown",
   "metadata": {},
   "source": [
    "## Interpretation"
   ]
  }
 ],
 "metadata": {
  "kernelspec": {
   "display_name": "nlp-real",
   "language": "python",
   "name": "python3"
  },
  "language_info": {
   "codemirror_mode": {
    "name": "ipython",
    "version": 3
   },
   "file_extension": ".py",
   "mimetype": "text/x-python",
   "name": "python",
   "nbconvert_exporter": "python",
   "pygments_lexer": "ipython3",
   "version": "3.9.21"
  }
 },
 "nbformat": 4,
 "nbformat_minor": 2
}
