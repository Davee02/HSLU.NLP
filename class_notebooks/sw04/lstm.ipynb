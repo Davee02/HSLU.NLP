{
 "cells": [
  {
   "cell_type": "markdown",
   "id": "20bae9b5",
   "metadata": {},
   "source": [
    "# Long Short-Term Memory\n",
    "In this exercise, we will implement an LSTM. In the class, we have already seen the definition of the LSTM update rules at time step $t$:\n",
    "\n",
    "$$\n",
    "\\begin{align}\n",
    "f_t &= \\sigma(W_f h_{t-1} + U_f x_t + b_f) \\\\\n",
    "i_t &= \\sigma(W_i h_{t-1} + U_i x_t + b_i) \\\\\n",
    "o_t &= \\sigma(W_o h_{t-1} + U_o x_t + b_o) \\\\\n",
    "\\tilde{c}_t &= \\tanh(W_c h_{t-1} + U_c x_t + b_c) \\\\\n",
    "c_t &= f_t * c_{t-1} + i_t * \\tilde{c}_t \\\\\n",
    "h_t &= o_t * \\tanh(c_t)\n",
    "\\end{align}\n",
    "$$"
   ]
  },
  {
   "cell_type": "code",
   "execution_count": 1,
   "id": "e7619e77",
   "metadata": {},
   "outputs": [],
   "source": [
    "import torch\n",
    "import torch.nn as nn"
   ]
  },
  {
   "cell_type": "markdown",
   "id": "c18fa802",
   "metadata": {},
   "source": [
    "Implement this original version of the LSTM as an `LSTMCell`."
   ]
  },
  {
   "cell_type": "code",
   "execution_count": 5,
   "id": "5b7cf7f3",
   "metadata": {},
   "outputs": [],
   "source": [
    "class LSTMCell(nn.Module):\n",
    "  def __init__(self, input_size, hidden_size):\n",
    "    super().__init__()\n",
    "\n",
    "    self.input_size = input_size\n",
    "    self.hidden_size = hidden_size\n",
    "\n",
    "    # weights and biases for forget gate\n",
    "    self.Wfh = nn.Parameter(torch.zeros(hidden_size, hidden_size))\n",
    "    self.Wfx = nn.Parameter(torch.zeros(hidden_size, input_size))\n",
    "    self.bf = nn.Parameter(torch.zeros(hidden_size))\n",
    "\n",
    "    # weights and biases for input gate\n",
    "    self.Wih = nn.Parameter(torch.zeros(hidden_size, hidden_size))\n",
    "    # could also be written as: self.Wix = nn.Linear(input_size, hidden_size, bias=False) # => y = Wx\n",
    "    self.Wix = nn.Parameter(torch.zeros(hidden_size, input_size))\n",
    "    self.bi = nn.Parameter(torch.zeros(hidden_size))\n",
    "\n",
    "    # weights and biases for output gate\n",
    "    self.Woh = nn.Parameter(torch.zeros(hidden_size, hidden_size))\n",
    "    self.Wox = nn.Parameter(torch.zeros(hidden_size, input_size))\n",
    "    self.bo = nn.Parameter(torch.zeros(hidden_size))\n",
    "\n",
    "    # weights and biases for new cell memory\n",
    "    self.Wch = nn.Parameter(torch.zeros(hidden_size, hidden_size))\n",
    "    self.Wcx = nn.Parameter(torch.zeros(hidden_size, input_size))\n",
    "    self.bc = nn.Parameter(torch.zeros(hidden_size))\n",
    "\n",
    "  def reset_parameters(self):\n",
    "    for weight in self.parameters():\n",
    "      nn.init.uniform_(weight, -1, 1)\n",
    "\n",
    "  def forward(self, x, hidden_state, cell_state):\n",
    "    forget_gate = torch.sigmoid(self.Wfh @ hidden_state + self.Wfx @ x + self.bf)\n",
    "    input_gate = torch.sigmoid(self.Wih @ hidden_state + self.Wix @ x + self.bi)\n",
    "    output_gate = torch.sigmoid(self.Woh @ hidden_state + self.Wox @ x + self.bo)\n",
    "    new_cell_memory = torch.tanh(self.Wch @ hidden_state + self.Wcx @ x + self.bc)\n",
    "    new_cell_state = forget_gate * cell_state + input_gate * new_cell_memory\n",
    "    new_hidden_state = output_gate * torch.tanh(new_cell_state)\n",
    "\n",
    "    return new_hidden_state, new_cell_state"
   ]
  },
  {
   "cell_type": "markdown",
   "id": "f49ac90b",
   "metadata": {},
   "source": [
    "Create a 2-layer LSTM from your LSTMCell base class and run a forward pass with a random input sequence to test that all your dimensions are correct."
   ]
  },
  {
   "cell_type": "code",
   "execution_count": 10,
   "id": "1562d0bb",
   "metadata": {},
   "outputs": [],
   "source": [
    "class LSTM(nn.Module):\n",
    "  def __init__(self, input_size, hidden_size, num_layers):\n",
    "    super().__init__()\n",
    "\n",
    "    self.input_size = input_size\n",
    "    self.hidden_size = hidden_size\n",
    "    self.num_layers = num_layers\n",
    "\n",
    "    self.layers = nn.ModuleList([])\n",
    "    for i in range(num_layers):\n",
    "      in_dim = input_size if i == 0 else hidden_size\n",
    "      self.layers.append(LSTMCell(in_dim, hidden_size))\n",
    "\n",
    "  def reset_parameters(self):\n",
    "    for lstm_cell in self.layers:\n",
    "      lstm_cell.reset_parameters()\n",
    "\n",
    "  def forward(self, x, hidden_state, cell_state):\n",
    "    outputs = []\n",
    "    for x_i in x: # iterate over the time steps first\n",
    "      new_hidden_states = torch.empty_like(hidden_state)\n",
    "      new_cell_states = torch.empty_like(cell_state)\n",
    "      for i, lstm_cell in enumerate(self.layers): # iterate over the layers\n",
    "        new_hidden_states[i], new_cell_states[i] = lstm_cell(x_i, hidden_state[i], cell_state[i])\n",
    "        x_i = new_hidden_states[i]\n",
    "      outputs.append(new_hidden_states[-1])\n",
    "    return outputs, (new_hidden_states, new_cell_states)"
   ]
  },
  {
   "cell_type": "code",
   "execution_count": 12,
   "id": "68291986",
   "metadata": {},
   "outputs": [
    {
     "name": "stdout",
     "output_type": "stream",
     "text": [
      "2\n",
      "torch.Size([10])\n",
      "tensor([-0.1625,  0.0985,  0.0153,  0.0129, -0.0629, -0.0757,  0.0426, -0.1395,\n",
      "         0.0219, -0.0074], grad_fn=<SelectBackward0>)\n",
      "torch.Size([10]) torch.Size([10])\n",
      "tensor([-0.2060, -0.0070,  0.0467, -0.3238,  0.3237, -0.0578, -0.1450, -0.0792,\n",
      "         0.2230, -0.2209], grad_fn=<UnbindBackward0>)\n"
     ]
    }
   ],
   "source": [
    "input_size = 5\n",
    "hidden_size = 10\n",
    "sequence_length = 6\n",
    "num_layers = 2\n",
    "\n",
    "x = torch.zeros(sequence_length, input_size)\n",
    "hidden_state = torch.zeros(num_layers, hidden_size)\n",
    "cell_state = torch.zeros(num_layers, hidden_size)\n",
    "\n",
    "lstm = LSTM(input_size, hidden_size, num_layers)\n",
    "lstm.reset_parameters()\n",
    "outputs, (hidden_state, cell_state) = lstm(x, hidden_state, cell_state)\n",
    "\n",
    "print(len(outputs))\n",
    "print(outputs[0].shape)\n",
    "print(outputs[-1])\n",
    "print(hidden_state.shape, cell_state.shape)\n",
    "print(hidden_state)"
   ]
  },
  {
   "cell_type": "markdown",
   "id": "dbc4028e",
   "metadata": {},
   "source": [
    "Implement a subclass of your LSTM that uses a coupled forget and input gate, i.e. the cell state update becomes:\n",
    "\n",
    "$$c_t = f_t * c_{t-1} + (1-f_t) * \\tilde{c}_t$$"
   ]
  },
  {
   "cell_type": "code",
   "execution_count": null,
   "id": "821ee42c",
   "metadata": {},
   "outputs": [],
   "source": []
  },
  {
   "cell_type": "markdown",
   "id": "371c955b",
   "metadata": {},
   "source": [
    "**Bonus:** Implement *peephole connections* as described at the start of the Section *Variants on Long Short Term Memory* in [this blog post explaining LSTMs](https://colah.github.io/posts/2015-08-Understanding-LSTMs/).\n",
    "\n",
    "The gate update definitions get an additional term that looks at the cell state:\n",
    "$$\n",
    "\\begin{align}\n",
    "f_t &= \\sigma(W_f h_{t-1} + U_f x_t + b_f \\boldsymbol{+ V_f c_{t-1}}) \\\\\n",
    "i_t &= \\sigma(W_i h_{t-1} + U_i x_t + b_i \\boldsymbol{+ V_i c_{t-1}}) \\\\\n",
    "o_t &= \\sigma(W_o h_{t-1} + U_o x_t + b_o \\boldsymbol{+ V_o c_t})\n",
    "\\end{align}\n",
    "$$\n",
    "\n",
    "To make the task a bit easier, we will implement the last equation with the cell state of the previous time step $t-1$ as $$o_t = \\sigma(W_o h_{t-1} + U_o x_t + b_o \\boldsymbol{+ V_o c_{t-1}})$$ instead."
   ]
  },
  {
   "cell_type": "code",
   "execution_count": null,
   "id": "97f33705",
   "metadata": {},
   "outputs": [],
   "source": []
  }
 ],
 "metadata": {
  "kernelspec": {
   "display_name": "nlp-real",
   "language": "python",
   "name": "python3"
  },
  "language_info": {
   "codemirror_mode": {
    "name": "ipython",
    "version": 3
   },
   "file_extension": ".py",
   "mimetype": "text/x-python",
   "name": "python",
   "nbconvert_exporter": "python",
   "pygments_lexer": "ipython3",
   "version": "3.9.21"
  }
 },
 "nbformat": 4,
 "nbformat_minor": 5
}
