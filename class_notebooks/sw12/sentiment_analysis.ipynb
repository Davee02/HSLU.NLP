{
 "cells": [
  {
   "cell_type": "markdown",
   "id": "d6440509",
   "metadata": {},
   "source": [
    "# Sentiment Analysis\n",
    "\n",
    "In this exercise, we're going to perform sentiment analysis on tweets."
   ]
  },
  {
   "cell_type": "code",
   "execution_count": 1,
   "id": "5e30b1da",
   "metadata": {},
   "outputs": [],
   "source": [
    "import torch"
   ]
  },
  {
   "cell_type": "markdown",
   "id": "1f5391fc",
   "metadata": {},
   "source": [
    "## Data\n",
    "\n",
    "We're going to use a truncated version of the [Sentiment140 dataset](https://www.kaggle.com/datasets/kazanova/sentiment140). The full dataset contains 1.6M tweets with a sentiment (polarity) label. Each line of the CSV file contains the following 6 fields:\n",
    "1. target: the polarity of the tweet (0 = negative, 2 = neutral, 4 = positive)\n",
    "2. ids: The id of the tweet (2087)\n",
    "3. date: the date of the tweet (Sat May 16 23:58:44 UTC 2009)\n",
    "4. flag: The query (lyx). If there is no query, then this value is NO_QUERY.\n",
    "5. user: the user that tweeted (robotickilldozr)\n",
    "6. text: the text of the tweet (Lyx is cool)\n",
    "\n",
    "We load the truncated CSV file `tweets.2000.processed.noemoticon.csv` instead. It contains 2000 tweets (1 tweet per line), 1000 each for label 0 and 4."
   ]
  },
  {
   "cell_type": "code",
   "execution_count": 2,
   "id": "8a9522d7",
   "metadata": {},
   "outputs": [
    {
     "name": "stdout",
     "output_type": "stream",
     "text": [
      "Label: 0\n",
      "User: _TheSpecialOne_\n",
      "Text: @switchfoot http://twitpic.com/2y1zl - Awww, that's a bummer.  You shoulda got David Carr of Third Day to do it. ;D\n",
      "Label is of type <class 'str'>, convert to int like this: 0\n"
     ]
    }
   ],
   "source": [
    "import csv\n",
    "fieldnames = ['label', 'id', 'date', 'query', 'user', 'text']\n",
    "with open('tweets.2000.processed.noemoticon.csv', 'r', encoding='ISO-8859-1') as csvfile:\n",
    "    reader = csv.DictReader(csvfile, fieldnames=fieldnames)\n",
    "    for row in reader:\n",
    "        print(f\"Label: {row['label']}\")\n",
    "        print(f\"User: {row['user']}\")\n",
    "        print(f\"Text: {row['text']}\")\n",
    "        break\n",
    "print(f\"Label is of type {type(row['label'])}, convert to int like this: {int(row['label'])}\")"
   ]
  },
  {
   "cell_type": "code",
   "execution_count": 3,
   "id": "e5002a77",
   "metadata": {},
   "outputs": [
    {
     "name": "stdout",
     "output_type": "stream",
     "text": [
      "Number of rows in the csv: 2000\n"
     ]
    }
   ],
   "source": [
    "# read in the csv as a dictionary\n",
    "with open('tweets.2000.processed.noemoticon.csv', 'r', encoding='ISO-8859-1') as csvfile:\n",
    "    reader = csv.DictReader(csvfile, fieldnames=fieldnames)\n",
    "    data = []\n",
    "    for row in reader:\n",
    "        data.append(row)\n",
    "print(f\"Number of rows in the csv: {len(data)}\")"
   ]
  },
  {
   "cell_type": "markdown",
   "id": "bcd7f9ca",
   "metadata": {},
   "source": [
    "## Model\n",
    "\n",
    "We're going to use a popular sentiment analysis model from the CardiffNLP group, which we download from HuggingFace: `cardiffnlp/twitter-roberta-base-sentiment`. As you can see from the name, it is based on a pretrained RoBERTa model and was finetuned on tweets for sentiment analysis. Check out the [model description](https://huggingface.co/cardiffnlp/twitter-roberta-base-sentiment?text=I+like+turtles.) for examples of how to use it."
   ]
  },
  {
   "cell_type": "code",
   "execution_count": 4,
   "id": "98408de0",
   "metadata": {},
   "outputs": [
    {
     "data": {
      "text/plain": [
       "RobertaForSequenceClassification(\n",
       "  (roberta): RobertaModel(\n",
       "    (embeddings): RobertaEmbeddings(\n",
       "      (word_embeddings): Embedding(50265, 768, padding_idx=1)\n",
       "      (position_embeddings): Embedding(514, 768, padding_idx=1)\n",
       "      (token_type_embeddings): Embedding(1, 768)\n",
       "      (LayerNorm): LayerNorm((768,), eps=1e-05, elementwise_affine=True)\n",
       "      (dropout): Dropout(p=0.1, inplace=False)\n",
       "    )\n",
       "    (encoder): RobertaEncoder(\n",
       "      (layer): ModuleList(\n",
       "        (0-11): 12 x RobertaLayer(\n",
       "          (attention): RobertaAttention(\n",
       "            (self): RobertaSdpaSelfAttention(\n",
       "              (query): Linear(in_features=768, out_features=768, bias=True)\n",
       "              (key): Linear(in_features=768, out_features=768, bias=True)\n",
       "              (value): Linear(in_features=768, out_features=768, bias=True)\n",
       "              (dropout): Dropout(p=0.1, inplace=False)\n",
       "            )\n",
       "            (output): RobertaSelfOutput(\n",
       "              (dense): Linear(in_features=768, out_features=768, bias=True)\n",
       "              (LayerNorm): LayerNorm((768,), eps=1e-05, elementwise_affine=True)\n",
       "              (dropout): Dropout(p=0.1, inplace=False)\n",
       "            )\n",
       "          )\n",
       "          (intermediate): RobertaIntermediate(\n",
       "            (dense): Linear(in_features=768, out_features=3072, bias=True)\n",
       "            (intermediate_act_fn): GELUActivation()\n",
       "          )\n",
       "          (output): RobertaOutput(\n",
       "            (dense): Linear(in_features=3072, out_features=768, bias=True)\n",
       "            (LayerNorm): LayerNorm((768,), eps=1e-05, elementwise_affine=True)\n",
       "            (dropout): Dropout(p=0.1, inplace=False)\n",
       "          )\n",
       "        )\n",
       "      )\n",
       "    )\n",
       "  )\n",
       "  (classifier): RobertaClassificationHead(\n",
       "    (dense): Linear(in_features=768, out_features=768, bias=True)\n",
       "    (dropout): Dropout(p=0.1, inplace=False)\n",
       "    (out_proj): Linear(in_features=768, out_features=3, bias=True)\n",
       "  )\n",
       ")"
      ]
     },
     "execution_count": 4,
     "metadata": {},
     "output_type": "execute_result"
    }
   ],
   "source": [
    "from transformers import AutoTokenizer, AutoModelForSequenceClassification\n",
    "\n",
    "tokenizer = AutoTokenizer.from_pretrained('cardiffnlp/twitter-roberta-base-sentiment')\n",
    "model = AutoModelForSequenceClassification.from_pretrained('cardiffnlp/twitter-roberta-base-sentiment')\n",
    "model.eval()"
   ]
  },
  {
   "cell_type": "code",
   "execution_count": 5,
   "id": "f5cee423",
   "metadata": {},
   "outputs": [
    {
     "name": "stdout",
     "output_type": "stream",
     "text": [
      "Using device: cuda\n"
     ]
    }
   ],
   "source": [
    "device = torch.device('cuda' if torch.cuda.is_available() else 'cpu')\n",
    "model.to(device)\n",
    "\n",
    "print(f\"Using device: {device}\")"
   ]
  },
  {
   "cell_type": "markdown",
   "id": "41838cc4",
   "metadata": {},
   "source": [
    "From the model description, we see that we have to preprocess tweets first to bring them into the format expected by the model. Let's implement the `preprocess` method as it is described in their example."
   ]
  },
  {
   "cell_type": "code",
   "execution_count": 6,
   "id": "0cfc3422",
   "metadata": {},
   "outputs": [],
   "source": [
    "# Preprocess text (username and link placeholders)\n",
    "def preprocess(text):\n",
    "    new_text = []\n",
    "    for t in text.split(\" \"):\n",
    "        t = '@user' if t.startswith('@') and len(t) > 1 else t\n",
    "        t = 'http' if t.startswith('http') else t\n",
    "        new_text.append(t)\n",
    "    return \" \".join(new_text)"
   ]
  },
  {
   "cell_type": "markdown",
   "id": "d61a37c8",
   "metadata": {},
   "source": [
    "Let's classify the first tweet in our dataset. Give the probabilities of the sentiment classification model for each of the 3 classes it outputs: negative, neutral and positive sentiment."
   ]
  },
  {
   "cell_type": "code",
   "execution_count": 7,
   "id": "296a9114",
   "metadata": {},
   "outputs": [],
   "source": [
    "labels = ['negative', 'neutral', 'positive']"
   ]
  },
  {
   "cell_type": "code",
   "execution_count": 9,
   "id": "11bcd274",
   "metadata": {},
   "outputs": [
    {
     "name": "stdout",
     "output_type": "stream",
     "text": [
      "Preprocessed Tweet: @user http - Awww, that's a bummer.  You shoulda got David Carr of Third Day to do it. ;D\n",
      "Predicted Scores (true label = negative):\n",
      "negative: 0.6341\n",
      "neutral: 0.3154\n",
      "positive: 0.0505\n"
     ]
    }
   ],
   "source": [
    "from torch import softmax\n",
    "\n",
    "row = data[0]\n",
    "\n",
    "true_label = int(row['label'])\n",
    "tweet = row['text']\n",
    "tweet = preprocess(tweet)\n",
    "print(f\"Preprocessed Tweet: {tweet}\")\n",
    "\n",
    "encoded_tweet = tokenizer(tweet, return_tensors='pt').to(model.device)\n",
    "output = model(**encoded_tweet)\n",
    "scores = output.logits[0]\n",
    "scores = softmax(scores, dim=-1)\n",
    "\n",
    "print(f\"Predicted Scores (true label = {labels[true_label]}):\")\n",
    "for i in range(scores.shape[0]):\n",
    "    print(f\"{labels[i]}: {scores[i]:.4f}\")"
   ]
  },
  {
   "cell_type": "markdown",
   "id": "c30b2c02",
   "metadata": {},
   "source": [
    "Now classify all the tweets and evaluate how well the model does in terms of classification accuracy."
   ]
  },
  {
   "cell_type": "code",
   "execution_count": 11,
   "id": "128bf79d",
   "metadata": {},
   "outputs": [
    {
     "name": "stderr",
     "output_type": "stream",
     "text": [
      "100%|██████████| 2000/2000 [00:20<00:00, 98.15it/s] "
     ]
    },
    {
     "name": "stdout",
     "output_type": "stream",
     "text": [
      "Accuracy: 0.5840\n"
     ]
    },
    {
     "name": "stderr",
     "output_type": "stream",
     "text": [
      "\n"
     ]
    }
   ],
   "source": [
    "from sklearn.metrics import accuracy_score\n",
    "from tqdm import tqdm\n",
    "\n",
    "predicted_labels = []\n",
    "true_labels = []\n",
    "\n",
    "for row in tqdm(data):\n",
    "    true_label = int(row['label']) // 2\n",
    "    true_labels.append(true_label)\n",
    "    tweet = row['text']\n",
    "    tweet = preprocess(tweet)\n",
    "\n",
    "    encoded_tweet = tokenizer(tweet, return_tensors='pt').to(model.device)\n",
    "    output = model(**encoded_tweet)\n",
    "    scores = output.logits[0]\n",
    "    scores = softmax(scores, dim=-1)\n",
    "\n",
    "    predicted_label = torch.argmax(scores).item()\n",
    "    predicted_labels.append(predicted_label)\n",
    "\n",
    "# calculate accuracy\n",
    "accuracy = accuracy_score(true_labels, predicted_labels)\n",
    "print(f\"Accuracy: {accuracy:.4f}\")"
   ]
  }
 ],
 "metadata": {
  "kernelspec": {
   "display_name": "nlp-real",
   "language": "python",
   "name": "python3"
  },
  "language_info": {
   "codemirror_mode": {
    "name": "ipython",
    "version": 3
   },
   "file_extension": ".py",
   "mimetype": "text/x-python",
   "name": "python",
   "nbconvert_exporter": "python",
   "pygments_lexer": "ipython3",
   "version": "3.9.21"
  }
 },
 "nbformat": 4,
 "nbformat_minor": 5
}
