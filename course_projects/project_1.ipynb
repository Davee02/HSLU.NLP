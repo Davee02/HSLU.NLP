{
 "cells": [
  {
   "cell_type": "markdown",
   "metadata": {},
   "source": [
    "# FS25 Course Project 1: Word embeddings / RNN\n",
    "\n",
    "By David Hodel"
   ]
  },
  {
   "cell_type": "markdown",
   "metadata": {},
   "source": [
    "## Introduction\n",
    "\n",
    "In this notebook, I present my solution to the first course project of the FS25 NLP module @ HSLU.\n",
    "\n",
    "The task is to train answer commonsense question using word embeddings and RNNs. The CommonsenseQA ([Talmor et al., 2019](https://aclanthology.org/N19-1421/)) dataset is used for his purpose. The dataset consists of 12,247 questions with 5 choices each, where only one is correct. The questions are designed to require commonsense reasoning to answer correctly."
   ]
  },
  {
   "cell_type": "markdown",
   "metadata": {},
   "source": [
    "## Setup"
   ]
  },
  {
   "cell_type": "markdown",
   "metadata": {},
   "source": [
    "We first import the necessary libraries to run the code."
   ]
  },
  {
   "cell_type": "code",
   "execution_count": 1,
   "metadata": {},
   "outputs": [],
   "source": [
    "import logging\n",
    "\n",
    "from collections import Counter\n",
    "from datetime import datetime\n",
    "\n",
    "from datasets import load_dataset\n",
    "import matplotlib.pyplot as plt\n",
    "from nltk.tokenize import word_tokenize\n",
    "import gensim.downloader as api\n",
    "from torch.utils.data import Dataset, DataLoader\n",
    "import torch.nn as nn\n",
    "import numpy as np\n",
    "from tqdm import trange\n",
    "import fasttext\n",
    "from huggingface_hub import hf_hub_download\n",
    "\n",
    "import torch\n",
    "import nltk\n",
    "import wandb"
   ]
  },
  {
   "cell_type": "markdown",
   "metadata": {},
   "source": [
    "We set up logging to get a better overview of the training process."
   ]
  },
  {
   "cell_type": "code",
   "execution_count": 2,
   "metadata": {},
   "outputs": [],
   "source": [
    "logging.basicConfig(format='%(asctime)s : %(levelname)s : %(message)s', level=logging.INFO)"
   ]
  },
  {
   "cell_type": "markdown",
   "metadata": {},
   "source": [
    "We set up a fixed random seed to ensure reproducibility."
   ]
  },
  {
   "cell_type": "code",
   "execution_count": 3,
   "metadata": {},
   "outputs": [],
   "source": [
    "SEED = 42\n",
    "\n",
    "np.random.seed(SEED)\n",
    "torch.manual_seed(SEED)\n",
    "torch.cuda.manual_seed(SEED)\n",
    "torch.backends.cudnn.deterministic = True"
   ]
  },
  {
   "cell_type": "markdown",
   "metadata": {},
   "source": [
    "We download the necessary files for the tokenizer from the `nltk` library and pretrained weights for the fasttext embedding model."
   ]
  },
  {
   "cell_type": "code",
   "execution_count": 5,
   "metadata": {},
   "outputs": [
    {
     "name": "stderr",
     "output_type": "stream",
     "text": [
      "[nltk_data] Downloading package punkt_tab to /home/david/nltk_data...\n",
      "[nltk_data]   Package punkt_tab is already up-to-date!\n"
     ]
    }
   ],
   "source": [
    "nltk.download('punkt_tab')\n",
    "model_path = hf_hub_download(\"facebook/fasttext-en-vectors\", \"model.bin\")"
   ]
  },
  {
   "cell_type": "markdown",
   "metadata": {},
   "source": [
    "I decided to use fasttext embeddings as they natively support out-of-vocabulary words as it uses subword information."
   ]
  },
  {
   "cell_type": "code",
   "execution_count": 6,
   "metadata": {},
   "outputs": [],
   "source": [
    "wv = fasttext.load_model(model_path)"
   ]
  },
  {
   "cell_type": "markdown",
   "metadata": {},
   "source": [
    "### Data Splits\n",
    "\n",
    "The data is available on Hugging Face: https://huggingface.co/datasets/tau/commonsense_qa.\n",
    "Since only the train and validation splits have an answer key, we will use our own dataset splits.\n",
    "We separate the last 1'000 samples from the training set as the validation set and use the original validation set as the test set."
   ]
  },
  {
   "cell_type": "code",
   "execution_count": 7,
   "metadata": {},
   "outputs": [
    {
     "name": "stdout",
     "output_type": "stream",
     "text": [
      "8741 1000 1221\n"
     ]
    }
   ],
   "source": [
    "train = load_dataset(\"tau/commonsense_qa\", split=\"train[:-1000]\")\n",
    "valid = load_dataset(\"tau/commonsense_qa\", split=\"train[-1000:]\")\n",
    "test = load_dataset(\"tau/commonsense_qa\", split=\"validation\")\n",
    "\n",
    "print(len(train), len(valid), len(test))"
   ]
  },
  {
   "cell_type": "markdown",
   "metadata": {},
   "source": [
    "## Data Exploration"
   ]
  },
  {
   "cell_type": "markdown",
   "metadata": {},
   "source": [
    "First, we want to take a look at the data to understand its structure and content."
   ]
  },
  {
   "cell_type": "code",
   "execution_count": 8,
   "metadata": {},
   "outputs": [],
   "source": [
    "datasets = {\n",
    "  \"train\": train,\n",
    "  \"validation\": valid,\n",
    "  \"test\": test\n",
    "}"
   ]
  },
  {
   "cell_type": "markdown",
   "metadata": {},
   "source": [
    "We ensure that all three splits have the same structure and that the answers are in the same format."
   ]
  },
  {
   "cell_type": "code",
   "execution_count": 9,
   "metadata": {},
   "outputs": [
    {
     "name": "stdout",
     "output_type": "stream",
     "text": [
      "['id', 'question', 'question_concept', 'choices', 'answerKey']\n",
      "{'id': '075e483d21c29a511267ef62bedc0461', 'question': 'The sanctions against the school were a punishing blow, and they seemed to what the efforts the school had made to change?', 'question_concept': 'punishing', 'choices': {'label': ['A', 'B', 'C', 'D', 'E'], 'text': ['ignore', 'enforce', 'authoritarian', 'yell at', 'avoid']}, 'answerKey': 'A'}\n",
      "Unique answer keys: {'A', 'B', 'C', 'D', 'E'}\n"
     ]
    }
   ],
   "source": [
    "print(train.column_names)\n",
    "assert train.column_names == valid.column_names == test.column_names\n",
    "\n",
    "print(train[0])\n",
    "\n",
    "unique_answers = set([ex[\"answerKey\"] for ex in train] + [ex[\"answerKey\"] for ex in valid] + [ex[\"answerKey\"] for ex in test])\n",
    "print(f\"Unique answer keys: {unique_answers}\")"
   ]
  },
  {
   "cell_type": "markdown",
   "metadata": {},
   "source": [
    "We then display a sample question and its answer for each split to get a feeling of the type of questions and answers."
   ]
  },
  {
   "cell_type": "code",
   "execution_count": 10,
   "metadata": {},
   "outputs": [
    {
     "name": "stdout",
     "output_type": "stream",
     "text": [
      "\n",
      "=== train Split ===\n",
      "Question: The sanctions against the school were a punishing blow, and they seemed to what the efforts the school had made to change?\n",
      "A) ignore\n",
      "B) enforce\n",
      "C) authoritarian\n",
      "D) yell at\n",
      "E) avoid\n",
      "Correct Answer: A\n",
      "==================================================\n",
      "\n",
      "=== validation Split ===\n",
      "Question: What is a well known way for couples  of celebrating a marriage?\n",
      "A) eat cake\n",
      "B) getting drunk\n",
      "C) having sex\n",
      "D) cleaning rooms\n",
      "E) drink too much\n",
      "Correct Answer: C\n",
      "==================================================\n",
      "\n",
      "=== test Split ===\n",
      "Question: A revolving door is convenient for two direction travel, but it also serves as a security measure at a what?\n",
      "A) bank\n",
      "B) library\n",
      "C) department store\n",
      "D) mall\n",
      "E) new york\n",
      "Correct Answer: A\n",
      "==================================================\n"
     ]
    }
   ],
   "source": [
    "for split, data in datasets.items():\n",
    "    print(f\"\\n=== {split} Split ===\")\n",
    "    print(f\"Question: {data[0]['question']}\")\n",
    "    for j, choice in enumerate(data[0]['choices']['text']):\n",
    "        print(f\"{chr(65+j)}) {choice}\")  # A, B, C, etc.\n",
    "    print(f\"Correct Answer: {data[0]['answerKey']}\")\n",
    "    print(\"=\" * 50)"
   ]
  },
  {
   "cell_type": "markdown",
   "metadata": {},
   "source": [
    "We plot the distribution of the answer keys (`A` - `E`) to see if there's a clear imbalance or pattern."
   ]
  },
  {
   "cell_type": "code",
   "execution_count": 11,
   "metadata": {},
   "outputs": [
    {
     "data": {
      "image/png": "[encoded data removed]",
      "text/plain": [
       "<Figure size 1200x500 with 3 Axes>"
      ]
     },
     "metadata": {},
     "output_type": "display_data"
    }
   ],
   "source": [
    "plt.figure(figsize=(12, 5))\n",
    "\n",
    "for i, (split, data) in enumerate(datasets.items(), 1):\n",
    "    answer_counts = Counter([ex[\"answerKey\"] for ex in data])\n",
    "\n",
    "    plt.subplot(1, 3, i)\n",
    "    plt.bar(answer_counts.keys(), answer_counts.values())\n",
    "    plt.xlabel(\"Answer Labels\")\n",
    "    plt.ylabel(\"Absolute Frequency\")\n",
    "    plt.title(f\"{split} Answer Key Distribution\")\n",
    "\n",
    "plt.tight_layout()\n",
    "plt.show()"
   ]
  },
  {
   "cell_type": "markdown",
   "metadata": {},
   "source": [
    "We also plot the distribution of the number of characters in the questions."
   ]
  },
  {
   "cell_type": "code",
   "execution_count": 12,
   "metadata": {},
   "outputs": [
    {
     "name": "stdout",
     "output_type": "stream",
     "text": [
      "Min. question length in split train: 15, max. length: 376\n",
      "Min. question length in split validation: 20, max. length: 270\n",
      "Min. question length in split test: 21, max. length: 279\n"
     ]
    },
    {
     "data": {
      "image/png": "[encoded data removed]",
      "text/plain": [
       "<Figure size 1200x500 with 3 Axes>"
      ]
     },
     "metadata": {},
     "output_type": "display_data"
    }
   ],
   "source": [
    "plt.figure(figsize=(12, 5))\n",
    "\n",
    "for i, (split, data) in enumerate(datasets.items(), 1):\n",
    "    question_lengths = [len(ex[\"question\"]) for ex in data]\n",
    "\n",
    "    plt.subplot(1, 3, i)\n",
    "    plt.hist(question_lengths, bins=20)\n",
    "    plt.xlabel(\"Question Length (characters)\")\n",
    "    plt.ylabel(\"Absolute Frequency\")\n",
    "    plt.title(f\"{split} Question Length Distribution\")\n",
    "    print(f\"Min. question length in split {split}: {min(question_lengths)}, max. length: {max(question_lengths)}\")\n",
    "\n",
    "plt.tight_layout()\n",
    "plt.show()"
   ]
  },
  {
   "cell_type": "markdown",
   "metadata": {},
   "source": [
    "## Preprocessing"
   ]
  },
  {
   "cell_type": "markdown",
   "metadata": {},
   "source": [
    "Correct and justified decisions on:\n",
    "o Tokenization\n",
    "o Lowercasing, stemming, lemmatizing, stopword/punctuation removal\n",
    "o Removal of unknown/other words\n",
    "o Format cleaning (e.g. html-extracted text)\n",
    "o Truncation\n",
    "o Feature selection\n",
    "o Input format: how is data passed to the model?\n",
    "o Label format: what should the model predict?\n",
    "o Batching, padding\n",
    "o Vocabulary, embedding"
   ]
  },
  {
   "cell_type": "markdown",
   "metadata": {},
   "source": [
    "First, we preprocess the raw text data to make it suitable for the model.\n",
    "\n",
    "We use the word tokenizer from the `nltk` library to split the text into word tokens.\n",
    "\n",
    "We don't lowercase the text as it may contain important information such as `I` or `US` and because fasttext can naturally handle different cases.\n",
    "\n",
    "We also don't remove stopwords or punctuation as they may also contain important information for the model for answering the questions.\n",
    "\n",
    "Stemming or lemmatization is not necessary as fasttext can handle different forms of words. Even more, it may be counterproductive as it may remove important information from the text such as time or location information.\n",
    "\n",
    "Removal of unknown words is not necessary as fasttext word vectors are built from vectors of substrings of characters contained in it. This allows to build vectors even for misspelled words or concatenation of words.\n",
    "\n",
    "As the longest question only has 376 characters, we don't need to truncate the text. During training we will use padding to ensure all strings have the same length.\n",
    "\n",
    "The text in the dataset is already clean and doesn't contain any html tags we would need to remove and / or parse. "
   ]
  },
  {
   "cell_type": "markdown",
   "metadata": {},
   "source": [
    "In short: The only preprocessing we do is tokenization."
   ]
  },
  {
   "cell_type": "code",
   "execution_count": 13,
   "metadata": {},
   "outputs": [],
   "source": [
    "def preprocess_text(text):\n",
    "  preprocessed = word_tokenize(text)\n",
    "  return preprocessed"
   ]
  },
  {
   "cell_type": "markdown",
   "metadata": {},
   "source": [
    "We then check out how the loaded embeddings look like and how many words are in the vocabulary."
   ]
  },
  {
   "cell_type": "code",
   "execution_count": 14,
   "metadata": {},
   "outputs": [
    {
     "name": "stdout",
     "output_type": "stream",
     "text": [
      "Word embeddings vector size: 300\n",
      "Word embeddings vocab size: 2000000\n",
      "[',', 'the', '.', 'and', 'to', 'of', 'a', '</s>', 'in', 'is']\n",
      "['ldapmodify', 'sponde', 'hvm', 'GorceyBearTerritory.netSaturday', 'Zwicke']\n"
     ]
    }
   ],
   "source": [
    "print(f\"Word embeddings vector size: {wv.get_dimension()}\")\n",
    "print(f\"Word embeddings vocab size: {len(wv.words)}\")\n",
    "\n",
    "print(wv.words[:10])\n",
    "print(wv.words[-5:])"
   ]
  },
  {
   "cell_type": "markdown",
   "metadata": {},
   "source": [
    "Test the embeddings by looking up a word that certainly exists in the vocabulary and a word that doesn't exist in the vocabulary to see if it handles out-of-vocabulary words."
   ]
  },
  {
   "cell_type": "code",
   "execution_count": 15,
   "metadata": {},
   "outputs": [
    {
     "name": "stdout",
     "output_type": "stream",
     "text": [
      "[ 8.23911093e-03 -8.99027660e-02  2.65252870e-02 -8.55387747e-03\n",
      " -6.09397441e-02  6.75930129e-03  6.52322620e-02  1.06213633e-02\n",
      " -4.75259237e-02 -7.61148334e-03 -2.25875620e-03  9.08407965e-04\n",
      " -6.68869540e-03 -2.25828700e-02 -6.61593257e-03 -7.24807084e-02\n",
      "  2.03068964e-02  2.14499757e-02 -5.07426150e-02  3.91916037e-02\n",
      "  5.33207357e-02 -4.52754647e-03 -1.86902005e-03  5.57158291e-02\n",
      "  1.46500766e-02 -5.70575595e-02  4.93949279e-04 -7.09158741e-03\n",
      "  1.48559324e-02 -5.28307818e-02  2.84850523e-02 -4.96256426e-02\n",
      "  2.22029127e-02  5.86468279e-02  2.13257503e-02  7.91368634e-03\n",
      "  1.87332481e-02  9.18916687e-02 -2.77845450e-02  2.39473525e-02\n",
      "  4.25748378e-02 -9.94171482e-03 -2.23485958e-02  8.55861679e-02\n",
      " -4.47648503e-02 -1.41877644e-02 -1.26887113e-04 -1.00239128e-01\n",
      " -1.24342320e-02  5.95488772e-02  2.35982426e-02  1.56282559e-02\n",
      "  1.94263570e-02  8.58244579e-03  1.51532954e-02  4.16088402e-02\n",
      "  1.98060516e-02 -7.46113062e-03 -3.07702627e-02 -2.10531931e-02\n",
      "  2.74334885e-02 -4.17157374e-02 -3.56185883e-02 -2.17031352e-02\n",
      "  1.37879029e-02  2.72319801e-02  2.91177686e-02  1.62381288e-02\n",
      "  2.23314390e-02  3.12007107e-02 -7.52905663e-03  1.02584790e-02\n",
      "  2.94368342e-02  1.25950836e-02  7.28831515e-02 -1.24444338e-02\n",
      " -4.43593860e-02  3.30700912e-02 -9.75801498e-02 -2.58863755e-02\n",
      "  5.34570403e-03  1.75542943e-02 -1.94995441e-02  3.00365388e-02\n",
      " -3.18978280e-02  2.81078480e-02  5.48056886e-02 -1.52527466e-02\n",
      " -4.36926112e-02 -5.41102588e-02  1.12257171e-02  2.16098651e-02\n",
      " -3.60471047e-02 -1.44853946e-02 -3.62045318e-03  1.95710585e-02\n",
      "  1.21764317e-02 -5.70974648e-02 -2.70106252e-02  6.38146177e-02\n",
      "  4.28568050e-02 -6.07165471e-02 -3.19392532e-02  3.19416448e-03\n",
      " -1.24735981e-02 -7.13155493e-02 -3.03832013e-02 -1.21982563e-02\n",
      "  2.11810097e-02 -2.69490033e-02  8.17382708e-03 -1.15554869e-01\n",
      "  7.62604177e-04  8.95902887e-02 -1.65034328e-02 -1.27696330e-02\n",
      " -4.11331467e-02 -1.34926224e-02  1.54139949e-02 -2.80922018e-02\n",
      "  6.18206672e-02 -3.67048662e-03 -8.11334252e-02  2.07473226e-02\n",
      "  2.02467032e-02  5.87196238e-02 -1.65337455e-02  1.27609402e-01\n",
      " -3.16866301e-02 -3.93124670e-03 -4.39455174e-02  1.46993287e-02\n",
      " -5.86559139e-02 -1.86296999e-02  1.26128625e-02 -5.41222142e-03\n",
      " -4.26090881e-02  6.05685711e-02 -4.27909158e-02 -2.96267532e-02\n",
      " -1.02523398e-02 -1.80237554e-02  1.02565736e-02  3.00097764e-02\n",
      "  2.05962062e-02  2.46783439e-02 -3.68980885e-01 -3.85060953e-03\n",
      "  2.72371080e-02 -2.51431949e-02 -4.01115716e-02  2.53724586e-02\n",
      " -4.39509079e-02 -3.80519428e-03 -1.57542527e-04  1.38481390e-02\n",
      "  6.08402230e-02  3.25895734e-02 -8.69639590e-02 -4.73427493e-03\n",
      " -5.84197268e-02 -2.43068412e-02 -9.34191346e-02 -2.90227029e-03\n",
      " -2.85869627e-03  1.98261254e-02  1.49173150e-02 -4.08625118e-02\n",
      "  1.80987455e-02 -2.09783278e-02 -2.21290570e-02  1.68420840e-02\n",
      "  3.10796499e-02  3.33685130e-02 -5.04413135e-02  1.63729712e-02\n",
      " -3.12635042e-02  1.00101724e-01  2.82859225e-02 -8.44198242e-02\n",
      "  1.68396402e-02  2.22058222e-02 -6.24679327e-02 -6.26606345e-02\n",
      "  3.07596754e-02  2.66086198e-02 -6.26772717e-02 -3.90372090e-02\n",
      "  2.34264489e-02 -5.04080988e-02 -4.44788560e-02  4.74284291e-02\n",
      " -4.52308729e-02  4.11198586e-02  1.74042508e-02 -6.17337301e-02\n",
      "  6.37754649e-02 -6.59050569e-02 -1.48986205e-02  6.85354099e-02\n",
      " -7.29488060e-02 -1.76609159e-02  4.55817394e-03 -1.37576871e-02\n",
      " -1.60885155e-02 -1.84375253e-02 -9.89368558e-02  6.95459731e-03\n",
      "  5.43078929e-02  1.27721190e-01  3.55936289e-02 -2.68232636e-03\n",
      "  8.58246982e-02  1.11327469e-02 -1.95932295e-03  2.73223221e-02\n",
      "  5.01469374e-02 -3.86893563e-02  3.23250070e-02  4.17337604e-02\n",
      "  5.23539893e-02  2.77093053e-02 -1.44251995e-02  4.32834141e-02\n",
      "  4.27054539e-02 -1.07224286e-02  3.95365059e-02 -5.18234596e-02\n",
      " -3.33377495e-02 -1.17142852e-02 -2.87252963e-02 -2.41805799e-02\n",
      "  3.69910486e-02  4.49758433e-02  3.15677449e-02 -5.27046509e-02\n",
      "  1.19324103e-02  5.00314534e-02  1.41884973e-02  3.22734229e-02\n",
      "  2.56861262e-02 -1.99317560e-03  5.63756302e-02 -2.39604324e-01\n",
      "  6.19736135e-01  8.61320458e-03  3.66283394e-02 -4.21728641e-02\n",
      "  7.43011087e-02  1.88162178e-02 -4.32008430e-02 -1.23270685e-02\n",
      " -2.17413902e-02 -4.56854552e-02  1.26606524e-02 -4.75486219e-02\n",
      " -1.05940960e-01  1.09916627e-02 -1.40460208e-03 -9.28971078e-03\n",
      "  3.86689752e-02  9.41321328e-02 -4.41618860e-02  1.69493593e-02\n",
      " -7.12717623e-02  7.48523623e-02  2.86747050e-03  9.32347551e-02\n",
      " -1.16246305e-01  1.06363427e-02 -1.50462352e-02  5.57788797e-02\n",
      " -5.85105419e-02 -1.91076845e-02  2.28385851e-02  3.04185450e-02\n",
      "  1.89196952e-02 -3.18782479e-02 -5.63929938e-02  5.80628291e-02\n",
      "  5.98480785e-03  7.22073093e-02 -1.53672367e-01  2.84299590e-02\n",
      "  1.11958720e-02  4.17528562e-02  3.54119763e-02 -9.61888283e-02\n",
      " -8.41598026e-04  1.96748879e-02  6.07221983e-02 -3.55068520e-02\n",
      " -2.38197073e-02 -2.77546421e-02 -2.60229278e-02 -3.80507559e-02\n",
      " -2.11028941e-02 -1.15913749e-02 -4.11286354e-02  3.62522230e-02]\n",
      "[-9.98587697e-04 -1.34649659e-02 -5.35215670e-03  2.09453553e-02\n",
      " -3.58184837e-02 -1.45766940e-02 -1.55732443e-03  1.30497979e-03\n",
      " -1.15762493e-02  1.02695022e-02 -1.13808484e-04  7.21522747e-03\n",
      "  2.56854738e-03 -8.72163661e-03 -1.43402796e-02 -2.59162076e-02\n",
      "  1.92753412e-02 -3.52117256e-03 -3.77736287e-03  3.35225090e-02\n",
      " -7.27801491e-03  2.13054684e-03 -1.03639835e-03  1.85155426e-03\n",
      "  1.16005475e-02  2.52938010e-02  8.27995129e-03  2.85679344e-02\n",
      " -1.41698383e-02 -1.79913584e-02 -3.73866246e-03 -1.72958467e-02\n",
      "  8.93780869e-03  2.76733609e-03  1.88852660e-02 -1.78884454e-02\n",
      " -2.18704226e-03  4.87651192e-02  1.26167964e-02  1.88826360e-02\n",
      " -4.38907743e-03 -1.66430641e-02  1.14958370e-02 -3.63222836e-03\n",
      " -2.92048394e-03  2.87500881e-02  2.97211064e-03  2.84686545e-03\n",
      "  9.48199164e-03 -6.25816360e-03  1.27541218e-02 -1.79815535e-02\n",
      " -8.49811267e-03 -1.61069315e-02  5.52618317e-03  6.91576861e-03\n",
      "  1.23372674e-02  2.02182569e-02 -3.31210978e-02 -4.79889131e-04\n",
      "  1.03010179e-03 -1.34393563e-02  2.10358558e-04  1.63929705e-02\n",
      " -1.82463694e-03  5.52828284e-03  1.36326915e-02 -8.61074962e-03\n",
      " -2.40510143e-02 -8.26963969e-03  9.51317139e-03  1.14179996e-03\n",
      "  1.86171499e-03 -1.58634689e-02  5.88129694e-03  5.07538731e-04\n",
      "  4.92662843e-03  2.84818783e-02  3.27265970e-02  2.64940653e-02\n",
      " -1.64325051e-02  1.52149890e-02 -9.38628800e-03  1.37313735e-03\n",
      " -2.27225795e-02 -5.83967986e-03 -1.59563459e-02  8.09658784e-03\n",
      "  8.14822153e-04  3.17015126e-02  4.20705834e-03  4.26109764e-04\n",
      " -1.57364588e-02  2.68593803e-03  4.40563150e-02  1.31671522e-02\n",
      "  2.75973417e-02 -8.10713787e-03 -1.79138388e-02  1.12748360e-02\n",
      "  4.29843366e-03 -2.08436139e-03 -1.31491246e-02 -2.10421951e-03\n",
      " -1.04280738e-02 -2.82244873e-03  8.56005121e-03 -2.33984180e-03\n",
      " -1.57380644e-02 -2.28701625e-02 -1.76395830e-02 -2.41691135e-02\n",
      " -1.10828048e-02 -1.28964176e-02  6.32018084e-03  1.62326228e-02\n",
      " -1.57437138e-02  9.43065155e-03 -6.07344613e-04  8.82795174e-03\n",
      " -6.79948600e-03 -6.95425132e-03  1.55654605e-02  6.40587416e-03\n",
      "  3.25302384e-03  4.42860983e-02 -3.08363698e-03  2.67844973e-03\n",
      "  1.63276607e-04 -2.19132355e-03  2.88898107e-02 -6.55672327e-03\n",
      "  6.47912594e-03 -3.56320105e-03  2.16111876e-02  1.83252767e-02\n",
      " -8.09231657e-04 -1.13078533e-02  4.58108587e-03 -3.75329377e-03\n",
      "  1.35317603e-02 -2.28563547e-02 -3.92510919e-05 -2.04985570e-02\n",
      " -3.57924812e-02  1.26655295e-03 -3.47117111e-02 -2.08152141e-02\n",
      "  1.32569042e-03  1.58106796e-02 -1.81110632e-02 -5.45072556e-03\n",
      "  8.36499780e-03 -1.03541259e-02  1.92474704e-02 -2.01858114e-02\n",
      "  3.60454409e-03 -9.25495289e-03 -1.16565702e-02 -3.94157041e-03\n",
      " -2.02908665e-02 -1.21406289e-02 -3.57543044e-02 -5.11698425e-03\n",
      "  9.04209632e-03  4.46365727e-03 -1.85069430e-03 -1.45033356e-02\n",
      "  2.63899169e-03  1.39978400e-03  1.29951369e-02  8.27409513e-03\n",
      " -8.26735515e-03  8.42532422e-03 -9.90656321e-04 -6.37961645e-03\n",
      "  3.29110044e-04 -2.00240575e-02 -4.42764402e-04 -2.10302044e-02\n",
      "  1.32317413e-02  2.44721007e-02 -1.26753682e-02 -3.33044529e-02\n",
      " -1.31163308e-02 -2.41049230e-02 -2.27150950e-03 -6.30446197e-03\n",
      " -1.11000733e-02  9.85284057e-03  1.91466305e-02 -4.77474649e-03\n",
      " -8.17788206e-03  3.55850603e-03  2.67836428e-03  5.47328033e-03\n",
      "  1.31559232e-02  1.62425190e-02  4.72046109e-03  2.56114695e-02\n",
      " -3.66258435e-02 -1.15394983e-02 -1.34448884e-02  2.41416488e-02\n",
      " -3.59562750e-04 -6.51799468e-03  2.29268540e-02 -1.42299375e-02\n",
      " -1.60589088e-02  1.33099742e-02 -3.15982997e-02 -7.82537460e-03\n",
      "  1.90541968e-02 -4.17684997e-03  3.66872689e-03  2.47172150e-03\n",
      " -6.60539279e-03  1.49632484e-04 -8.41947459e-03  9.22100060e-03\n",
      "  2.61485800e-02 -2.08672928e-03 -2.36611394e-03  1.90457851e-02\n",
      "  1.57113373e-02 -1.41330026e-02  1.69594083e-02  2.44963402e-03\n",
      " -2.32937862e-03  2.16886569e-02  1.69178471e-02 -7.46542402e-03\n",
      " -1.68016404e-02  2.40009371e-02  2.56045610e-02  5.13993343e-03\n",
      " -1.29340822e-03  1.39564276e-04  1.27592096e-02  5.62059088e-03\n",
      " -2.17092666e-03 -2.38254219e-02  4.40614735e-04 -2.91189738e-02\n",
      "  8.04843102e-03  1.50121460e-02  7.98876397e-03  4.60952939e-03\n",
      " -6.90947426e-03 -8.97288695e-03  3.94885056e-02  4.59728856e-03\n",
      "  8.23671184e-03  2.59744599e-02  4.24002251e-03 -1.65579247e-03\n",
      "  4.42160200e-03  1.64826717e-02 -1.13121085e-02  4.18346375e-03\n",
      "  1.96391414e-03 -3.81784723e-03 -4.92895618e-02 -9.45236254e-03\n",
      " -6.27007429e-03 -5.55973174e-03  7.21379323e-03  5.43027185e-03\n",
      "  2.00688224e-02  1.66141987e-02 -2.08887155e-03  2.79139522e-02\n",
      "  1.29594179e-02  1.57753862e-02  5.55853406e-03  1.15019772e-02\n",
      " -1.08302608e-02 -1.72340684e-02 -1.82414278e-02 -3.74705456e-02\n",
      " -1.52264312e-02 -6.76365290e-03 -3.00009828e-02  2.81563960e-02\n",
      " -2.39296490e-03 -6.75030984e-03  7.15320278e-03 -8.25915486e-03\n",
      "  1.66553003e-03 -3.22100297e-02  2.64530978e-03  3.98415839e-03\n",
      " -3.03073637e-02  1.08672353e-02  1.36464927e-02 -1.81417372e-02\n",
      " -6.30673720e-03  1.54494708e-02 -3.67225357e-03 -4.83225472e-03]\n"
     ]
    }
   ],
   "source": [
    "print(wv[\"and\"])\n",
    "print(wv[\"thiswordceratinlydoesntexist\"])"
   ]
  },
  {
   "cell_type": "code",
   "execution_count": 15,
   "metadata": {},
   "outputs": [],
   "source": [
    "# only do this for the RNN\n",
    "\n",
    "# embedding_dim = wv.vector_size\n",
    "\n",
    "# special_tokens = {\n",
    "#   \"[EOQ]\": np.random.uniform(-0.1, 0.1, embedding_dim), # end of question\n",
    "#   \"[EOC1]\": np.random.uniform(-0.1, 0.1, embedding_dim), # end of choice 1\n",
    "#   \"[EOC2]\": np.random.uniform(-0.1, 0.1, embedding_dim), # end of choice 2\n",
    "#   \"[EOC3]\": np.random.uniform(-0.1, 0.1, embedding_dim), # end of choice 3\n",
    "#   \"[EOC4]\": np.random.uniform(-0.1, 0.1, embedding_dim), # end of choice 4\n",
    "# }\n",
    "\n",
    "# for token, vec in special_tokens.items():\n",
    "#     assert token not in wv.key_to_index\n",
    "\n",
    "# wv.add_vectors(list(special_tokens.keys()), list(special_tokens.values()))"
   ]
  },
  {
   "cell_type": "markdown",
   "metadata": {},
   "source": [
    "### Torch Dataloader and Dataset"
   ]
  },
  {
   "cell_type": "markdown",
   "metadata": {},
   "source": [
    "For the model to be able to train on the data, we need to create a custom torch dataset that we can read from a torch dataloader.\n",
    "\n",
    "We create a dataset that, when indexed, returns data in the following format:\n",
    "1. The question as a tensor with dimensions `(embedding_dim)`\n",
    "2. The choices as a tensor with dimensions `(5, embedding_dim)`\n",
    "3. The correct answer encoded as a number as a tensor with dimensions `(1)`"
   ]
  },
  {
   "cell_type": "markdown",
   "metadata": {},
   "source": [
    "To be able to reduce each question and each choice to a single tensor, we need to have a method to reduce the word embeddings to a single tensor.\n",
    "\n",
    "In this case, we will use the mean of the word embeddings to represent the sentences. Each sentence is first preprocessed by tokenizing it and is then converted to word embeddings. The mean of the word embeddings is then calculated to represent the sentence."
   ]
  },
  {
   "cell_type": "code",
   "execution_count": 16,
   "metadata": {},
   "outputs": [],
   "source": [
    "def get_averaged_sentence_embedding(sentence):\n",
    "    \"\"\"Convert a sentence into a fixed-size vector by averaging word embeddings.\"\"\"\n",
    "    tokens = preprocess_text(sentence)\n",
    "\n",
    "    word_vectors = [wv[word] for word in tokens]\n",
    "    return np.mean(word_vectors, axis=0)  # Average word vectors"
   ]
  },
  {
   "cell_type": "markdown",
   "metadata": {},
   "source": [
    "To speed up training, we will precompute the embeddings for all questions and choices in the dataset using the `map()` function. The precomputed embeddings are then stored in separate columns in the dataset."
   ]
  },
  {
   "cell_type": "code",
   "execution_count": null,
   "metadata": {},
   "outputs": [
    {
     "name": "stderr",
     "output_type": "stream",
     "text": [
      "Parameter 'function'=<function compute_embeddings at 0x7fae1c268280> of the transform datasets.arrow_dataset.Dataset._map_single couldn't be hashed properly, a random hash was used instead. Make sure your transforms and parameters are serializable with pickle or dill for the dataset fingerprinting and caching to work. If you reuse this transform, the caching mechanism will consider it to be different from the previous calls and recompute everything. This warning is only showed once. Subsequent hashing failures won't be showed.\n",
      "2025-03-17 18:18:23,337 : WARNING : Parameter 'function'=<function compute_embeddings at 0x7fae1c268280> of the transform datasets.arrow_dataset.Dataset._map_single couldn't be hashed properly, a random hash was used instead. Make sure your transforms and parameters are serializable with pickle or dill for the dataset fingerprinting and caching to work. If you reuse this transform, the caching mechanism will consider it to be different from the previous calls and recompute everything. This warning is only showed once. Subsequent hashing failures won't be showed.\n"
     ]
    },
    {
     "data": {
      "application/vnd.jupyter.widget-view+json": {
       "model_id": "291919ecd19f4804a9e68f6f224db38d",
       "version_major": 2,
       "version_minor": 0
      },
      "text/plain": [
       "Map:   0%|          | 0/8741 [00:00<?, ? examples/s]"
      ]
     },
     "metadata": {},
     "output_type": "display_data"
    },
    {
     "data": {
      "application/vnd.jupyter.widget-view+json": {
       "model_id": "2def751cf2a848aca92e4bf695348471",
       "version_major": 2,
       "version_minor": 0
      },
      "text/plain": [
       "Map:   0%|          | 0/1000 [00:00<?, ? examples/s]"
      ]
     },
     "metadata": {},
     "output_type": "display_data"
    }
   ],
   "source": [
    "def compute_embeddings(example):\n",
    "    question_emb = get_averaged_sentence_embedding(example[\"question\"])\n",
    "    choice_embs = [get_averaged_sentence_embedding(choice) for choice in example[\"choices\"][\"text\"]]\n",
    "    \n",
    "    # Save embeddings as lists so they can be stored in the dataset\n",
    "    example[\"question_emb\"] = question_emb.tolist()\n",
    "    example[\"choice_embs\"] = [emb.tolist() for emb in choice_embs]\n",
    "    return example\n",
    "\n",
    "train = train.map(compute_embeddings)\n",
    "valid = valid.map(compute_embeddings)"
   ]
  },
  {
   "cell_type": "markdown",
   "metadata": {},
   "source": [
    "We also need a function to convert the answer keys to numbers (`A` -> 0, `B` -> 1, ..., `E` -> 4)."
   ]
  },
  {
   "cell_type": "code",
   "execution_count": 18,
   "metadata": {},
   "outputs": [],
   "source": [
    "def answer_key_to_index(answer_key):\n",
    "  \"\"\"Answer key (A-E) to index (0-4)\"\"\"\n",
    "  return ord(answer_key) - ord(\"A\")"
   ]
  },
  {
   "cell_type": "markdown",
   "metadata": {},
   "source": [
    "Finally, we create our custom dataset that performs the preprocessing and returns the data in the format described above."
   ]
  },
  {
   "cell_type": "code",
   "execution_count": 19,
   "metadata": {},
   "outputs": [],
   "source": [
    "class CommonsenseQADataset(Dataset):\n",
    "    def __init__(self, hf_dataset):\n",
    "        self.data = hf_dataset\n",
    "        # self.special_separator_tokens = { # only do this for the RNN\n",
    "        #     \"EOQ\": wv[\"[EOQ]\"],\n",
    "        #     \"EOC1\": wv[\"[EOC1]\"],\n",
    "        #     \"EOC2\": wv[\"[EOC2]\"],\n",
    "        #     \"EOC3\": wv[\"[EOC3]\"],\n",
    "        #     \"EOC4\": wv[\"[EOC4]\"],\n",
    "        # }\n",
    "\n",
    "    def __len__(self):\n",
    "        return len(self.data)\n",
    "\n",
    "    def __getitem__(self, idx):\n",
    "        example = self.data[idx]\n",
    "        question_tensor = torch.tensor(example[\"question_emb\"]).float()\n",
    "        choices_tensor = torch.tensor(example[\"choice_embs\"]).float()\n",
    "        answer_index = answer_key_to_index(example[\"answerKey\"])\n",
    "        return question_tensor, choices_tensor, torch.tensor(answer_index).long()"
   ]
  },
  {
   "cell_type": "code",
   "execution_count": 20,
   "metadata": {},
   "outputs": [],
   "source": [
    "train_dataset = CommonsenseQADataset(train)\n",
    "valid_dataset = CommonsenseQADataset(valid)"
   ]
  },
  {
   "cell_type": "markdown",
   "metadata": {},
   "source": [
    "We load the first sample from the dataset to check the dimensions of the returned data."
   ]
  },
  {
   "cell_type": "code",
   "execution_count": 24,
   "metadata": {},
   "outputs": [
    {
     "name": "stdout",
     "output_type": "stream",
     "text": [
      "torch.Size([300]) torch.Size([5, 300]) tensor(0)\n"
     ]
    }
   ],
   "source": [
    "example_question_tensor, example_choices_tensor, example_answer_index = train_dataset[0]\n",
    "print(example_question_tensor.shape, example_choices_tensor.shape, example_answer_index)"
   ]
  },
  {
   "cell_type": "markdown",
   "metadata": {},
   "source": [
    "With this successful, we can now create a torch dataloader that reads from the custom dataset.\n",
    "\n",
    "We use a batch size of 128. The data in the training set is shuffled to ensure that the model doesn't learn the order of the questions. The data in the validation and test set is not shuffled to ensure reproducibility."
   ]
  },
  {
   "cell_type": "code",
   "execution_count": 25,
   "metadata": {},
   "outputs": [],
   "source": [
    "batch_size = 128\n",
    "\n",
    "train_loader = DataLoader(train_dataset, batch_size=batch_size, shuffle=True, num_workers=8)\n",
    "valid_loader = DataLoader(valid_dataset, batch_size=batch_size, shuffle=False, num_workers=8)"
   ]
  },
  {
   "cell_type": "markdown",
   "metadata": {},
   "source": [
    "We load the first batch from the dataloader to check the dimensions of the returned data and the format of the answers."
   ]
  },
  {
   "cell_type": "code",
   "execution_count": 26,
   "metadata": {},
   "outputs": [
    {
     "name": "stdout",
     "output_type": "stream",
     "text": [
      "torch.Size([128, 300]) torch.Size([128, 5, 300]) torch.Size([128]) tensor([3, 3, 1, 4, 3, 4, 4, 4, 0, 2, 2, 3, 1, 3, 1, 4, 3, 4, 4, 4, 0, 1, 4, 2,\n",
      "        3, 4, 3, 0, 1, 3, 0, 2, 1, 0, 1, 2, 2, 3, 1, 0, 2, 3, 4, 0, 2, 1, 3, 4,\n",
      "        1, 1, 1, 1, 3, 1, 2, 1, 3, 4, 2, 4, 1, 1, 4, 2, 2, 2, 4, 2, 3, 1, 4, 3,\n",
      "        0, 4, 1, 3, 4, 3, 1, 3, 3, 1, 4, 4, 4, 3, 4, 1, 4, 3, 4, 0, 3, 4, 2, 4,\n",
      "        3, 4, 1, 0, 3, 1, 3, 0, 3, 4, 3, 1, 3, 1, 1, 3, 1, 3, 0, 0, 1, 1, 2, 3,\n",
      "        2, 3, 1, 0, 2, 4, 0, 3])\n"
     ]
    }
   ],
   "source": [
    "for batch in train_loader:\n",
    "    print(batch[0].shape, batch[1].shape, batch[2].shape, batch[2])\n",
    "    break"
   ]
  },
  {
   "cell_type": "markdown",
   "metadata": {},
   "source": [
    "## Model"
   ]
  },
  {
   "cell_type": "markdown",
   "metadata": {},
   "source": [
    "The first model consists of two fully connected layers with a ReLU activation function in between.\n",
    "\n",
    "It receives the question tensor (`(batch_size, embedding_dim)`) and the 5 choic tensors (`(batch_size, 5, embedding_dim)`) as input in the forward pass. The question tensor is then expanded to the same shape as the choice tensor and concatenated with it, resulting in a tensor of shape `(batch_size, 5, 2 * embedding_dim)`. This tensor is then passed through the two fully connected layers to get the logits for each choice (`(batch_size, 5)`).\n",
    "\n",
    "Softmax is deliberately not applied to the logits because the chosen loss function, `CrossEntropyLoss`, already applies the softmax function to the logits."
   ]
  },
  {
   "cell_type": "code",
   "execution_count": 27,
   "metadata": {},
   "outputs": [],
   "source": [
    "class WordEmbeddingQAClassifier(nn.Module):\n",
    "    def __init__(self, embedding_dim, hidden_dim=128):\n",
    "        super(WordEmbeddingQAClassifier, self).__init__()\n",
    "\n",
    "        self.embedding_dim = embedding_dim\n",
    "        self.hidden_dim = hidden_dim\n",
    "\n",
    "        self.fc1 = nn.Linear(2 * embedding_dim, hidden_dim) # the input dimension is doubled due to concatenation (question + choice)\n",
    "        self.relu = nn.ReLU() # non-linearity\n",
    "        self.fc2 = nn.Linear(hidden_dim, 1) # single score per candidate\n",
    "\n",
    "    def forward(self, question, choices):\n",
    "        # question: (batch_size, embedding_dim)\n",
    "        # choices: (batch_size, 5, embedding_dim)\n",
    "\n",
    "        # expand question to match the choices dimension\n",
    "        question_expanded = question.unsqueeze(1).expand(-1, choices.size(1), -1) # (batch_size, 5, embedding_dim)\n",
    "        \n",
    "        # concatenate question and choice embeddings\n",
    "        combined = torch.cat((question_expanded, choices), dim=2) # (batch_size, 5, 2*embedding_dim)\n",
    "\n",
    "        # pass through the classifier\n",
    "        x = self.fc1(combined)  # (batch_size, 5, hidden_dim)\n",
    "        x = self.relu(x)\n",
    "        x = self.fc2(x)         # (batch_size, 5, 1)\n",
    "        return x.squeeze(-1)    # (batch_size, 5)"
   ]
  },
  {
   "cell_type": "markdown",
   "metadata": {},
   "source": [
    "If available, we use a GPU for training."
   ]
  },
  {
   "cell_type": "code",
   "execution_count": 28,
   "metadata": {},
   "outputs": [
    {
     "name": "stdout",
     "output_type": "stream",
     "text": [
      "cuda\n"
     ]
    }
   ],
   "source": [
    "device = torch.device(\"cuda\" if torch.cuda.is_available() else \"cpu\")\n",
    "print(device)"
   ]
  },
  {
   "cell_type": "code",
   "execution_count": 29,
   "metadata": {},
   "outputs": [
    {
     "name": "stdout",
     "output_type": "stream",
     "text": [
      "WordEmbeddingQAClassifier(\n",
      "  (fc1): Linear(in_features=600, out_features=64, bias=True)\n",
      "  (relu): ReLU()\n",
      "  (fc2): Linear(in_features=64, out_features=1, bias=True)\n",
      ")\n"
     ]
    }
   ],
   "source": [
    "model = WordEmbeddingQAClassifier(embedding_dim=wv.get_dimension(), hidden_dim=64)\n",
    "model = model.to(device)\n",
    "\n",
    "print(model)"
   ]
  },
  {
   "cell_type": "markdown",
   "metadata": {},
   "source": [
    "## Training"
   ]
  },
  {
   "cell_type": "markdown",
   "metadata": {},
   "source": [
    "### Initialize Weights & Biases experiment tracking"
   ]
  },
  {
   "cell_type": "markdown",
   "metadata": {},
   "source": [
    "For tracking the training process, we use Weights & Biases. We first have to log in to our account and initialize a new experiment."
   ]
  },
  {
   "cell_type": "code",
   "execution_count": 30,
   "metadata": {},
   "outputs": [
    {
     "name": "stderr",
     "output_type": "stream",
     "text": [
      "\u001b[34m\u001b[1mwandb\u001b[0m: Using wandb-core as the SDK backend.  Please refer to https://wandb.me/wandb-core for more information.\n",
      "\u001b[34m\u001b[1mwandb\u001b[0m: Currently logged in as: \u001b[33mdavidhodel\u001b[0m (\u001b[33mdhodel-hslu-nlp\u001b[0m) to \u001b[32mhttps://api.wandb.ai\u001b[0m. Use \u001b[1m`wandb login --relogin`\u001b[0m to force relogin\n"
     ]
    },
    {
     "data": {
      "text/plain": [
       "True"
      ]
     },
     "execution_count": 30,
     "metadata": {},
     "output_type": "execute_result"
    }
   ],
   "source": [
    "wandb.login()"
   ]
  },
  {
   "cell_type": "code",
   "execution_count": 31,
   "metadata": {},
   "outputs": [
    {
     "data": {
      "text/html": [
       "Tracking run with wandb version 0.19.8"
      ],
      "text/plain": [
       "<IPython.core.display.HTML object>"
      ]
     },
     "metadata": {},
     "output_type": "display_data"
    },
    {
     "data": {
      "text/html": [
       "Run data is saved locally in <code>/home/david/git/HSLU.NLP/course_projects/wandb/run-20250317_183208-tsqpu5gp</code>"
      ],
      "text/plain": [
       "<IPython.core.display.HTML object>"
      ]
     },
     "metadata": {},
     "output_type": "display_data"
    },
    {
     "data": {
      "text/html": [
       "Syncing run <strong><a href='https://wandb.ai/dhodel-hslu-nlp/hslu-fs25-nlp-qa/runs/tsqpu5gp' target=\"_blank\">word-embedding-qa-2025-03-17T18:32:08</a></strong> to <a href='https://wandb.ai/dhodel-hslu-nlp/hslu-fs25-nlp-qa' target=\"_blank\">Weights & Biases</a> (<a href='https://wandb.me/developer-guide' target=\"_blank\">docs</a>)<br>"
      ],
      "text/plain": [
       "<IPython.core.display.HTML object>"
      ]
     },
     "metadata": {},
     "output_type": "display_data"
    },
    {
     "data": {
      "text/html": [
       " View project at <a href='https://wandb.ai/dhodel-hslu-nlp/hslu-fs25-nlp-qa' target=\"_blank\">https://wandb.ai/dhodel-hslu-nlp/hslu-fs25-nlp-qa</a>"
      ],
      "text/plain": [
       "<IPython.core.display.HTML object>"
      ]
     },
     "metadata": {},
     "output_type": "display_data"
    },
    {
     "data": {
      "text/html": [
       " View run at <a href='https://wandb.ai/dhodel-hslu-nlp/hslu-fs25-nlp-qa/runs/tsqpu5gp' target=\"_blank\">https://wandb.ai/dhodel-hslu-nlp/hslu-fs25-nlp-qa/runs/tsqpu5gp</a>"
      ],
      "text/plain": [
       "<IPython.core.display.HTML object>"
      ]
     },
     "metadata": {},
     "output_type": "display_data"
    }
   ],
   "source": [
    "run = wandb.init(\n",
    "  project=\"hslu-fs25-nlp-qa\",\n",
    "  entity=\"dhodel-hslu-nlp\",\n",
    "  name=f\"word-embedding-qa-{datetime.now().strftime('%Y-%m-%dT%H:%M:%S')}\",\n",
    "  config={\n",
    "    \"model\": \"word-embedding\",\n",
    "    \"embedding_dim\": model.embedding_dim,\n",
    "    \"hidden_dim\": model.hidden_dim,\n",
    "    \"learning_rate\": 1e-3,\n",
    "    \"batch_size\": batch_size,\n",
    "    \"epochs\": 100\n",
    "  }\n",
    ")"
   ]
  },
  {
   "cell_type": "markdown",
   "metadata": {},
   "source": [
    "To hook up the model to Weights & Biases, we call the `wandb.watch()` function and instruct it to watch the model."
   ]
  },
  {
   "cell_type": "code",
   "execution_count": null,
   "metadata": {},
   "outputs": [],
   "source": [
    "wandb.watch(model, log=\"all\")"
   ]
  },
  {
   "cell_type": "markdown",
   "metadata": {},
   "source": [
    "We use cross entropy loss as the loss function as it is well suited for multi-class classification tasks, such as this one.\n",
    "\n",
    "As the optimizer we chose AdamW as it has been shown to perform well in practice. Its integrated weight decay is also beneficial as it helps to prevent overfitting."
   ]
  },
  {
   "cell_type": "code",
   "execution_count": 32,
   "metadata": {},
   "outputs": [],
   "source": [
    "criterion = nn.CrossEntropyLoss()\n",
    "optimizer = torch.optim.AdamW(model.parameters(), lr=run.config.learning_rate)"
   ]
  },
  {
   "cell_type": "markdown",
   "metadata": {},
   "source": [
    "Finally, we can train the model: We iterate over the training set and calculate the loss for each batch. We then backpropagate the loss and update the weights of the model. After iterating over the entire training set, we evaluate the model on the validation set and log all relevant metrics to Weights & Biases."
   ]
  },
  {
   "cell_type": "code",
   "execution_count": 33,
   "metadata": {},
   "outputs": [
    {
     "name": "stderr",
     "output_type": "stream",
     "text": [
      "Epoch 100/100: 100%|██████████| 100/100 [04:51<00:00,  2.91s/it, train_loss=0.621, train_acc=0.826, val_acc=0.248]\n"
     ]
    },
    {
     "data": {
      "text/html": [],
      "text/plain": [
       "<IPython.core.display.HTML object>"
      ]
     },
     "metadata": {},
     "output_type": "display_data"
    },
    {
     "data": {
      "text/html": [
       "<br>    <style><br>        .wandb-row {<br>            display: flex;<br>            flex-direction: row;<br>            flex-wrap: wrap;<br>            justify-content: flex-start;<br>            width: 100%;<br>        }<br>        .wandb-col {<br>            display: flex;<br>            flex-direction: column;<br>            flex-basis: 100%;<br>            flex: 1;<br>            padding: 10px;<br>        }<br>    </style><br><div class=\"wandb-row\"><div class=\"wandb-col\"><h3>Run history:</h3><br/><table class=\"wandb\"><tr><td>epoch</td><td>▁▂▂▂▂▂▂▃▃▃▃▃▃▃▃▃▄▄▄▄▄▅▅▅▅▆▆▆▆▆▆▆▇▇▇▇████</td></tr><tr><td>learning_rate</td><td>▁▁▁▁▁▁▁▁▁▁▁▁▁▁▁▁▁▁▁▁▁▁▁▁▁▁▁▁▁▁▁▁▁▁▁▁▁▁▁▁</td></tr><tr><td>train_accuracy</td><td>▁▁▂▂▂▃▃▄▄▄▅▅▅▅▅▆▆▆▆▆▆▆▆▇▇▇▇▇▇▇▇▇▇▇██████</td></tr><tr><td>train_loss</td><td>█████▇▇▇▇▆▆▆▆▆▆▅▅▅▅▃▃▃▃▃▃▃▃▂▂▂▂▂▂▂▂▁▁▁▁▁</td></tr><tr><td>val_accuracy</td><td>▂▂▃▂▄▃▁▃▄▅▆▆▆▄▆▇▆▅▄▇▇▅▆▇▇▇█▇▇▇█▆▆▆▇▇▆▆▆▆</td></tr><tr><td>val_loss</td><td>▁▁▁▁▁▁▁▁▁▁▁▁▂▂▂▂▂▂▂▂▃▃▃▃▄▄▄▅▅▅▅▅▅▅▆▆▆▇▇█</td></tr></table><br/></div><div class=\"wandb-col\"><h3>Run summary:</h3><br/><table class=\"wandb\"><tr><td>epoch</td><td>99</td></tr><tr><td>learning_rate</td><td>0.001</td></tr><tr><td>train_accuracy</td><td>0.82622</td></tr><tr><td>train_loss</td><td>0.62064</td></tr><tr><td>val_accuracy</td><td>0.248</td></tr><tr><td>val_loss</td><td>2.18213</td></tr></table><br/></div></div>"
      ],
      "text/plain": [
       "<IPython.core.display.HTML object>"
      ]
     },
     "metadata": {},
     "output_type": "display_data"
    },
    {
     "data": {
      "text/html": [
       " View run <strong style=\"color:#cdcd00\">word-embedding-qa-2025-03-17T18:32:08</strong> at: <a href='https://wandb.ai/dhodel-hslu-nlp/hslu-fs25-nlp-qa/runs/tsqpu5gp' target=\"_blank\">https://wandb.ai/dhodel-hslu-nlp/hslu-fs25-nlp-qa/runs/tsqpu5gp</a><br> View project at: <a href='https://wandb.ai/dhodel-hslu-nlp/hslu-fs25-nlp-qa' target=\"_blank\">https://wandb.ai/dhodel-hslu-nlp/hslu-fs25-nlp-qa</a><br>Synced 5 W&B file(s), 0 media file(s), 0 artifact file(s) and 0 other file(s)"
      ],
      "text/plain": [
       "<IPython.core.display.HTML object>"
      ]
     },
     "metadata": {},
     "output_type": "display_data"
    },
    {
     "data": {
      "text/html": [
       "Find logs at: <code>./wandb/run-20250317_183208-tsqpu5gp/logs</code>"
      ],
      "text/plain": [
       "<IPython.core.display.HTML object>"
      ]
     },
     "metadata": {},
     "output_type": "display_data"
    }
   ],
   "source": [
    "num_epochs = run.config.epochs\n",
    "\n",
    "for epoch in (pbar := trange(num_epochs)):\n",
    "    pbar.set_description(f\"Epoch {epoch+1}/{num_epochs}\")\n",
    "\n",
    "    model.train()\n",
    "    train_total_loss = 0.0\n",
    "    train_correct = 0\n",
    "    train_total = 0\n",
    "\n",
    "    for question_batch, choices_batch, y_batch in train_loader:\n",
    "        optimizer.zero_grad() # zero all the parameter gradients\n",
    "\n",
    "        question_batch, choices_batch, y_batch = question_batch.to(device), choices_batch.to(device), y_batch.to(device)\n",
    "\n",
    "        # Forward pass\n",
    "        outputs = model(question_batch, choices_batch) # (batch_size, 5)\n",
    "\n",
    "        # Compute loss\n",
    "        train_batch_loss = criterion(outputs, y_batch)\n",
    "        train_total_loss += train_batch_loss.item()\n",
    "\n",
    "        # Compute accuracy\n",
    "        train_predictions = torch.argmax(outputs, dim=1) # get most likely class\n",
    "        train_correct += (train_predictions == y_batch).sum().item() # count correct predictions\n",
    "        train_total += y_batch.size(0) # count total number of examples\n",
    "\n",
    "        # Backward pass\n",
    "        train_batch_loss.backward()\n",
    "        optimizer.step()\n",
    "\n",
    "    # Calculate train statistics\n",
    "    avg_train_loss = train_total_loss / len(train_loader) # average loss per batch\n",
    "    train_accuracy = train_correct / train_total # overall accuracy\n",
    "\n",
    "    # Evaluate\n",
    "    model.eval()\n",
    "    val_correct = 0\n",
    "    val_total  = 0\n",
    "    val_total_loss  = 0\n",
    "\n",
    "    with torch.no_grad():\n",
    "        for question_batch, choices_batch, y_batch in valid_loader:\n",
    "            question_batch, choices_batch, y_batch = question_batch.to(device), choices_batch.to(device), y_batch.to(device)\n",
    "\n",
    "            val_outputs = model(question_batch, choices_batch) # (batch_size, 5)\n",
    "\n",
    "            # Calculate validation loss\n",
    "            val_batch_loss = criterion(val_outputs, y_batch)\n",
    "            val_total_loss += val_batch_loss.item()\n",
    "\n",
    "            val_predictions = torch.argmax(val_outputs, dim=1) # get most likely class\n",
    "            val_correct += (val_predictions == y_batch).sum().item() # count correct predictions\n",
    "            val_total += y_batch.size(0) # count total number of examples\n",
    "\n",
    "    # Calculate validation statistics\n",
    "    avg_val_loss = val_total_loss / len(valid_loader) # average loss per batch\n",
    "    val_accuracy = val_correct / val_total # overall accuracy\n",
    "    \n",
    "    pbar.set_postfix({\"train_loss\": avg_train_loss, \"train_acc\": train_accuracy, \"val_acc\": val_accuracy})\n",
    "\n",
    "    # Log metrics to wandb\n",
    "    wandb.log({\n",
    "        \"epoch\": epoch,\n",
    "        \"train_loss\": avg_train_loss,\n",
    "        \"train_accuracy\": train_accuracy,\n",
    "        \"val_loss\": avg_val_loss,\n",
    "        \"val_accuracy\": val_accuracy,\n",
    "        \"learning_rate\": optimizer.param_groups[0]['lr'], # current learning rate\n",
    "    })\n",
    "\n",
    "wandb.finish()"
   ]
  },
  {
   "cell_type": "markdown",
   "metadata": {},
   "source": [
    "## Evaluation"
   ]
  },
  {
   "cell_type": "code",
   "execution_count": null,
   "metadata": {},
   "outputs": [],
   "source": []
  },
  {
   "cell_type": "markdown",
   "metadata": {},
   "source": [
    "## Interpretation"
   ]
  },
  {
   "cell_type": "code",
   "execution_count": null,
   "metadata": {},
   "outputs": [],
   "source": []
  }
 ],
 "metadata": {
  "kernelspec": {
   "display_name": "nlp-real",
   "language": "python",
   "name": "python3"
  },
  "language_info": {
   "codemirror_mode": {
    "name": "ipython",
    "version": 3
   },
   "file_extension": ".py",
   "mimetype": "text/x-python",
   "name": "python",
   "nbconvert_exporter": "python",
   "pygments_lexer": "ipython3",
   "version": "3.9.21"
  }
 },
 "nbformat": 4,
 "nbformat_minor": 2
}
